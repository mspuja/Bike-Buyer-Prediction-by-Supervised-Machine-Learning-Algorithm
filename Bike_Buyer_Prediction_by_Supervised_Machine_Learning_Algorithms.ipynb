{
  "nbformat": 4,
  "nbformat_minor": 0,
  "metadata": {
    "colab": {
      "provenance": [],
      "collapsed_sections": []
    },
    "kernelspec": {
      "name": "python3",
      "display_name": "Python 3"
    },
    "language_info": {
      "name": "python"
    }
  },
  "cells": [
    {
      "cell_type": "markdown",
      "source": [
        "## **About Dataset** -- **Dataset From KAGGLE**\n",
        "\n",
        "Bike Buyers 1000 Dataset.\n",
        "\n",
        "This dataset has details of 1000 users from different backgrounds and whether or not they buy a bike. This data can be used for prediction models using Machine Learning Algorithms. There are some NA values injected in the dataset. We will use this dataset for Data Cleaning, Exploration, Visualization, and ML prediction.\n",
        "\n",
        "Columns - There are 13 variables in this dataset:\n",
        "\n",
        "ID -> The buyers ID. This ID variable data type are integer.\n",
        "\n",
        "Marital Status -> The buyer’s state of being married or single. This marital status data type are characters.\n",
        "\n",
        "Gender -> The buyer’s state either the buyer are male or female. This gender data type are characters.\n",
        "\n",
        "Income -> Buyer’s income in a certain time. This income variable data type are integer.\n",
        "\n",
        "Children -> The number of children the buyer has. This children variable data type are integer.\n",
        "\n",
        "Education -> Buyer’s education background either Bachelors, Graduate Degree, High School, Partial College, or Partial High School. This education variable data type are character.\n",
        "\n",
        "Occupation -> The buyer’s job or occupation either Clerical, Management, Manual,Professional, or Skilled Manual. This occupation variable data type are character.\n",
        "\n",
        "Home Owner -> Buyer’s state whether the buyer has or does not have their own house. This home owner variable data type are character.\n",
        "\n",
        "Cars -> The number of cars the buyer has. This cars variable data type are integer.\n",
        "\n",
        "Commute Distance -> The distance between the buyer’s house and the buyer’s company. There are 5 categories; 0-1 Miles, 1-2 Miles 10+ Miles, 2-5 Miles, and 5-10 Miles. This commute distance variable data type are character.\n",
        "\n",
        "Region -> Variable that tell us where the buyer lives either at Europe, North America, or Pacific. This region variable data type are character.\n",
        "\n",
        "Age -> The buyer’s age. This age variable data type are integer.\n",
        "\n",
        "Purchased Bike -> (Target variable) Buyer’s state whether the buyer purchased the bike or not. This purchased variable data type are character. It seems we should transform it into binary variable. So, the later 'Purchased Bike' column will contain '0' for 'No' and '1' for 'Yes.\n",
        "\n",
        "\n",
        "\n",
        "\n",
        "\n"
      ],
      "metadata": {
        "id": "PsVVsnMtZr9D"
      }
    },
    {
      "cell_type": "markdown",
      "metadata": {
        "id": "YQvFAoqUvz96"
      },
      "source": [
        "# **Dataset Upload**"
      ]
    },
    {
      "cell_type": "code",
      "metadata": {
        "colab": {
          "base_uri": "https://localhost:8080/",
          "height": 73
        },
        "id": "O5i7u6rV-OFH",
        "outputId": "2bc758f7-b372-4906-d0b5-e55ec18f7c46"
      },
      "source": [
        "from google.colab import files\n",
        "file = files.upload()"
      ],
      "execution_count": null,
      "outputs": [
        {
          "output_type": "display_data",
          "data": {
            "text/plain": [
              "<IPython.core.display.HTML object>"
            ],
            "text/html": [
              "\n",
              "     <input type=\"file\" id=\"files-539fd9f2-e495-431e-842f-0f945ef178fa\" name=\"files[]\" multiple disabled\n",
              "        style=\"border:none\" />\n",
              "     <output id=\"result-539fd9f2-e495-431e-842f-0f945ef178fa\">\n",
              "      Upload widget is only available when the cell has been executed in the\n",
              "      current browser session. Please rerun this cell to enable.\n",
              "      </output>\n",
              "      <script>// Copyright 2017 Google LLC\n",
              "//\n",
              "// Licensed under the Apache License, Version 2.0 (the \"License\");\n",
              "// you may not use this file except in compliance with the License.\n",
              "// You may obtain a copy of the License at\n",
              "//\n",
              "//      http://www.apache.org/licenses/LICENSE-2.0\n",
              "//\n",
              "// Unless required by applicable law or agreed to in writing, software\n",
              "// distributed under the License is distributed on an \"AS IS\" BASIS,\n",
              "// WITHOUT WARRANTIES OR CONDITIONS OF ANY KIND, either express or implied.\n",
              "// See the License for the specific language governing permissions and\n",
              "// limitations under the License.\n",
              "\n",
              "/**\n",
              " * @fileoverview Helpers for google.colab Python module.\n",
              " */\n",
              "(function(scope) {\n",
              "function span(text, styleAttributes = {}) {\n",
              "  const element = document.createElement('span');\n",
              "  element.textContent = text;\n",
              "  for (const key of Object.keys(styleAttributes)) {\n",
              "    element.style[key] = styleAttributes[key];\n",
              "  }\n",
              "  return element;\n",
              "}\n",
              "\n",
              "// Max number of bytes which will be uploaded at a time.\n",
              "const MAX_PAYLOAD_SIZE = 100 * 1024;\n",
              "\n",
              "function _uploadFiles(inputId, outputId) {\n",
              "  const steps = uploadFilesStep(inputId, outputId);\n",
              "  const outputElement = document.getElementById(outputId);\n",
              "  // Cache steps on the outputElement to make it available for the next call\n",
              "  // to uploadFilesContinue from Python.\n",
              "  outputElement.steps = steps;\n",
              "\n",
              "  return _uploadFilesContinue(outputId);\n",
              "}\n",
              "\n",
              "// This is roughly an async generator (not supported in the browser yet),\n",
              "// where there are multiple asynchronous steps and the Python side is going\n",
              "// to poll for completion of each step.\n",
              "// This uses a Promise to block the python side on completion of each step,\n",
              "// then passes the result of the previous step as the input to the next step.\n",
              "function _uploadFilesContinue(outputId) {\n",
              "  const outputElement = document.getElementById(outputId);\n",
              "  const steps = outputElement.steps;\n",
              "\n",
              "  const next = steps.next(outputElement.lastPromiseValue);\n",
              "  return Promise.resolve(next.value.promise).then((value) => {\n",
              "    // Cache the last promise value to make it available to the next\n",
              "    // step of the generator.\n",
              "    outputElement.lastPromiseValue = value;\n",
              "    return next.value.response;\n",
              "  });\n",
              "}\n",
              "\n",
              "/**\n",
              " * Generator function which is called between each async step of the upload\n",
              " * process.\n",
              " * @param {string} inputId Element ID of the input file picker element.\n",
              " * @param {string} outputId Element ID of the output display.\n",
              " * @return {!Iterable<!Object>} Iterable of next steps.\n",
              " */\n",
              "function* uploadFilesStep(inputId, outputId) {\n",
              "  const inputElement = document.getElementById(inputId);\n",
              "  inputElement.disabled = false;\n",
              "\n",
              "  const outputElement = document.getElementById(outputId);\n",
              "  outputElement.innerHTML = '';\n",
              "\n",
              "  const pickedPromise = new Promise((resolve) => {\n",
              "    inputElement.addEventListener('change', (e) => {\n",
              "      resolve(e.target.files);\n",
              "    });\n",
              "  });\n",
              "\n",
              "  const cancel = document.createElement('button');\n",
              "  inputElement.parentElement.appendChild(cancel);\n",
              "  cancel.textContent = 'Cancel upload';\n",
              "  const cancelPromise = new Promise((resolve) => {\n",
              "    cancel.onclick = () => {\n",
              "      resolve(null);\n",
              "    };\n",
              "  });\n",
              "\n",
              "  // Wait for the user to pick the files.\n",
              "  const files = yield {\n",
              "    promise: Promise.race([pickedPromise, cancelPromise]),\n",
              "    response: {\n",
              "      action: 'starting',\n",
              "    }\n",
              "  };\n",
              "\n",
              "  cancel.remove();\n",
              "\n",
              "  // Disable the input element since further picks are not allowed.\n",
              "  inputElement.disabled = true;\n",
              "\n",
              "  if (!files) {\n",
              "    return {\n",
              "      response: {\n",
              "        action: 'complete',\n",
              "      }\n",
              "    };\n",
              "  }\n",
              "\n",
              "  for (const file of files) {\n",
              "    const li = document.createElement('li');\n",
              "    li.append(span(file.name, {fontWeight: 'bold'}));\n",
              "    li.append(span(\n",
              "        `(${file.type || 'n/a'}) - ${file.size} bytes, ` +\n",
              "        `last modified: ${\n",
              "            file.lastModifiedDate ? file.lastModifiedDate.toLocaleDateString() :\n",
              "                                    'n/a'} - `));\n",
              "    const percent = span('0% done');\n",
              "    li.appendChild(percent);\n",
              "\n",
              "    outputElement.appendChild(li);\n",
              "\n",
              "    const fileDataPromise = new Promise((resolve) => {\n",
              "      const reader = new FileReader();\n",
              "      reader.onload = (e) => {\n",
              "        resolve(e.target.result);\n",
              "      };\n",
              "      reader.readAsArrayBuffer(file);\n",
              "    });\n",
              "    // Wait for the data to be ready.\n",
              "    let fileData = yield {\n",
              "      promise: fileDataPromise,\n",
              "      response: {\n",
              "        action: 'continue',\n",
              "      }\n",
              "    };\n",
              "\n",
              "    // Use a chunked sending to avoid message size limits. See b/62115660.\n",
              "    let position = 0;\n",
              "    do {\n",
              "      const length = Math.min(fileData.byteLength - position, MAX_PAYLOAD_SIZE);\n",
              "      const chunk = new Uint8Array(fileData, position, length);\n",
              "      position += length;\n",
              "\n",
              "      const base64 = btoa(String.fromCharCode.apply(null, chunk));\n",
              "      yield {\n",
              "        response: {\n",
              "          action: 'append',\n",
              "          file: file.name,\n",
              "          data: base64,\n",
              "        },\n",
              "      };\n",
              "\n",
              "      let percentDone = fileData.byteLength === 0 ?\n",
              "          100 :\n",
              "          Math.round((position / fileData.byteLength) * 100);\n",
              "      percent.textContent = `${percentDone}% done`;\n",
              "\n",
              "    } while (position < fileData.byteLength);\n",
              "  }\n",
              "\n",
              "  // All done.\n",
              "  yield {\n",
              "    response: {\n",
              "      action: 'complete',\n",
              "    }\n",
              "  };\n",
              "}\n",
              "\n",
              "scope.google = scope.google || {};\n",
              "scope.google.colab = scope.google.colab || {};\n",
              "scope.google.colab._files = {\n",
              "  _uploadFiles,\n",
              "  _uploadFilesContinue,\n",
              "};\n",
              "})(self);\n",
              "</script> "
            ]
          },
          "metadata": {}
        },
        {
          "output_type": "stream",
          "name": "stdout",
          "text": [
            "Saving bike_buyers.csv to bike_buyers.csv\n"
          ]
        }
      ]
    },
    {
      "cell_type": "markdown",
      "source": [
        "# **Importing Libraries**"
      ],
      "metadata": {
        "id": "Sjox4-Wog4bY"
      }
    },
    {
      "cell_type": "code",
      "source": [
        "import pandas as pd\n",
        "import warnings\n",
        "warnings.filterwarnings('ignore')"
      ],
      "metadata": {
        "id": "FWk38oImIMRM"
      },
      "execution_count": null,
      "outputs": []
    },
    {
      "cell_type": "markdown",
      "metadata": {
        "id": "iIH0BjKbvx_D"
      },
      "source": [
        "# **Read Dataset**\n",
        "\n",
        "\n"
      ]
    },
    {
      "cell_type": "code",
      "metadata": {
        "colab": {
          "base_uri": "https://localhost:8080/",
          "height": 250
        },
        "id": "gjHCBAOT-1Si",
        "outputId": "50f92f87-42c6-4612-ed21-86fb26a21fbd"
      },
      "source": [
        "df = pd.read_csv('bike_buyers.csv')\n",
        "df.head()"
      ],
      "execution_count": null,
      "outputs": [
        {
          "output_type": "execute_result",
          "data": {
            "text/plain": [
              "      ID Marital Status  Gender   Income  Children        Education  \\\n",
              "0  12496        Married  Female  40000.0       1.0        Bachelors   \n",
              "1  24107        Married    Male  30000.0       3.0  Partial College   \n",
              "2  14177        Married    Male  80000.0       5.0  Partial College   \n",
              "3  24381         Single     NaN  70000.0       0.0        Bachelors   \n",
              "4  25597         Single    Male  30000.0       0.0        Bachelors   \n",
              "\n",
              "       Occupation Home Owner  Cars Commute Distance   Region   Age  \\\n",
              "0  Skilled Manual        Yes   0.0        0-1 Miles   Europe  42.0   \n",
              "1        Clerical        Yes   1.0        0-1 Miles   Europe  43.0   \n",
              "2    Professional         No   2.0        2-5 Miles   Europe  60.0   \n",
              "3    Professional        Yes   1.0       5-10 Miles  Pacific  41.0   \n",
              "4        Clerical         No   0.0        0-1 Miles   Europe  36.0   \n",
              "\n",
              "  Purchased Bike  \n",
              "0             No  \n",
              "1             No  \n",
              "2             No  \n",
              "3            Yes  \n",
              "4            Yes  "
            ],
            "text/html": [
              "\n",
              "  <div id=\"df-c39332c6-0931-4464-a2c1-242111983d43\">\n",
              "    <div class=\"colab-df-container\">\n",
              "      <div>\n",
              "<style scoped>\n",
              "    .dataframe tbody tr th:only-of-type {\n",
              "        vertical-align: middle;\n",
              "    }\n",
              "\n",
              "    .dataframe tbody tr th {\n",
              "        vertical-align: top;\n",
              "    }\n",
              "\n",
              "    .dataframe thead th {\n",
              "        text-align: right;\n",
              "    }\n",
              "</style>\n",
              "<table border=\"1\" class=\"dataframe\">\n",
              "  <thead>\n",
              "    <tr style=\"text-align: right;\">\n",
              "      <th></th>\n",
              "      <th>ID</th>\n",
              "      <th>Marital Status</th>\n",
              "      <th>Gender</th>\n",
              "      <th>Income</th>\n",
              "      <th>Children</th>\n",
              "      <th>Education</th>\n",
              "      <th>Occupation</th>\n",
              "      <th>Home Owner</th>\n",
              "      <th>Cars</th>\n",
              "      <th>Commute Distance</th>\n",
              "      <th>Region</th>\n",
              "      <th>Age</th>\n",
              "      <th>Purchased Bike</th>\n",
              "    </tr>\n",
              "  </thead>\n",
              "  <tbody>\n",
              "    <tr>\n",
              "      <th>0</th>\n",
              "      <td>12496</td>\n",
              "      <td>Married</td>\n",
              "      <td>Female</td>\n",
              "      <td>40000.0</td>\n",
              "      <td>1.0</td>\n",
              "      <td>Bachelors</td>\n",
              "      <td>Skilled Manual</td>\n",
              "      <td>Yes</td>\n",
              "      <td>0.0</td>\n",
              "      <td>0-1 Miles</td>\n",
              "      <td>Europe</td>\n",
              "      <td>42.0</td>\n",
              "      <td>No</td>\n",
              "    </tr>\n",
              "    <tr>\n",
              "      <th>1</th>\n",
              "      <td>24107</td>\n",
              "      <td>Married</td>\n",
              "      <td>Male</td>\n",
              "      <td>30000.0</td>\n",
              "      <td>3.0</td>\n",
              "      <td>Partial College</td>\n",
              "      <td>Clerical</td>\n",
              "      <td>Yes</td>\n",
              "      <td>1.0</td>\n",
              "      <td>0-1 Miles</td>\n",
              "      <td>Europe</td>\n",
              "      <td>43.0</td>\n",
              "      <td>No</td>\n",
              "    </tr>\n",
              "    <tr>\n",
              "      <th>2</th>\n",
              "      <td>14177</td>\n",
              "      <td>Married</td>\n",
              "      <td>Male</td>\n",
              "      <td>80000.0</td>\n",
              "      <td>5.0</td>\n",
              "      <td>Partial College</td>\n",
              "      <td>Professional</td>\n",
              "      <td>No</td>\n",
              "      <td>2.0</td>\n",
              "      <td>2-5 Miles</td>\n",
              "      <td>Europe</td>\n",
              "      <td>60.0</td>\n",
              "      <td>No</td>\n",
              "    </tr>\n",
              "    <tr>\n",
              "      <th>3</th>\n",
              "      <td>24381</td>\n",
              "      <td>Single</td>\n",
              "      <td>NaN</td>\n",
              "      <td>70000.0</td>\n",
              "      <td>0.0</td>\n",
              "      <td>Bachelors</td>\n",
              "      <td>Professional</td>\n",
              "      <td>Yes</td>\n",
              "      <td>1.0</td>\n",
              "      <td>5-10 Miles</td>\n",
              "      <td>Pacific</td>\n",
              "      <td>41.0</td>\n",
              "      <td>Yes</td>\n",
              "    </tr>\n",
              "    <tr>\n",
              "      <th>4</th>\n",
              "      <td>25597</td>\n",
              "      <td>Single</td>\n",
              "      <td>Male</td>\n",
              "      <td>30000.0</td>\n",
              "      <td>0.0</td>\n",
              "      <td>Bachelors</td>\n",
              "      <td>Clerical</td>\n",
              "      <td>No</td>\n",
              "      <td>0.0</td>\n",
              "      <td>0-1 Miles</td>\n",
              "      <td>Europe</td>\n",
              "      <td>36.0</td>\n",
              "      <td>Yes</td>\n",
              "    </tr>\n",
              "  </tbody>\n",
              "</table>\n",
              "</div>\n",
              "      <button class=\"colab-df-convert\" onclick=\"convertToInteractive('df-c39332c6-0931-4464-a2c1-242111983d43')\"\n",
              "              title=\"Convert this dataframe to an interactive table.\"\n",
              "              style=\"display:none;\">\n",
              "        \n",
              "  <svg xmlns=\"http://www.w3.org/2000/svg\" height=\"24px\"viewBox=\"0 0 24 24\"\n",
              "       width=\"24px\">\n",
              "    <path d=\"M0 0h24v24H0V0z\" fill=\"none\"/>\n",
              "    <path d=\"M18.56 5.44l.94 2.06.94-2.06 2.06-.94-2.06-.94-.94-2.06-.94 2.06-2.06.94zm-11 1L8.5 8.5l.94-2.06 2.06-.94-2.06-.94L8.5 2.5l-.94 2.06-2.06.94zm10 10l.94 2.06.94-2.06 2.06-.94-2.06-.94-.94-2.06-.94 2.06-2.06.94z\"/><path d=\"M17.41 7.96l-1.37-1.37c-.4-.4-.92-.59-1.43-.59-.52 0-1.04.2-1.43.59L10.3 9.45l-7.72 7.72c-.78.78-.78 2.05 0 2.83L4 21.41c.39.39.9.59 1.41.59.51 0 1.02-.2 1.41-.59l7.78-7.78 2.81-2.81c.8-.78.8-2.07 0-2.86zM5.41 20L4 18.59l7.72-7.72 1.47 1.35L5.41 20z\"/>\n",
              "  </svg>\n",
              "      </button>\n",
              "      \n",
              "  <style>\n",
              "    .colab-df-container {\n",
              "      display:flex;\n",
              "      flex-wrap:wrap;\n",
              "      gap: 12px;\n",
              "    }\n",
              "\n",
              "    .colab-df-convert {\n",
              "      background-color: #E8F0FE;\n",
              "      border: none;\n",
              "      border-radius: 50%;\n",
              "      cursor: pointer;\n",
              "      display: none;\n",
              "      fill: #1967D2;\n",
              "      height: 32px;\n",
              "      padding: 0 0 0 0;\n",
              "      width: 32px;\n",
              "    }\n",
              "\n",
              "    .colab-df-convert:hover {\n",
              "      background-color: #E2EBFA;\n",
              "      box-shadow: 0px 1px 2px rgba(60, 64, 67, 0.3), 0px 1px 3px 1px rgba(60, 64, 67, 0.15);\n",
              "      fill: #174EA6;\n",
              "    }\n",
              "\n",
              "    [theme=dark] .colab-df-convert {\n",
              "      background-color: #3B4455;\n",
              "      fill: #D2E3FC;\n",
              "    }\n",
              "\n",
              "    [theme=dark] .colab-df-convert:hover {\n",
              "      background-color: #434B5C;\n",
              "      box-shadow: 0px 1px 3px 1px rgba(0, 0, 0, 0.15);\n",
              "      filter: drop-shadow(0px 1px 2px rgba(0, 0, 0, 0.3));\n",
              "      fill: #FFFFFF;\n",
              "    }\n",
              "  </style>\n",
              "\n",
              "      <script>\n",
              "        const buttonEl =\n",
              "          document.querySelector('#df-c39332c6-0931-4464-a2c1-242111983d43 button.colab-df-convert');\n",
              "        buttonEl.style.display =\n",
              "          google.colab.kernel.accessAllowed ? 'block' : 'none';\n",
              "\n",
              "        async function convertToInteractive(key) {\n",
              "          const element = document.querySelector('#df-c39332c6-0931-4464-a2c1-242111983d43');\n",
              "          const dataTable =\n",
              "            await google.colab.kernel.invokeFunction('convertToInteractive',\n",
              "                                                     [key], {});\n",
              "          if (!dataTable) return;\n",
              "\n",
              "          const docLinkHtml = 'Like what you see? Visit the ' +\n",
              "            '<a target=\"_blank\" href=https://colab.research.google.com/notebooks/data_table.ipynb>data table notebook</a>'\n",
              "            + ' to learn more about interactive tables.';\n",
              "          element.innerHTML = '';\n",
              "          dataTable['output_type'] = 'display_data';\n",
              "          await google.colab.output.renderOutput(dataTable, element);\n",
              "          const docLink = document.createElement('div');\n",
              "          docLink.innerHTML = docLinkHtml;\n",
              "          element.appendChild(docLink);\n",
              "        }\n",
              "      </script>\n",
              "    </div>\n",
              "  </div>\n",
              "  "
            ]
          },
          "metadata": {},
          "execution_count": 3
        }
      ]
    },
    {
      "cell_type": "markdown",
      "metadata": {
        "id": "fwzoHQYwxD3E"
      },
      "source": [
        "# **Dataset Information**"
      ]
    },
    {
      "cell_type": "code",
      "metadata": {
        "colab": {
          "base_uri": "https://localhost:8080/"
        },
        "id": "zJJPBIYe_HDy",
        "outputId": "b800d749-fd67-494d-dd2c-6afdaabedbb2"
      },
      "source": [
        "df.info()"
      ],
      "execution_count": null,
      "outputs": [
        {
          "output_type": "stream",
          "name": "stdout",
          "text": [
            "<class 'pandas.core.frame.DataFrame'>\n",
            "RangeIndex: 1000 entries, 0 to 999\n",
            "Data columns (total 13 columns):\n",
            " #   Column            Non-Null Count  Dtype  \n",
            "---  ------            --------------  -----  \n",
            " 0   ID                1000 non-null   int64  \n",
            " 1   Marital Status    993 non-null    object \n",
            " 2   Gender            989 non-null    object \n",
            " 3   Income            994 non-null    float64\n",
            " 4   Children          992 non-null    float64\n",
            " 5   Education         1000 non-null   object \n",
            " 6   Occupation        1000 non-null   object \n",
            " 7   Home Owner        996 non-null    object \n",
            " 8   Cars              991 non-null    float64\n",
            " 9   Commute Distance  1000 non-null   object \n",
            " 10  Region            1000 non-null   object \n",
            " 11  Age               992 non-null    float64\n",
            " 12  Purchased Bike    1000 non-null   object \n",
            "dtypes: float64(4), int64(1), object(8)\n",
            "memory usage: 101.7+ KB\n"
          ]
        }
      ]
    },
    {
      "cell_type": "markdown",
      "metadata": {
        "id": "SwPe_1HAxI0P"
      },
      "source": [
        "**Here it is only showing the Numerical correlation of column not the categorical**"
      ]
    },
    {
      "cell_type": "code",
      "metadata": {
        "colab": {
          "base_uri": "https://localhost:8080/",
          "height": 206
        },
        "id": "Myr7brFLvt3S",
        "outputId": "696e4d90-5418-41a9-e4ab-4ba4ea61ff0c"
      },
      "source": [
        "df.corr()"
      ],
      "execution_count": null,
      "outputs": [
        {
          "output_type": "execute_result",
          "data": {
            "text/plain": [
              "                ID    Income  Children      Cars       Age\n",
              "ID        1.000000 -0.075081 -0.028747  0.022125 -0.054238\n",
              "Income   -0.075081  1.000000  0.261053  0.439980  0.170845\n",
              "Children -0.028747  0.261053  1.000000  0.280243  0.531668\n",
              "Cars      0.022125  0.439980  0.280243  1.000000  0.186398\n",
              "Age      -0.054238  0.170845  0.531668  0.186398  1.000000"
            ],
            "text/html": [
              "\n",
              "  <div id=\"df-12dd9530-63bf-4e06-9afc-a78740d6a4af\">\n",
              "    <div class=\"colab-df-container\">\n",
              "      <div>\n",
              "<style scoped>\n",
              "    .dataframe tbody tr th:only-of-type {\n",
              "        vertical-align: middle;\n",
              "    }\n",
              "\n",
              "    .dataframe tbody tr th {\n",
              "        vertical-align: top;\n",
              "    }\n",
              "\n",
              "    .dataframe thead th {\n",
              "        text-align: right;\n",
              "    }\n",
              "</style>\n",
              "<table border=\"1\" class=\"dataframe\">\n",
              "  <thead>\n",
              "    <tr style=\"text-align: right;\">\n",
              "      <th></th>\n",
              "      <th>ID</th>\n",
              "      <th>Income</th>\n",
              "      <th>Children</th>\n",
              "      <th>Cars</th>\n",
              "      <th>Age</th>\n",
              "    </tr>\n",
              "  </thead>\n",
              "  <tbody>\n",
              "    <tr>\n",
              "      <th>ID</th>\n",
              "      <td>1.000000</td>\n",
              "      <td>-0.075081</td>\n",
              "      <td>-0.028747</td>\n",
              "      <td>0.022125</td>\n",
              "      <td>-0.054238</td>\n",
              "    </tr>\n",
              "    <tr>\n",
              "      <th>Income</th>\n",
              "      <td>-0.075081</td>\n",
              "      <td>1.000000</td>\n",
              "      <td>0.261053</td>\n",
              "      <td>0.439980</td>\n",
              "      <td>0.170845</td>\n",
              "    </tr>\n",
              "    <tr>\n",
              "      <th>Children</th>\n",
              "      <td>-0.028747</td>\n",
              "      <td>0.261053</td>\n",
              "      <td>1.000000</td>\n",
              "      <td>0.280243</td>\n",
              "      <td>0.531668</td>\n",
              "    </tr>\n",
              "    <tr>\n",
              "      <th>Cars</th>\n",
              "      <td>0.022125</td>\n",
              "      <td>0.439980</td>\n",
              "      <td>0.280243</td>\n",
              "      <td>1.000000</td>\n",
              "      <td>0.186398</td>\n",
              "    </tr>\n",
              "    <tr>\n",
              "      <th>Age</th>\n",
              "      <td>-0.054238</td>\n",
              "      <td>0.170845</td>\n",
              "      <td>0.531668</td>\n",
              "      <td>0.186398</td>\n",
              "      <td>1.000000</td>\n",
              "    </tr>\n",
              "  </tbody>\n",
              "</table>\n",
              "</div>\n",
              "      <button class=\"colab-df-convert\" onclick=\"convertToInteractive('df-12dd9530-63bf-4e06-9afc-a78740d6a4af')\"\n",
              "              title=\"Convert this dataframe to an interactive table.\"\n",
              "              style=\"display:none;\">\n",
              "        \n",
              "  <svg xmlns=\"http://www.w3.org/2000/svg\" height=\"24px\"viewBox=\"0 0 24 24\"\n",
              "       width=\"24px\">\n",
              "    <path d=\"M0 0h24v24H0V0z\" fill=\"none\"/>\n",
              "    <path d=\"M18.56 5.44l.94 2.06.94-2.06 2.06-.94-2.06-.94-.94-2.06-.94 2.06-2.06.94zm-11 1L8.5 8.5l.94-2.06 2.06-.94-2.06-.94L8.5 2.5l-.94 2.06-2.06.94zm10 10l.94 2.06.94-2.06 2.06-.94-2.06-.94-.94-2.06-.94 2.06-2.06.94z\"/><path d=\"M17.41 7.96l-1.37-1.37c-.4-.4-.92-.59-1.43-.59-.52 0-1.04.2-1.43.59L10.3 9.45l-7.72 7.72c-.78.78-.78 2.05 0 2.83L4 21.41c.39.39.9.59 1.41.59.51 0 1.02-.2 1.41-.59l7.78-7.78 2.81-2.81c.8-.78.8-2.07 0-2.86zM5.41 20L4 18.59l7.72-7.72 1.47 1.35L5.41 20z\"/>\n",
              "  </svg>\n",
              "      </button>\n",
              "      \n",
              "  <style>\n",
              "    .colab-df-container {\n",
              "      display:flex;\n",
              "      flex-wrap:wrap;\n",
              "      gap: 12px;\n",
              "    }\n",
              "\n",
              "    .colab-df-convert {\n",
              "      background-color: #E8F0FE;\n",
              "      border: none;\n",
              "      border-radius: 50%;\n",
              "      cursor: pointer;\n",
              "      display: none;\n",
              "      fill: #1967D2;\n",
              "      height: 32px;\n",
              "      padding: 0 0 0 0;\n",
              "      width: 32px;\n",
              "    }\n",
              "\n",
              "    .colab-df-convert:hover {\n",
              "      background-color: #E2EBFA;\n",
              "      box-shadow: 0px 1px 2px rgba(60, 64, 67, 0.3), 0px 1px 3px 1px rgba(60, 64, 67, 0.15);\n",
              "      fill: #174EA6;\n",
              "    }\n",
              "\n",
              "    [theme=dark] .colab-df-convert {\n",
              "      background-color: #3B4455;\n",
              "      fill: #D2E3FC;\n",
              "    }\n",
              "\n",
              "    [theme=dark] .colab-df-convert:hover {\n",
              "      background-color: #434B5C;\n",
              "      box-shadow: 0px 1px 3px 1px rgba(0, 0, 0, 0.15);\n",
              "      filter: drop-shadow(0px 1px 2px rgba(0, 0, 0, 0.3));\n",
              "      fill: #FFFFFF;\n",
              "    }\n",
              "  </style>\n",
              "\n",
              "      <script>\n",
              "        const buttonEl =\n",
              "          document.querySelector('#df-12dd9530-63bf-4e06-9afc-a78740d6a4af button.colab-df-convert');\n",
              "        buttonEl.style.display =\n",
              "          google.colab.kernel.accessAllowed ? 'block' : 'none';\n",
              "\n",
              "        async function convertToInteractive(key) {\n",
              "          const element = document.querySelector('#df-12dd9530-63bf-4e06-9afc-a78740d6a4af');\n",
              "          const dataTable =\n",
              "            await google.colab.kernel.invokeFunction('convertToInteractive',\n",
              "                                                     [key], {});\n",
              "          if (!dataTable) return;\n",
              "\n",
              "          const docLinkHtml = 'Like what you see? Visit the ' +\n",
              "            '<a target=\"_blank\" href=https://colab.research.google.com/notebooks/data_table.ipynb>data table notebook</a>'\n",
              "            + ' to learn more about interactive tables.';\n",
              "          element.innerHTML = '';\n",
              "          dataTable['output_type'] = 'display_data';\n",
              "          await google.colab.output.renderOutput(dataTable, element);\n",
              "          const docLink = document.createElement('div');\n",
              "          docLink.innerHTML = docLinkHtml;\n",
              "          element.appendChild(docLink);\n",
              "        }\n",
              "      </script>\n",
              "    </div>\n",
              "  </div>\n",
              "  "
            ]
          },
          "metadata": {},
          "execution_count": 5
        }
      ]
    },
    {
      "cell_type": "markdown",
      "metadata": {
        "id": "i9Y2NxpHx7KN"
      },
      "source": [
        "# **Unique Values Counts For Categorical Column**"
      ]
    },
    {
      "cell_type": "code",
      "metadata": {
        "colab": {
          "base_uri": "https://localhost:8080/"
        },
        "id": "DsiF6ZkWyBkt",
        "outputId": "5de2185f-8a2b-4722-ad8d-00f879aeb634"
      },
      "source": [
        "df['Marital Status'].value_counts()"
      ],
      "execution_count": null,
      "outputs": [
        {
          "output_type": "execute_result",
          "data": {
            "text/plain": [
              "Married    535\n",
              "Single     458\n",
              "Name: Marital Status, dtype: int64"
            ]
          },
          "metadata": {},
          "execution_count": 6
        }
      ]
    },
    {
      "cell_type": "code",
      "metadata": {
        "colab": {
          "base_uri": "https://localhost:8080/"
        },
        "id": "yP4CwdLjyQfu",
        "outputId": "97e6963c-bf80-46bc-b73a-49b218f61282"
      },
      "source": [
        "df['Gender'].value_counts()"
      ],
      "execution_count": null,
      "outputs": [
        {
          "output_type": "execute_result",
          "data": {
            "text/plain": [
              "Male      500\n",
              "Female    489\n",
              "Name: Gender, dtype: int64"
            ]
          },
          "metadata": {},
          "execution_count": 7
        }
      ]
    },
    {
      "cell_type": "code",
      "metadata": {
        "colab": {
          "base_uri": "https://localhost:8080/"
        },
        "id": "Vdl7gl5PyYUQ",
        "outputId": "76c9022d-4cbd-412c-fbb4-694aed65a7db"
      },
      "source": [
        "df['Home Owner'].value_counts()"
      ],
      "execution_count": null,
      "outputs": [
        {
          "output_type": "execute_result",
          "data": {
            "text/plain": [
              "Yes    682\n",
              "No     314\n",
              "Name: Home Owner, dtype: int64"
            ]
          },
          "metadata": {},
          "execution_count": 8
        }
      ]
    },
    {
      "cell_type": "markdown",
      "metadata": {
        "id": "lJlmr6uHxkoM"
      },
      "source": [
        "**Replaceing the MISSING Categorical Data into Text data**"
      ]
    },
    {
      "cell_type": "code",
      "metadata": {
        "id": "gANfnmlSx1Yr"
      },
      "source": [
        "df['Marital Status'].fillna('Not Known', inplace = True)\n",
        "df['Gender'].fillna('Not Known', inplace = True)\n",
        "df['Home Owner'].fillna('Not Known', inplace = True)"
      ],
      "execution_count": null,
      "outputs": []
    },
    {
      "cell_type": "code",
      "metadata": {
        "colab": {
          "base_uri": "https://localhost:8080/",
          "height": 606
        },
        "id": "1cdnHfaCzLm-",
        "outputId": "48863f92-915e-4dcf-df83-cbd4bbeb8c2e"
      },
      "source": [
        "df"
      ],
      "execution_count": null,
      "outputs": [
        {
          "output_type": "execute_result",
          "data": {
            "text/plain": [
              "        ID Marital Status     Gender    Income  Children        Education  \\\n",
              "0    12496        Married     Female   40000.0       1.0        Bachelors   \n",
              "1    24107        Married       Male   30000.0       3.0  Partial College   \n",
              "2    14177        Married       Male   80000.0       5.0  Partial College   \n",
              "3    24381         Single  Not Known   70000.0       0.0        Bachelors   \n",
              "4    25597         Single       Male   30000.0       0.0        Bachelors   \n",
              "..     ...            ...        ...       ...       ...              ...   \n",
              "995  23731        Married       Male   60000.0       2.0      High School   \n",
              "996  28672         Single       Male   70000.0       4.0  Graduate Degree   \n",
              "997  11809        Married  Not Known   60000.0       2.0        Bachelors   \n",
              "998  19664         Single       Male  100000.0       3.0        Bachelors   \n",
              "999  12121         Single       Male   60000.0       3.0      High School   \n",
              "\n",
              "         Occupation Home Owner  Cars Commute Distance         Region   Age  \\\n",
              "0    Skilled Manual        Yes   0.0        0-1 Miles         Europe  42.0   \n",
              "1          Clerical        Yes   1.0        0-1 Miles         Europe  43.0   \n",
              "2      Professional         No   2.0        2-5 Miles         Europe  60.0   \n",
              "3      Professional        Yes   1.0       5-10 Miles        Pacific  41.0   \n",
              "4          Clerical         No   0.0        0-1 Miles         Europe  36.0   \n",
              "..              ...        ...   ...              ...            ...   ...   \n",
              "995    Professional        Yes   2.0        2-5 Miles  North America  54.0   \n",
              "996    Professional        Yes   0.0        2-5 Miles  North America  35.0   \n",
              "997  Skilled Manual        Yes   0.0        0-1 Miles  North America  38.0   \n",
              "998      Management         No   3.0        1-2 Miles  North America  38.0   \n",
              "999    Professional        Yes   2.0        10+ Miles  North America  53.0   \n",
              "\n",
              "    Purchased Bike  \n",
              "0               No  \n",
              "1               No  \n",
              "2               No  \n",
              "3              Yes  \n",
              "4              Yes  \n",
              "..             ...  \n",
              "995            Yes  \n",
              "996            Yes  \n",
              "997            Yes  \n",
              "998             No  \n",
              "999            Yes  \n",
              "\n",
              "[1000 rows x 13 columns]"
            ],
            "text/html": [
              "\n",
              "  <div id=\"df-badc290f-a99a-4025-bba8-dde4bbedca89\">\n",
              "    <div class=\"colab-df-container\">\n",
              "      <div>\n",
              "<style scoped>\n",
              "    .dataframe tbody tr th:only-of-type {\n",
              "        vertical-align: middle;\n",
              "    }\n",
              "\n",
              "    .dataframe tbody tr th {\n",
              "        vertical-align: top;\n",
              "    }\n",
              "\n",
              "    .dataframe thead th {\n",
              "        text-align: right;\n",
              "    }\n",
              "</style>\n",
              "<table border=\"1\" class=\"dataframe\">\n",
              "  <thead>\n",
              "    <tr style=\"text-align: right;\">\n",
              "      <th></th>\n",
              "      <th>ID</th>\n",
              "      <th>Marital Status</th>\n",
              "      <th>Gender</th>\n",
              "      <th>Income</th>\n",
              "      <th>Children</th>\n",
              "      <th>Education</th>\n",
              "      <th>Occupation</th>\n",
              "      <th>Home Owner</th>\n",
              "      <th>Cars</th>\n",
              "      <th>Commute Distance</th>\n",
              "      <th>Region</th>\n",
              "      <th>Age</th>\n",
              "      <th>Purchased Bike</th>\n",
              "    </tr>\n",
              "  </thead>\n",
              "  <tbody>\n",
              "    <tr>\n",
              "      <th>0</th>\n",
              "      <td>12496</td>\n",
              "      <td>Married</td>\n",
              "      <td>Female</td>\n",
              "      <td>40000.0</td>\n",
              "      <td>1.0</td>\n",
              "      <td>Bachelors</td>\n",
              "      <td>Skilled Manual</td>\n",
              "      <td>Yes</td>\n",
              "      <td>0.0</td>\n",
              "      <td>0-1 Miles</td>\n",
              "      <td>Europe</td>\n",
              "      <td>42.0</td>\n",
              "      <td>No</td>\n",
              "    </tr>\n",
              "    <tr>\n",
              "      <th>1</th>\n",
              "      <td>24107</td>\n",
              "      <td>Married</td>\n",
              "      <td>Male</td>\n",
              "      <td>30000.0</td>\n",
              "      <td>3.0</td>\n",
              "      <td>Partial College</td>\n",
              "      <td>Clerical</td>\n",
              "      <td>Yes</td>\n",
              "      <td>1.0</td>\n",
              "      <td>0-1 Miles</td>\n",
              "      <td>Europe</td>\n",
              "      <td>43.0</td>\n",
              "      <td>No</td>\n",
              "    </tr>\n",
              "    <tr>\n",
              "      <th>2</th>\n",
              "      <td>14177</td>\n",
              "      <td>Married</td>\n",
              "      <td>Male</td>\n",
              "      <td>80000.0</td>\n",
              "      <td>5.0</td>\n",
              "      <td>Partial College</td>\n",
              "      <td>Professional</td>\n",
              "      <td>No</td>\n",
              "      <td>2.0</td>\n",
              "      <td>2-5 Miles</td>\n",
              "      <td>Europe</td>\n",
              "      <td>60.0</td>\n",
              "      <td>No</td>\n",
              "    </tr>\n",
              "    <tr>\n",
              "      <th>3</th>\n",
              "      <td>24381</td>\n",
              "      <td>Single</td>\n",
              "      <td>Not Known</td>\n",
              "      <td>70000.0</td>\n",
              "      <td>0.0</td>\n",
              "      <td>Bachelors</td>\n",
              "      <td>Professional</td>\n",
              "      <td>Yes</td>\n",
              "      <td>1.0</td>\n",
              "      <td>5-10 Miles</td>\n",
              "      <td>Pacific</td>\n",
              "      <td>41.0</td>\n",
              "      <td>Yes</td>\n",
              "    </tr>\n",
              "    <tr>\n",
              "      <th>4</th>\n",
              "      <td>25597</td>\n",
              "      <td>Single</td>\n",
              "      <td>Male</td>\n",
              "      <td>30000.0</td>\n",
              "      <td>0.0</td>\n",
              "      <td>Bachelors</td>\n",
              "      <td>Clerical</td>\n",
              "      <td>No</td>\n",
              "      <td>0.0</td>\n",
              "      <td>0-1 Miles</td>\n",
              "      <td>Europe</td>\n",
              "      <td>36.0</td>\n",
              "      <td>Yes</td>\n",
              "    </tr>\n",
              "    <tr>\n",
              "      <th>...</th>\n",
              "      <td>...</td>\n",
              "      <td>...</td>\n",
              "      <td>...</td>\n",
              "      <td>...</td>\n",
              "      <td>...</td>\n",
              "      <td>...</td>\n",
              "      <td>...</td>\n",
              "      <td>...</td>\n",
              "      <td>...</td>\n",
              "      <td>...</td>\n",
              "      <td>...</td>\n",
              "      <td>...</td>\n",
              "      <td>...</td>\n",
              "    </tr>\n",
              "    <tr>\n",
              "      <th>995</th>\n",
              "      <td>23731</td>\n",
              "      <td>Married</td>\n",
              "      <td>Male</td>\n",
              "      <td>60000.0</td>\n",
              "      <td>2.0</td>\n",
              "      <td>High School</td>\n",
              "      <td>Professional</td>\n",
              "      <td>Yes</td>\n",
              "      <td>2.0</td>\n",
              "      <td>2-5 Miles</td>\n",
              "      <td>North America</td>\n",
              "      <td>54.0</td>\n",
              "      <td>Yes</td>\n",
              "    </tr>\n",
              "    <tr>\n",
              "      <th>996</th>\n",
              "      <td>28672</td>\n",
              "      <td>Single</td>\n",
              "      <td>Male</td>\n",
              "      <td>70000.0</td>\n",
              "      <td>4.0</td>\n",
              "      <td>Graduate Degree</td>\n",
              "      <td>Professional</td>\n",
              "      <td>Yes</td>\n",
              "      <td>0.0</td>\n",
              "      <td>2-5 Miles</td>\n",
              "      <td>North America</td>\n",
              "      <td>35.0</td>\n",
              "      <td>Yes</td>\n",
              "    </tr>\n",
              "    <tr>\n",
              "      <th>997</th>\n",
              "      <td>11809</td>\n",
              "      <td>Married</td>\n",
              "      <td>Not Known</td>\n",
              "      <td>60000.0</td>\n",
              "      <td>2.0</td>\n",
              "      <td>Bachelors</td>\n",
              "      <td>Skilled Manual</td>\n",
              "      <td>Yes</td>\n",
              "      <td>0.0</td>\n",
              "      <td>0-1 Miles</td>\n",
              "      <td>North America</td>\n",
              "      <td>38.0</td>\n",
              "      <td>Yes</td>\n",
              "    </tr>\n",
              "    <tr>\n",
              "      <th>998</th>\n",
              "      <td>19664</td>\n",
              "      <td>Single</td>\n",
              "      <td>Male</td>\n",
              "      <td>100000.0</td>\n",
              "      <td>3.0</td>\n",
              "      <td>Bachelors</td>\n",
              "      <td>Management</td>\n",
              "      <td>No</td>\n",
              "      <td>3.0</td>\n",
              "      <td>1-2 Miles</td>\n",
              "      <td>North America</td>\n",
              "      <td>38.0</td>\n",
              "      <td>No</td>\n",
              "    </tr>\n",
              "    <tr>\n",
              "      <th>999</th>\n",
              "      <td>12121</td>\n",
              "      <td>Single</td>\n",
              "      <td>Male</td>\n",
              "      <td>60000.0</td>\n",
              "      <td>3.0</td>\n",
              "      <td>High School</td>\n",
              "      <td>Professional</td>\n",
              "      <td>Yes</td>\n",
              "      <td>2.0</td>\n",
              "      <td>10+ Miles</td>\n",
              "      <td>North America</td>\n",
              "      <td>53.0</td>\n",
              "      <td>Yes</td>\n",
              "    </tr>\n",
              "  </tbody>\n",
              "</table>\n",
              "<p>1000 rows × 13 columns</p>\n",
              "</div>\n",
              "      <button class=\"colab-df-convert\" onclick=\"convertToInteractive('df-badc290f-a99a-4025-bba8-dde4bbedca89')\"\n",
              "              title=\"Convert this dataframe to an interactive table.\"\n",
              "              style=\"display:none;\">\n",
              "        \n",
              "  <svg xmlns=\"http://www.w3.org/2000/svg\" height=\"24px\"viewBox=\"0 0 24 24\"\n",
              "       width=\"24px\">\n",
              "    <path d=\"M0 0h24v24H0V0z\" fill=\"none\"/>\n",
              "    <path d=\"M18.56 5.44l.94 2.06.94-2.06 2.06-.94-2.06-.94-.94-2.06-.94 2.06-2.06.94zm-11 1L8.5 8.5l.94-2.06 2.06-.94-2.06-.94L8.5 2.5l-.94 2.06-2.06.94zm10 10l.94 2.06.94-2.06 2.06-.94-2.06-.94-.94-2.06-.94 2.06-2.06.94z\"/><path d=\"M17.41 7.96l-1.37-1.37c-.4-.4-.92-.59-1.43-.59-.52 0-1.04.2-1.43.59L10.3 9.45l-7.72 7.72c-.78.78-.78 2.05 0 2.83L4 21.41c.39.39.9.59 1.41.59.51 0 1.02-.2 1.41-.59l7.78-7.78 2.81-2.81c.8-.78.8-2.07 0-2.86zM5.41 20L4 18.59l7.72-7.72 1.47 1.35L5.41 20z\"/>\n",
              "  </svg>\n",
              "      </button>\n",
              "      \n",
              "  <style>\n",
              "    .colab-df-container {\n",
              "      display:flex;\n",
              "      flex-wrap:wrap;\n",
              "      gap: 12px;\n",
              "    }\n",
              "\n",
              "    .colab-df-convert {\n",
              "      background-color: #E8F0FE;\n",
              "      border: none;\n",
              "      border-radius: 50%;\n",
              "      cursor: pointer;\n",
              "      display: none;\n",
              "      fill: #1967D2;\n",
              "      height: 32px;\n",
              "      padding: 0 0 0 0;\n",
              "      width: 32px;\n",
              "    }\n",
              "\n",
              "    .colab-df-convert:hover {\n",
              "      background-color: #E2EBFA;\n",
              "      box-shadow: 0px 1px 2px rgba(60, 64, 67, 0.3), 0px 1px 3px 1px rgba(60, 64, 67, 0.15);\n",
              "      fill: #174EA6;\n",
              "    }\n",
              "\n",
              "    [theme=dark] .colab-df-convert {\n",
              "      background-color: #3B4455;\n",
              "      fill: #D2E3FC;\n",
              "    }\n",
              "\n",
              "    [theme=dark] .colab-df-convert:hover {\n",
              "      background-color: #434B5C;\n",
              "      box-shadow: 0px 1px 3px 1px rgba(0, 0, 0, 0.15);\n",
              "      filter: drop-shadow(0px 1px 2px rgba(0, 0, 0, 0.3));\n",
              "      fill: #FFFFFF;\n",
              "    }\n",
              "  </style>\n",
              "\n",
              "      <script>\n",
              "        const buttonEl =\n",
              "          document.querySelector('#df-badc290f-a99a-4025-bba8-dde4bbedca89 button.colab-df-convert');\n",
              "        buttonEl.style.display =\n",
              "          google.colab.kernel.accessAllowed ? 'block' : 'none';\n",
              "\n",
              "        async function convertToInteractive(key) {\n",
              "          const element = document.querySelector('#df-badc290f-a99a-4025-bba8-dde4bbedca89');\n",
              "          const dataTable =\n",
              "            await google.colab.kernel.invokeFunction('convertToInteractive',\n",
              "                                                     [key], {});\n",
              "          if (!dataTable) return;\n",
              "\n",
              "          const docLinkHtml = 'Like what you see? Visit the ' +\n",
              "            '<a target=\"_blank\" href=https://colab.research.google.com/notebooks/data_table.ipynb>data table notebook</a>'\n",
              "            + ' to learn more about interactive tables.';\n",
              "          element.innerHTML = '';\n",
              "          dataTable['output_type'] = 'display_data';\n",
              "          await google.colab.output.renderOutput(dataTable, element);\n",
              "          const docLink = document.createElement('div');\n",
              "          docLink.innerHTML = docLinkHtml;\n",
              "          element.appendChild(docLink);\n",
              "        }\n",
              "      </script>\n",
              "    </div>\n",
              "  </div>\n",
              "  "
            ]
          },
          "metadata": {},
          "execution_count": 10
        }
      ]
    },
    {
      "cell_type": "markdown",
      "metadata": {
        "id": "bx855GFWzWPL"
      },
      "source": [
        "**Checking the counts for above three columns to see if they fiiled up or not**"
      ]
    },
    {
      "cell_type": "code",
      "metadata": {
        "colab": {
          "base_uri": "https://localhost:8080/"
        },
        "id": "ZHBmIFc9zcnT",
        "outputId": "6364029b-b579-4921-e8b8-dca22f34c355"
      },
      "source": [
        "df.info()"
      ],
      "execution_count": null,
      "outputs": [
        {
          "output_type": "stream",
          "name": "stdout",
          "text": [
            "<class 'pandas.core.frame.DataFrame'>\n",
            "RangeIndex: 1000 entries, 0 to 999\n",
            "Data columns (total 13 columns):\n",
            " #   Column            Non-Null Count  Dtype  \n",
            "---  ------            --------------  -----  \n",
            " 0   ID                1000 non-null   int64  \n",
            " 1   Marital Status    1000 non-null   object \n",
            " 2   Gender            1000 non-null   object \n",
            " 3   Income            994 non-null    float64\n",
            " 4   Children          992 non-null    float64\n",
            " 5   Education         1000 non-null   object \n",
            " 6   Occupation        1000 non-null   object \n",
            " 7   Home Owner        1000 non-null   object \n",
            " 8   Cars              991 non-null    float64\n",
            " 9   Commute Distance  1000 non-null   object \n",
            " 10  Region            1000 non-null   object \n",
            " 11  Age               992 non-null    float64\n",
            " 12  Purchased Bike    1000 non-null   object \n",
            "dtypes: float64(4), int64(1), object(8)\n",
            "memory usage: 101.7+ KB\n"
          ]
        }
      ]
    },
    {
      "cell_type": "markdown",
      "source": [
        "# **Handling The Missing Data**"
      ],
      "metadata": {
        "id": "ev9l6A9fTOYi"
      }
    },
    {
      "cell_type": "markdown",
      "source": [
        "**Imputing median and mode for numerical missing data**"
      ],
      "metadata": {
        "id": "dRIMfzDVJVPi"
      }
    },
    {
      "cell_type": "markdown",
      "metadata": {
        "id": "eWeHbK0w5wIu"
      },
      "source": [
        "**Now consider Income column. Here let's analysis income column with other column to fill the Missing value or cleaning the data.**"
      ]
    },
    {
      "cell_type": "code",
      "metadata": {
        "colab": {
          "base_uri": "https://localhost:8080/",
          "height": 357
        },
        "id": "LuwCcyJY5_3K",
        "outputId": "b06dafb8-debc-418e-a046-5786b63c20e4"
      },
      "source": [
        "import seaborn as sns\n",
        "sns.set(rc={'figure.figsize':(10,5)})\n",
        "sns.lineplot(data = df,  x ='Age', y ='Income')"
      ],
      "execution_count": null,
      "outputs": [
        {
          "output_type": "execute_result",
          "data": {
            "text/plain": [
              "<matplotlib.axes._subplots.AxesSubplot at 0x7fdd669f0c90>"
            ]
          },
          "metadata": {},
          "execution_count": 14
        },
        {
          "output_type": "display_data",
          "data": {
            "text/plain": [
              "<Figure size 720x360 with 1 Axes>"
            ],
            "image/png": "[encoded data removed]"
          },
          "metadata": {}
        }
      ]
    },
    {
      "cell_type": "code",
      "metadata": {
        "colab": {
          "base_uri": "https://localhost:8080/",
          "height": 357
        },
        "id": "FTRkVrE_6M3L",
        "outputId": "cc1e1c09-df88-4b30-a562-c0fcdb174024"
      },
      "source": [
        "sns.set(rc={'figure.figsize':(10,5)})\n",
        "sns.lineplot(data = df,  x ='Age',  y ='Income', hue ='Occupation')"
      ],
      "execution_count": null,
      "outputs": [
        {
          "output_type": "execute_result",
          "data": {
            "text/plain": [
              "<matplotlib.axes._subplots.AxesSubplot at 0x7fdd65169f10>"
            ]
          },
          "metadata": {},
          "execution_count": 15
        },
        {
          "output_type": "display_data",
          "data": {
            "text/plain": [
              "<Figure size 720x360 with 1 Axes>"
            ],
            "image/png": "[encoded data removed]"
          },
          "metadata": {}
        }
      ]
    },
    {
      "cell_type": "markdown",
      "metadata": {
        "id": "sZvrcyjS6eHa"
      },
      "source": [
        "**Now Let's analysis the distribution between INCOME and REGION**"
      ]
    },
    {
      "cell_type": "code",
      "metadata": {
        "colab": {
          "base_uri": "https://localhost:8080/",
          "height": 368
        },
        "id": "W96_TsQu6qbX",
        "outputId": "0808223e-a2e0-432c-994d-a307cf0fa393"
      },
      "source": [
        "sns.kdeplot(data = df, x = 'Income', hue = 'Region')"
      ],
      "execution_count": null,
      "outputs": [
        {
          "output_type": "execute_result",
          "data": {
            "text/plain": [
              "<matplotlib.axes._subplots.AxesSubplot at 0x7fdd6516d510>"
            ]
          },
          "metadata": {},
          "execution_count": 16
        },
        {
          "output_type": "display_data",
          "data": {
            "text/plain": [
              "<Figure size 720x360 with 1 Axes>"
            ],
            "image/png": "[encoded data removed]"
          },
          "metadata": {}
        }
      ]
    },
    {
      "cell_type": "markdown",
      "metadata": {
        "id": "_ry5CFDG7XUq"
      },
      "source": [
        "**Now Let's analysis the distribution between INCOME and OCCUPATION**"
      ]
    },
    {
      "cell_type": "code",
      "metadata": {
        "colab": {
          "base_uri": "https://localhost:8080/",
          "height": 368
        },
        "id": "xKPoVXy-7k43",
        "outputId": "a417048a-7788-479e-e7c3-44201c270a38"
      },
      "source": [
        "sns.kdeplot(data = df, x = 'Income', hue = 'Occupation')"
      ],
      "execution_count": null,
      "outputs": [
        {
          "output_type": "execute_result",
          "data": {
            "text/plain": [
              "<matplotlib.axes._subplots.AxesSubplot at 0x7fdd65039210>"
            ]
          },
          "metadata": {},
          "execution_count": 17
        },
        {
          "output_type": "display_data",
          "data": {
            "text/plain": [
              "<Figure size 720x360 with 1 Axes>"
            ],
            "image/png": "[encoded data removed]"
          },
          "metadata": {}
        }
      ]
    },
    {
      "cell_type": "markdown",
      "metadata": {
        "id": "htUOp7pQ9tPo"
      },
      "source": [
        "**Analysing  Region column by Sub plot**"
      ]
    },
    {
      "cell_type": "code",
      "metadata": {
        "colab": {
          "base_uri": "https://localhost:8080/",
          "height": 353
        },
        "id": "FqZDHbzoE71R",
        "outputId": "00e90525-0de5-427a-aee1-5563523d3e33"
      },
      "source": [
        "import matplotlib.pyplot as plt\n",
        "\n",
        "sns.set(rc={'figure.figsize':(20,5)}) # 20 means length and 5 means width of Graph\n",
        "fig, axes = plt.subplots(1,3) # 1 means row(Row of graph) and 3 means column(Europe, North America, and Pacific)\n",
        "\n",
        "sns.kdeplot(data = df[df['Region'] == 'Europe'] , x ='Income', hue = 'Occupation', ax = axes[0])\n",
        "sns.kdeplot(data = df[df['Region'] == 'North America'] , x ='Income', hue = 'Occupation', ax = axes[1])\n",
        "sns.kdeplot(data = df[df['Region'] == 'Pacific'] , x ='Income', hue = 'Occupation', ax = axes[2])"
      ],
      "execution_count": null,
      "outputs": [
        {
          "output_type": "execute_result",
          "data": {
            "text/plain": [
              "<matplotlib.axes._subplots.AxesSubplot at 0x7fdd64f38690>"
            ]
          },
          "metadata": {},
          "execution_count": 18
        },
        {
          "output_type": "display_data",
          "data": {
            "text/plain": [
              "<Figure size 1440x360 with 3 Axes>"
            ],
            "image/png": "[encoded data removed]"
          },
          "metadata": {}
        }
      ]
    },
    {
      "cell_type": "markdown",
      "metadata": {
        "id": "5yX0nk9bLzMJ"
      },
      "source": [
        "Here ax = axes[0] means, Graph no.1\n",
        "ax = axes[1] means, Graph no.2\n",
        "ax = axes[2] means, Graph no.3 \n"
      ]
    },
    {
      "cell_type": "markdown",
      "metadata": {
        "id": "nWcovTW9Nfh2"
      },
      "source": [
        "Here we have seen INCOME column is varying with respect to Region and Occupation. So to fill/replace the null values of INCOME coulmn we need to consider these two parameter."
      ]
    },
    {
      "cell_type": "markdown",
      "metadata": {
        "id": "GZ0jRquuQ7k-"
      },
      "source": [
        "**To see how many nulls are there in North America**"
      ]
    },
    {
      "cell_type": "code",
      "metadata": {
        "colab": {
          "base_uri": "https://localhost:8080/",
          "height": 159
        },
        "id": "O6SQ7SBQMQbo",
        "outputId": "f4f7f142-e766-4875-e822-c1470a2a95c2"
      },
      "source": [
        "df[(pd.isnull(df['Income'])) & (df['Region'] == 'North America')]"
      ],
      "execution_count": null,
      "outputs": [
        {
          "output_type": "execute_result",
          "data": {
            "text/plain": [
              "        ID Marital Status Gender  Income  Children  Education    Occupation  \\\n",
              "509  24357        Married   Male     NaN       3.0  Bachelors  Professional   \n",
              "\n",
              "    Home Owner  Cars Commute Distance         Region   Age Purchased Bike  \n",
              "509        Yes   1.0        2-5 Miles  North America  48.0            Yes  "
            ],
            "text/html": [
              "\n",
              "  <div id=\"df-e7f2ad1e-622d-4129-89d8-20e2b9fbd17f\">\n",
              "    <div class=\"colab-df-container\">\n",
              "      <div>\n",
              "<style scoped>\n",
              "    .dataframe tbody tr th:only-of-type {\n",
              "        vertical-align: middle;\n",
              "    }\n",
              "\n",
              "    .dataframe tbody tr th {\n",
              "        vertical-align: top;\n",
              "    }\n",
              "\n",
              "    .dataframe thead th {\n",
              "        text-align: right;\n",
              "    }\n",
              "</style>\n",
              "<table border=\"1\" class=\"dataframe\">\n",
              "  <thead>\n",
              "    <tr style=\"text-align: right;\">\n",
              "      <th></th>\n",
              "      <th>ID</th>\n",
              "      <th>Marital Status</th>\n",
              "      <th>Gender</th>\n",
              "      <th>Income</th>\n",
              "      <th>Children</th>\n",
              "      <th>Education</th>\n",
              "      <th>Occupation</th>\n",
              "      <th>Home Owner</th>\n",
              "      <th>Cars</th>\n",
              "      <th>Commute Distance</th>\n",
              "      <th>Region</th>\n",
              "      <th>Age</th>\n",
              "      <th>Purchased Bike</th>\n",
              "    </tr>\n",
              "  </thead>\n",
              "  <tbody>\n",
              "    <tr>\n",
              "      <th>509</th>\n",
              "      <td>24357</td>\n",
              "      <td>Married</td>\n",
              "      <td>Male</td>\n",
              "      <td>NaN</td>\n",
              "      <td>3.0</td>\n",
              "      <td>Bachelors</td>\n",
              "      <td>Professional</td>\n",
              "      <td>Yes</td>\n",
              "      <td>1.0</td>\n",
              "      <td>2-5 Miles</td>\n",
              "      <td>North America</td>\n",
              "      <td>48.0</td>\n",
              "      <td>Yes</td>\n",
              "    </tr>\n",
              "  </tbody>\n",
              "</table>\n",
              "</div>\n",
              "      <button class=\"colab-df-convert\" onclick=\"convertToInteractive('df-e7f2ad1e-622d-4129-89d8-20e2b9fbd17f')\"\n",
              "              title=\"Convert this dataframe to an interactive table.\"\n",
              "              style=\"display:none;\">\n",
              "        \n",
              "  <svg xmlns=\"http://www.w3.org/2000/svg\" height=\"24px\"viewBox=\"0 0 24 24\"\n",
              "       width=\"24px\">\n",
              "    <path d=\"M0 0h24v24H0V0z\" fill=\"none\"/>\n",
              "    <path d=\"M18.56 5.44l.94 2.06.94-2.06 2.06-.94-2.06-.94-.94-2.06-.94 2.06-2.06.94zm-11 1L8.5 8.5l.94-2.06 2.06-.94-2.06-.94L8.5 2.5l-.94 2.06-2.06.94zm10 10l.94 2.06.94-2.06 2.06-.94-2.06-.94-.94-2.06-.94 2.06-2.06.94z\"/><path d=\"M17.41 7.96l-1.37-1.37c-.4-.4-.92-.59-1.43-.59-.52 0-1.04.2-1.43.59L10.3 9.45l-7.72 7.72c-.78.78-.78 2.05 0 2.83L4 21.41c.39.39.9.59 1.41.59.51 0 1.02-.2 1.41-.59l7.78-7.78 2.81-2.81c.8-.78.8-2.07 0-2.86zM5.41 20L4 18.59l7.72-7.72 1.47 1.35L5.41 20z\"/>\n",
              "  </svg>\n",
              "      </button>\n",
              "      \n",
              "  <style>\n",
              "    .colab-df-container {\n",
              "      display:flex;\n",
              "      flex-wrap:wrap;\n",
              "      gap: 12px;\n",
              "    }\n",
              "\n",
              "    .colab-df-convert {\n",
              "      background-color: #E8F0FE;\n",
              "      border: none;\n",
              "      border-radius: 50%;\n",
              "      cursor: pointer;\n",
              "      display: none;\n",
              "      fill: #1967D2;\n",
              "      height: 32px;\n",
              "      padding: 0 0 0 0;\n",
              "      width: 32px;\n",
              "    }\n",
              "\n",
              "    .colab-df-convert:hover {\n",
              "      background-color: #E2EBFA;\n",
              "      box-shadow: 0px 1px 2px rgba(60, 64, 67, 0.3), 0px 1px 3px 1px rgba(60, 64, 67, 0.15);\n",
              "      fill: #174EA6;\n",
              "    }\n",
              "\n",
              "    [theme=dark] .colab-df-convert {\n",
              "      background-color: #3B4455;\n",
              "      fill: #D2E3FC;\n",
              "    }\n",
              "\n",
              "    [theme=dark] .colab-df-convert:hover {\n",
              "      background-color: #434B5C;\n",
              "      box-shadow: 0px 1px 3px 1px rgba(0, 0, 0, 0.15);\n",
              "      filter: drop-shadow(0px 1px 2px rgba(0, 0, 0, 0.3));\n",
              "      fill: #FFFFFF;\n",
              "    }\n",
              "  </style>\n",
              "\n",
              "      <script>\n",
              "        const buttonEl =\n",
              "          document.querySelector('#df-e7f2ad1e-622d-4129-89d8-20e2b9fbd17f button.colab-df-convert');\n",
              "        buttonEl.style.display =\n",
              "          google.colab.kernel.accessAllowed ? 'block' : 'none';\n",
              "\n",
              "        async function convertToInteractive(key) {\n",
              "          const element = document.querySelector('#df-e7f2ad1e-622d-4129-89d8-20e2b9fbd17f');\n",
              "          const dataTable =\n",
              "            await google.colab.kernel.invokeFunction('convertToInteractive',\n",
              "                                                     [key], {});\n",
              "          if (!dataTable) return;\n",
              "\n",
              "          const docLinkHtml = 'Like what you see? Visit the ' +\n",
              "            '<a target=\"_blank\" href=https://colab.research.google.com/notebooks/data_table.ipynb>data table notebook</a>'\n",
              "            + ' to learn more about interactive tables.';\n",
              "          element.innerHTML = '';\n",
              "          dataTable['output_type'] = 'display_data';\n",
              "          await google.colab.output.renderOutput(dataTable, element);\n",
              "          const docLink = document.createElement('div');\n",
              "          docLink.innerHTML = docLinkHtml;\n",
              "          element.appendChild(docLink);\n",
              "        }\n",
              "      </script>\n",
              "    </div>\n",
              "  </div>\n",
              "  "
            ]
          },
          "metadata": {},
          "execution_count": 19
        }
      ]
    },
    {
      "cell_type": "markdown",
      "metadata": {
        "id": "MoCZ6K5JSOa-"
      },
      "source": [
        "Here we see only one Null Values in North America Column, where the Occupation is Professional. Lets see the medians of all numerical columns in North America."
      ]
    },
    {
      "cell_type": "code",
      "metadata": {
        "colab": {
          "base_uri": "https://localhost:8080/"
        },
        "id": "irXtAgpfTqcW",
        "outputId": "1b0f2fa9-30c9-461d-e0fa-81b845fdf274"
      },
      "source": [
        "na_Professiona_median = df[(df['Region'] == 'North America') &(df['Occupation'] == 'Professional')].median()\n",
        "na_Professiona_median"
      ],
      "execution_count": null,
      "outputs": [
        {
          "output_type": "execute_result",
          "data": {
            "text/plain": [
              "ID          20000.0\n",
              "Income      70000.0\n",
              "Children        2.5\n",
              "Cars            1.0\n",
              "Age            46.0\n",
              "dtype: float64"
            ]
          },
          "metadata": {},
          "execution_count": 20
        }
      ]
    },
    {
      "cell_type": "markdown",
      "metadata": {
        "id": "a9lEMtopUq8i"
      },
      "source": [
        "**To be more specific about the median of Income column**"
      ]
    },
    {
      "cell_type": "code",
      "metadata": {
        "colab": {
          "base_uri": "https://localhost:8080/"
        },
        "id": "sunu8F_GUw-d",
        "outputId": "8ed7ee1b-d0c4-47fd-d27f-f1710ad23262"
      },
      "source": [
        "na_Professiona_median = df[(df['Region'] == 'North America') &(df['Occupation'] == 'Professional')]['Income'].median()\n",
        "na_Professiona_median"
      ],
      "execution_count": null,
      "outputs": [
        {
          "output_type": "execute_result",
          "data": {
            "text/plain": [
              "70000.0"
            ]
          },
          "metadata": {},
          "execution_count": 21
        }
      ]
    },
    {
      "cell_type": "markdown",
      "metadata": {
        "id": "FmORuvd2VOal"
      },
      "source": [
        "To replace this null value of 509 Income column the syntex is, \n",
        "Here iloc means \"INDEX LOCATION\".\n"
      ]
    },
    {
      "cell_type": "code",
      "metadata": {
        "id": "mBgn_DKzWYNM"
      },
      "source": [
        "df.iloc[509, df.columns.get_loc('Income')] = na_Professiona_median"
      ],
      "execution_count": null,
      "outputs": []
    },
    {
      "cell_type": "code",
      "metadata": {
        "colab": {
          "base_uri": "https://localhost:8080/"
        },
        "id": "m_uqzq5kWwyL",
        "outputId": "6c21f673-6549-424e-ca41-3353e75caeae"
      },
      "source": [
        "df.info()"
      ],
      "execution_count": null,
      "outputs": [
        {
          "output_type": "stream",
          "name": "stdout",
          "text": [
            "<class 'pandas.core.frame.DataFrame'>\n",
            "RangeIndex: 1000 entries, 0 to 999\n",
            "Data columns (total 13 columns):\n",
            " #   Column            Non-Null Count  Dtype  \n",
            "---  ------            --------------  -----  \n",
            " 0   ID                1000 non-null   int64  \n",
            " 1   Marital Status    1000 non-null   object \n",
            " 2   Gender            1000 non-null   object \n",
            " 3   Income            995 non-null    float64\n",
            " 4   Children          992 non-null    float64\n",
            " 5   Education         1000 non-null   object \n",
            " 6   Occupation        1000 non-null   object \n",
            " 7   Home Owner        1000 non-null   object \n",
            " 8   Cars              991 non-null    float64\n",
            " 9   Commute Distance  1000 non-null   object \n",
            " 10  Region            1000 non-null   object \n",
            " 11  Age               992 non-null    float64\n",
            " 12  Purchased Bike    1000 non-null   object \n",
            "dtypes: float64(4), int64(1), object(8)\n",
            "memory usage: 101.7+ KB\n"
          ]
        }
      ]
    },
    {
      "cell_type": "markdown",
      "metadata": {
        "id": "2WPo5WQHXozj"
      },
      "source": [
        "**To do the same thing for Europe Income Column**"
      ]
    },
    {
      "cell_type": "code",
      "metadata": {
        "colab": {
          "base_uri": "https://localhost:8080/",
          "height": 187
        },
        "id": "tsfKtJnrX4ha",
        "outputId": "27e339a5-58d8-49e3-c9de-91027359139d"
      },
      "source": [
        "df[(pd.isnull(df['Income'])) & (df['Region'] == 'Europe')]"
      ],
      "execution_count": null,
      "outputs": [
        {
          "output_type": "execute_result",
          "data": {
            "text/plain": [
              "        ID Marital Status  Gender  Income  Children        Education  \\\n",
              "9    19280        Married    Male     NaN       2.0  Partial College   \n",
              "110  21006         Single  Female     NaN       1.0  Partial College   \n",
              "191  26944         Single    Male     NaN       2.0      High School   \n",
              "\n",
              "    Occupation Home Owner  Cars Commute Distance  Region   Age Purchased Bike  \n",
              "9       Manual        Yes   1.0        0-1 Miles  Europe   NaN            Yes  \n",
              "110     Manual         No   0.0        0-1 Miles  Europe  46.0            Yes  \n",
              "191     Manual        Yes   0.0        0-1 Miles  Europe  36.0            Yes  "
            ],
            "text/html": [
              "\n",
              "  <div id=\"df-81079713-6579-4d74-ba7a-090f6c53b30a\">\n",
              "    <div class=\"colab-df-container\">\n",
              "      <div>\n",
              "<style scoped>\n",
              "    .dataframe tbody tr th:only-of-type {\n",
              "        vertical-align: middle;\n",
              "    }\n",
              "\n",
              "    .dataframe tbody tr th {\n",
              "        vertical-align: top;\n",
              "    }\n",
              "\n",
              "    .dataframe thead th {\n",
              "        text-align: right;\n",
              "    }\n",
              "</style>\n",
              "<table border=\"1\" class=\"dataframe\">\n",
              "  <thead>\n",
              "    <tr style=\"text-align: right;\">\n",
              "      <th></th>\n",
              "      <th>ID</th>\n",
              "      <th>Marital Status</th>\n",
              "      <th>Gender</th>\n",
              "      <th>Income</th>\n",
              "      <th>Children</th>\n",
              "      <th>Education</th>\n",
              "      <th>Occupation</th>\n",
              "      <th>Home Owner</th>\n",
              "      <th>Cars</th>\n",
              "      <th>Commute Distance</th>\n",
              "      <th>Region</th>\n",
              "      <th>Age</th>\n",
              "      <th>Purchased Bike</th>\n",
              "    </tr>\n",
              "  </thead>\n",
              "  <tbody>\n",
              "    <tr>\n",
              "      <th>9</th>\n",
              "      <td>19280</td>\n",
              "      <td>Married</td>\n",
              "      <td>Male</td>\n",
              "      <td>NaN</td>\n",
              "      <td>2.0</td>\n",
              "      <td>Partial College</td>\n",
              "      <td>Manual</td>\n",
              "      <td>Yes</td>\n",
              "      <td>1.0</td>\n",
              "      <td>0-1 Miles</td>\n",
              "      <td>Europe</td>\n",
              "      <td>NaN</td>\n",
              "      <td>Yes</td>\n",
              "    </tr>\n",
              "    <tr>\n",
              "      <th>110</th>\n",
              "      <td>21006</td>\n",
              "      <td>Single</td>\n",
              "      <td>Female</td>\n",
              "      <td>NaN</td>\n",
              "      <td>1.0</td>\n",
              "      <td>Partial College</td>\n",
              "      <td>Manual</td>\n",
              "      <td>No</td>\n",
              "      <td>0.0</td>\n",
              "      <td>0-1 Miles</td>\n",
              "      <td>Europe</td>\n",
              "      <td>46.0</td>\n",
              "      <td>Yes</td>\n",
              "    </tr>\n",
              "    <tr>\n",
              "      <th>191</th>\n",
              "      <td>26944</td>\n",
              "      <td>Single</td>\n",
              "      <td>Male</td>\n",
              "      <td>NaN</td>\n",
              "      <td>2.0</td>\n",
              "      <td>High School</td>\n",
              "      <td>Manual</td>\n",
              "      <td>Yes</td>\n",
              "      <td>0.0</td>\n",
              "      <td>0-1 Miles</td>\n",
              "      <td>Europe</td>\n",
              "      <td>36.0</td>\n",
              "      <td>Yes</td>\n",
              "    </tr>\n",
              "  </tbody>\n",
              "</table>\n",
              "</div>\n",
              "      <button class=\"colab-df-convert\" onclick=\"convertToInteractive('df-81079713-6579-4d74-ba7a-090f6c53b30a')\"\n",
              "              title=\"Convert this dataframe to an interactive table.\"\n",
              "              style=\"display:none;\">\n",
              "        \n",
              "  <svg xmlns=\"http://www.w3.org/2000/svg\" height=\"24px\"viewBox=\"0 0 24 24\"\n",
              "       width=\"24px\">\n",
              "    <path d=\"M0 0h24v24H0V0z\" fill=\"none\"/>\n",
              "    <path d=\"M18.56 5.44l.94 2.06.94-2.06 2.06-.94-2.06-.94-.94-2.06-.94 2.06-2.06.94zm-11 1L8.5 8.5l.94-2.06 2.06-.94-2.06-.94L8.5 2.5l-.94 2.06-2.06.94zm10 10l.94 2.06.94-2.06 2.06-.94-2.06-.94-.94-2.06-.94 2.06-2.06.94z\"/><path d=\"M17.41 7.96l-1.37-1.37c-.4-.4-.92-.59-1.43-.59-.52 0-1.04.2-1.43.59L10.3 9.45l-7.72 7.72c-.78.78-.78 2.05 0 2.83L4 21.41c.39.39.9.59 1.41.59.51 0 1.02-.2 1.41-.59l7.78-7.78 2.81-2.81c.8-.78.8-2.07 0-2.86zM5.41 20L4 18.59l7.72-7.72 1.47 1.35L5.41 20z\"/>\n",
              "  </svg>\n",
              "      </button>\n",
              "      \n",
              "  <style>\n",
              "    .colab-df-container {\n",
              "      display:flex;\n",
              "      flex-wrap:wrap;\n",
              "      gap: 12px;\n",
              "    }\n",
              "\n",
              "    .colab-df-convert {\n",
              "      background-color: #E8F0FE;\n",
              "      border: none;\n",
              "      border-radius: 50%;\n",
              "      cursor: pointer;\n",
              "      display: none;\n",
              "      fill: #1967D2;\n",
              "      height: 32px;\n",
              "      padding: 0 0 0 0;\n",
              "      width: 32px;\n",
              "    }\n",
              "\n",
              "    .colab-df-convert:hover {\n",
              "      background-color: #E2EBFA;\n",
              "      box-shadow: 0px 1px 2px rgba(60, 64, 67, 0.3), 0px 1px 3px 1px rgba(60, 64, 67, 0.15);\n",
              "      fill: #174EA6;\n",
              "    }\n",
              "\n",
              "    [theme=dark] .colab-df-convert {\n",
              "      background-color: #3B4455;\n",
              "      fill: #D2E3FC;\n",
              "    }\n",
              "\n",
              "    [theme=dark] .colab-df-convert:hover {\n",
              "      background-color: #434B5C;\n",
              "      box-shadow: 0px 1px 3px 1px rgba(0, 0, 0, 0.15);\n",
              "      filter: drop-shadow(0px 1px 2px rgba(0, 0, 0, 0.3));\n",
              "      fill: #FFFFFF;\n",
              "    }\n",
              "  </style>\n",
              "\n",
              "      <script>\n",
              "        const buttonEl =\n",
              "          document.querySelector('#df-81079713-6579-4d74-ba7a-090f6c53b30a button.colab-df-convert');\n",
              "        buttonEl.style.display =\n",
              "          google.colab.kernel.accessAllowed ? 'block' : 'none';\n",
              "\n",
              "        async function convertToInteractive(key) {\n",
              "          const element = document.querySelector('#df-81079713-6579-4d74-ba7a-090f6c53b30a');\n",
              "          const dataTable =\n",
              "            await google.colab.kernel.invokeFunction('convertToInteractive',\n",
              "                                                     [key], {});\n",
              "          if (!dataTable) return;\n",
              "\n",
              "          const docLinkHtml = 'Like what you see? Visit the ' +\n",
              "            '<a target=\"_blank\" href=https://colab.research.google.com/notebooks/data_table.ipynb>data table notebook</a>'\n",
              "            + ' to learn more about interactive tables.';\n",
              "          element.innerHTML = '';\n",
              "          dataTable['output_type'] = 'display_data';\n",
              "          await google.colab.output.renderOutput(dataTable, element);\n",
              "          const docLink = document.createElement('div');\n",
              "          docLink.innerHTML = docLinkHtml;\n",
              "          element.appendChild(docLink);\n",
              "        }\n",
              "      </script>\n",
              "    </div>\n",
              "  </div>\n",
              "  "
            ]
          },
          "metadata": {},
          "execution_count": 24
        }
      ]
    },
    {
      "cell_type": "code",
      "metadata": {
        "colab": {
          "base_uri": "https://localhost:8080/"
        },
        "id": "ZsppB8h5YJeG",
        "outputId": "e2970b0d-c289-49d3-c8d9-c4f9ca58c281"
      },
      "source": [
        "eu_Professiona_median = df[(df['Region'] == 'Europe') &(df['Occupation'] == 'Manual')].median()\n",
        "eu_Professiona_median"
      ],
      "execution_count": null,
      "outputs": [
        {
          "output_type": "execute_result",
          "data": {
            "text/plain": [
              "ID          19388.0\n",
              "Income      10000.0\n",
              "Children        1.0\n",
              "Cars            1.0\n",
              "Age            37.0\n",
              "dtype: float64"
            ]
          },
          "metadata": {},
          "execution_count": 25
        }
      ]
    },
    {
      "cell_type": "code",
      "metadata": {
        "colab": {
          "base_uri": "https://localhost:8080/"
        },
        "id": "KIMnHBKSYWjO",
        "outputId": "ec57f73c-221c-47f8-f1b9-9e2d46f9a465"
      },
      "source": [
        "eu_Professiona_median = df[(df['Region'] == 'Europe') &(df['Occupation'] == 'Manual')]['Income'].median()\n",
        "eu_Professiona_median"
      ],
      "execution_count": null,
      "outputs": [
        {
          "output_type": "execute_result",
          "data": {
            "text/plain": [
              "10000.0"
            ]
          },
          "metadata": {},
          "execution_count": 26
        }
      ]
    },
    {
      "cell_type": "code",
      "metadata": {
        "id": "7_3WnOw-Zj8T"
      },
      "source": [
        "df.iloc[9, df.columns.get_loc('Income')] = eu_Professiona_median\n",
        "df.iloc[110, df.columns.get_loc('Income')] = eu_Professiona_median\n",
        "df.iloc[191, df.columns.get_loc('Income')] = eu_Professiona_median"
      ],
      "execution_count": null,
      "outputs": []
    },
    {
      "cell_type": "code",
      "metadata": {
        "colab": {
          "base_uri": "https://localhost:8080/"
        },
        "id": "YM-KexNQabp-",
        "outputId": "22e5b2d6-fad6-4662-c289-2347bfe85eed"
      },
      "source": [
        "df.info()"
      ],
      "execution_count": null,
      "outputs": [
        {
          "output_type": "stream",
          "name": "stdout",
          "text": [
            "<class 'pandas.core.frame.DataFrame'>\n",
            "RangeIndex: 1000 entries, 0 to 999\n",
            "Data columns (total 13 columns):\n",
            " #   Column            Non-Null Count  Dtype  \n",
            "---  ------            --------------  -----  \n",
            " 0   ID                1000 non-null   int64  \n",
            " 1   Marital Status    1000 non-null   object \n",
            " 2   Gender            1000 non-null   object \n",
            " 3   Income            998 non-null    float64\n",
            " 4   Children          992 non-null    float64\n",
            " 5   Education         1000 non-null   object \n",
            " 6   Occupation        1000 non-null   object \n",
            " 7   Home Owner        1000 non-null   object \n",
            " 8   Cars              991 non-null    float64\n",
            " 9   Commute Distance  1000 non-null   object \n",
            " 10  Region            1000 non-null   object \n",
            " 11  Age               992 non-null    float64\n",
            " 12  Purchased Bike    1000 non-null   object \n",
            "dtypes: float64(4), int64(1), object(8)\n",
            "memory usage: 101.7+ KB\n"
          ]
        }
      ]
    },
    {
      "cell_type": "markdown",
      "metadata": {
        "id": "wQU8ZxHGar5b"
      },
      "source": [
        "## **Another way to replace the null values with a LOOP**"
      ]
    },
    {
      "cell_type": "code",
      "metadata": {
        "id": "PDfN6R17b9qP"
      },
      "source": [
        "df[(pd.isnull(df['Income'])) & (df['Region']=='Europe')]"
      ],
      "execution_count": null,
      "outputs": []
    },
    {
      "cell_type": "code",
      "metadata": {
        "id": "F5evlHRGcJSa"
      },
      "source": [
        "indexlist = df[(pd.isnull(df['Income'])) & (df['Region']=='Europe')].index\n",
        "indexlist"
      ],
      "execution_count": null,
      "outputs": []
    },
    {
      "cell_type": "code",
      "metadata": {
        "id": "tXuSiWkBd0ca"
      },
      "source": [
        "eu_Professiona_median = df[(df['Region'] == 'Europe') &(df['Occupation'] == 'Manual')]['Income'].median()\n",
        "eu_Professiona_median"
      ],
      "execution_count": null,
      "outputs": []
    },
    {
      "cell_type": "code",
      "metadata": {
        "id": "dVPRL6RGcYR_"
      },
      "source": [
        "for item in indexlist:\n",
        "  df.iloc[item, df.columns.get_loc('Income')] = eu_Professiona_median\n"
      ],
      "execution_count": null,
      "outputs": []
    },
    {
      "cell_type": "markdown",
      "metadata": {
        "id": "1H2aejCrc3lG"
      },
      "source": [
        "**Do the same things for Pacific Region**"
      ]
    },
    {
      "cell_type": "code",
      "metadata": {
        "colab": {
          "base_uri": "https://localhost:8080/",
          "height": 156
        },
        "id": "9Hdjpq03dH3L",
        "outputId": "adbfe131-bdfb-470a-e9db-fbdf759f7a32"
      },
      "source": [
        "df[pd.isnull(df['Income']) & (df['Region'] == 'Pacific')]"
      ],
      "execution_count": null,
      "outputs": [
        {
          "output_type": "execute_result",
          "data": {
            "text/plain": [
              "        ID Marital Status  Gender  Income  Children        Education  \\\n",
              "301  17926      Not Known  Female     NaN       0.0        Bachelors   \n",
              "441  11061        Married    Male     NaN       2.0  Partial College   \n",
              "\n",
              "         Occupation Home Owner  Cars Commute Distance   Region   Age  \\\n",
              "301        Clerical         No   0.0        0-1 Miles  Pacific  28.0   \n",
              "441  Skilled Manual        Yes   2.0       5-10 Miles  Pacific  52.0   \n",
              "\n",
              "    Purchased Bike  \n",
              "301            Yes  \n",
              "441            Yes  "
            ],
            "text/html": [
              "\n",
              "  <div id=\"df-2ced7019-cd37-46b0-abb8-1ffbffd4eb9b\">\n",
              "    <div class=\"colab-df-container\">\n",
              "      <div>\n",
              "<style scoped>\n",
              "    .dataframe tbody tr th:only-of-type {\n",
              "        vertical-align: middle;\n",
              "    }\n",
              "\n",
              "    .dataframe tbody tr th {\n",
              "        vertical-align: top;\n",
              "    }\n",
              "\n",
              "    .dataframe thead th {\n",
              "        text-align: right;\n",
              "    }\n",
              "</style>\n",
              "<table border=\"1\" class=\"dataframe\">\n",
              "  <thead>\n",
              "    <tr style=\"text-align: right;\">\n",
              "      <th></th>\n",
              "      <th>ID</th>\n",
              "      <th>Marital Status</th>\n",
              "      <th>Gender</th>\n",
              "      <th>Income</th>\n",
              "      <th>Children</th>\n",
              "      <th>Education</th>\n",
              "      <th>Occupation</th>\n",
              "      <th>Home Owner</th>\n",
              "      <th>Cars</th>\n",
              "      <th>Commute Distance</th>\n",
              "      <th>Region</th>\n",
              "      <th>Age</th>\n",
              "      <th>Purchased Bike</th>\n",
              "    </tr>\n",
              "  </thead>\n",
              "  <tbody>\n",
              "    <tr>\n",
              "      <th>301</th>\n",
              "      <td>17926</td>\n",
              "      <td>Not Known</td>\n",
              "      <td>Female</td>\n",
              "      <td>NaN</td>\n",
              "      <td>0.0</td>\n",
              "      <td>Bachelors</td>\n",
              "      <td>Clerical</td>\n",
              "      <td>No</td>\n",
              "      <td>0.0</td>\n",
              "      <td>0-1 Miles</td>\n",
              "      <td>Pacific</td>\n",
              "      <td>28.0</td>\n",
              "      <td>Yes</td>\n",
              "    </tr>\n",
              "    <tr>\n",
              "      <th>441</th>\n",
              "      <td>11061</td>\n",
              "      <td>Married</td>\n",
              "      <td>Male</td>\n",
              "      <td>NaN</td>\n",
              "      <td>2.0</td>\n",
              "      <td>Partial College</td>\n",
              "      <td>Skilled Manual</td>\n",
              "      <td>Yes</td>\n",
              "      <td>2.0</td>\n",
              "      <td>5-10 Miles</td>\n",
              "      <td>Pacific</td>\n",
              "      <td>52.0</td>\n",
              "      <td>Yes</td>\n",
              "    </tr>\n",
              "  </tbody>\n",
              "</table>\n",
              "</div>\n",
              "      <button class=\"colab-df-convert\" onclick=\"convertToInteractive('df-2ced7019-cd37-46b0-abb8-1ffbffd4eb9b')\"\n",
              "              title=\"Convert this dataframe to an interactive table.\"\n",
              "              style=\"display:none;\">\n",
              "        \n",
              "  <svg xmlns=\"http://www.w3.org/2000/svg\" height=\"24px\"viewBox=\"0 0 24 24\"\n",
              "       width=\"24px\">\n",
              "    <path d=\"M0 0h24v24H0V0z\" fill=\"none\"/>\n",
              "    <path d=\"M18.56 5.44l.94 2.06.94-2.06 2.06-.94-2.06-.94-.94-2.06-.94 2.06-2.06.94zm-11 1L8.5 8.5l.94-2.06 2.06-.94-2.06-.94L8.5 2.5l-.94 2.06-2.06.94zm10 10l.94 2.06.94-2.06 2.06-.94-2.06-.94-.94-2.06-.94 2.06-2.06.94z\"/><path d=\"M17.41 7.96l-1.37-1.37c-.4-.4-.92-.59-1.43-.59-.52 0-1.04.2-1.43.59L10.3 9.45l-7.72 7.72c-.78.78-.78 2.05 0 2.83L4 21.41c.39.39.9.59 1.41.59.51 0 1.02-.2 1.41-.59l7.78-7.78 2.81-2.81c.8-.78.8-2.07 0-2.86zM5.41 20L4 18.59l7.72-7.72 1.47 1.35L5.41 20z\"/>\n",
              "  </svg>\n",
              "      </button>\n",
              "      \n",
              "  <style>\n",
              "    .colab-df-container {\n",
              "      display:flex;\n",
              "      flex-wrap:wrap;\n",
              "      gap: 12px;\n",
              "    }\n",
              "\n",
              "    .colab-df-convert {\n",
              "      background-color: #E8F0FE;\n",
              "      border: none;\n",
              "      border-radius: 50%;\n",
              "      cursor: pointer;\n",
              "      display: none;\n",
              "      fill: #1967D2;\n",
              "      height: 32px;\n",
              "      padding: 0 0 0 0;\n",
              "      width: 32px;\n",
              "    }\n",
              "\n",
              "    .colab-df-convert:hover {\n",
              "      background-color: #E2EBFA;\n",
              "      box-shadow: 0px 1px 2px rgba(60, 64, 67, 0.3), 0px 1px 3px 1px rgba(60, 64, 67, 0.15);\n",
              "      fill: #174EA6;\n",
              "    }\n",
              "\n",
              "    [theme=dark] .colab-df-convert {\n",
              "      background-color: #3B4455;\n",
              "      fill: #D2E3FC;\n",
              "    }\n",
              "\n",
              "    [theme=dark] .colab-df-convert:hover {\n",
              "      background-color: #434B5C;\n",
              "      box-shadow: 0px 1px 3px 1px rgba(0, 0, 0, 0.15);\n",
              "      filter: drop-shadow(0px 1px 2px rgba(0, 0, 0, 0.3));\n",
              "      fill: #FFFFFF;\n",
              "    }\n",
              "  </style>\n",
              "\n",
              "      <script>\n",
              "        const buttonEl =\n",
              "          document.querySelector('#df-2ced7019-cd37-46b0-abb8-1ffbffd4eb9b button.colab-df-convert');\n",
              "        buttonEl.style.display =\n",
              "          google.colab.kernel.accessAllowed ? 'block' : 'none';\n",
              "\n",
              "        async function convertToInteractive(key) {\n",
              "          const element = document.querySelector('#df-2ced7019-cd37-46b0-abb8-1ffbffd4eb9b');\n",
              "          const dataTable =\n",
              "            await google.colab.kernel.invokeFunction('convertToInteractive',\n",
              "                                                     [key], {});\n",
              "          if (!dataTable) return;\n",
              "\n",
              "          const docLinkHtml = 'Like what you see? Visit the ' +\n",
              "            '<a target=\"_blank\" href=https://colab.research.google.com/notebooks/data_table.ipynb>data table notebook</a>'\n",
              "            + ' to learn more about interactive tables.';\n",
              "          element.innerHTML = '';\n",
              "          dataTable['output_type'] = 'display_data';\n",
              "          await google.colab.output.renderOutput(dataTable, element);\n",
              "          const docLink = document.createElement('div');\n",
              "          docLink.innerHTML = docLinkHtml;\n",
              "          element.appendChild(docLink);\n",
              "        }\n",
              "      </script>\n",
              "    </div>\n",
              "  </div>\n",
              "  "
            ]
          },
          "metadata": {},
          "execution_count": 29
        }
      ]
    },
    {
      "cell_type": "code",
      "metadata": {
        "colab": {
          "base_uri": "https://localhost:8080/"
        },
        "id": "BXexHnwnj5if",
        "outputId": "692b8c3e-c276-4c60-f66c-0ad0a425d051"
      },
      "source": [
        "pa_Clerical_median = df[(df['Region'] == 'Pacific') &(df['Occupation'] == 'Clerical')]['Income'].median()\n",
        "pa_SkilledManual_median =  df[(df['Region'] == 'Pacific') &(df['Occupation'] == 'Skilled Manual')]['Income'].median()\n",
        "pa_Clerical_median \n",
        "pa_SkilledManual_median"
      ],
      "execution_count": null,
      "outputs": [
        {
          "output_type": "execute_result",
          "data": {
            "text/plain": [
              "60000.0"
            ]
          },
          "metadata": {},
          "execution_count": 30
        }
      ]
    },
    {
      "cell_type": "code",
      "metadata": {
        "id": "yL2-wAkNj4yA"
      },
      "source": [
        "df.iloc[301, df.columns.get_loc('Income')] = pa_Clerical_median \n",
        "df.iloc[441, df.columns.get_loc('Income')] = pa_SkilledManual_median"
      ],
      "execution_count": null,
      "outputs": []
    },
    {
      "cell_type": "code",
      "metadata": {
        "colab": {
          "base_uri": "https://localhost:8080/"
        },
        "id": "6AqJEnPmmYzX",
        "outputId": "d03f18cd-4fd8-44e3-f278-54fbf25a2799"
      },
      "source": [
        "df.info()"
      ],
      "execution_count": null,
      "outputs": [
        {
          "output_type": "stream",
          "name": "stdout",
          "text": [
            "<class 'pandas.core.frame.DataFrame'>\n",
            "RangeIndex: 1000 entries, 0 to 999\n",
            "Data columns (total 13 columns):\n",
            " #   Column            Non-Null Count  Dtype  \n",
            "---  ------            --------------  -----  \n",
            " 0   ID                1000 non-null   int64  \n",
            " 1   Marital Status    1000 non-null   object \n",
            " 2   Gender            1000 non-null   object \n",
            " 3   Income            1000 non-null   float64\n",
            " 4   Children          992 non-null    float64\n",
            " 5   Education         1000 non-null   object \n",
            " 6   Occupation        1000 non-null   object \n",
            " 7   Home Owner        1000 non-null   object \n",
            " 8   Cars              991 non-null    float64\n",
            " 9   Commute Distance  1000 non-null   object \n",
            " 10  Region            1000 non-null   object \n",
            " 11  Age               992 non-null    float64\n",
            " 12  Purchased Bike    1000 non-null   object \n",
            "dtypes: float64(4), int64(1), object(8)\n",
            "memory usage: 101.7+ KB\n"
          ]
        }
      ]
    },
    {
      "cell_type": "code",
      "metadata": {
        "colab": {
          "base_uri": "https://localhost:8080/",
          "height": 502
        },
        "id": "5zezElE3qy6X",
        "outputId": "a08e5efd-5ebc-4e7c-ff11-0ff8ec17d9cb"
      },
      "source": [
        "df.mode()"
      ],
      "execution_count": null,
      "outputs": [
        {
          "output_type": "execute_result",
          "data": {
            "text/plain": [
              "        ID Marital Status Gender   Income  Children  Education    Occupation  \\\n",
              "0    11000        Married   Male  60000.0       0.0  Bachelors  Professional   \n",
              "1    11047            NaN    NaN      NaN       NaN        NaN           NaN   \n",
              "2    11061            NaN    NaN      NaN       NaN        NaN           NaN   \n",
              "3    11090            NaN    NaN      NaN       NaN        NaN           NaN   \n",
              "4    11116            NaN    NaN      NaN       NaN        NaN           NaN   \n",
              "..     ...            ...    ...      ...       ...        ...           ...   \n",
              "995  29337            NaN    NaN      NaN       NaN        NaN           NaN   \n",
              "996  29355            NaN    NaN      NaN       NaN        NaN           NaN   \n",
              "997  29380            NaN    NaN      NaN       NaN        NaN           NaN   \n",
              "998  29424            NaN    NaN      NaN       NaN        NaN           NaN   \n",
              "999  29447            NaN    NaN      NaN       NaN        NaN           NaN   \n",
              "\n",
              "    Home Owner  Cars Commute Distance         Region   Age Purchased Bike  \n",
              "0          Yes   2.0        0-1 Miles  North America  40.0             No  \n",
              "1          NaN   NaN              NaN            NaN   NaN            NaN  \n",
              "2          NaN   NaN              NaN            NaN   NaN            NaN  \n",
              "3          NaN   NaN              NaN            NaN   NaN            NaN  \n",
              "4          NaN   NaN              NaN            NaN   NaN            NaN  \n",
              "..         ...   ...              ...            ...   ...            ...  \n",
              "995        NaN   NaN              NaN            NaN   NaN            NaN  \n",
              "996        NaN   NaN              NaN            NaN   NaN            NaN  \n",
              "997        NaN   NaN              NaN            NaN   NaN            NaN  \n",
              "998        NaN   NaN              NaN            NaN   NaN            NaN  \n",
              "999        NaN   NaN              NaN            NaN   NaN            NaN  \n",
              "\n",
              "[1000 rows x 13 columns]"
            ],
            "text/html": [
              "\n",
              "  <div id=\"df-f21db0e5-7068-48f0-8602-b0e05b0efe8a\">\n",
              "    <div class=\"colab-df-container\">\n",
              "      <div>\n",
              "<style scoped>\n",
              "    .dataframe tbody tr th:only-of-type {\n",
              "        vertical-align: middle;\n",
              "    }\n",
              "\n",
              "    .dataframe tbody tr th {\n",
              "        vertical-align: top;\n",
              "    }\n",
              "\n",
              "    .dataframe thead th {\n",
              "        text-align: right;\n",
              "    }\n",
              "</style>\n",
              "<table border=\"1\" class=\"dataframe\">\n",
              "  <thead>\n",
              "    <tr style=\"text-align: right;\">\n",
              "      <th></th>\n",
              "      <th>ID</th>\n",
              "      <th>Marital Status</th>\n",
              "      <th>Gender</th>\n",
              "      <th>Income</th>\n",
              "      <th>Children</th>\n",
              "      <th>Education</th>\n",
              "      <th>Occupation</th>\n",
              "      <th>Home Owner</th>\n",
              "      <th>Cars</th>\n",
              "      <th>Commute Distance</th>\n",
              "      <th>Region</th>\n",
              "      <th>Age</th>\n",
              "      <th>Purchased Bike</th>\n",
              "    </tr>\n",
              "  </thead>\n",
              "  <tbody>\n",
              "    <tr>\n",
              "      <th>0</th>\n",
              "      <td>11000</td>\n",
              "      <td>Married</td>\n",
              "      <td>Male</td>\n",
              "      <td>60000.0</td>\n",
              "      <td>0.0</td>\n",
              "      <td>Bachelors</td>\n",
              "      <td>Professional</td>\n",
              "      <td>Yes</td>\n",
              "      <td>2.0</td>\n",
              "      <td>0-1 Miles</td>\n",
              "      <td>North America</td>\n",
              "      <td>40.0</td>\n",
              "      <td>No</td>\n",
              "    </tr>\n",
              "    <tr>\n",
              "      <th>1</th>\n",
              "      <td>11047</td>\n",
              "      <td>NaN</td>\n",
              "      <td>NaN</td>\n",
              "      <td>NaN</td>\n",
              "      <td>NaN</td>\n",
              "      <td>NaN</td>\n",
              "      <td>NaN</td>\n",
              "      <td>NaN</td>\n",
              "      <td>NaN</td>\n",
              "      <td>NaN</td>\n",
              "      <td>NaN</td>\n",
              "      <td>NaN</td>\n",
              "      <td>NaN</td>\n",
              "    </tr>\n",
              "    <tr>\n",
              "      <th>2</th>\n",
              "      <td>11061</td>\n",
              "      <td>NaN</td>\n",
              "      <td>NaN</td>\n",
              "      <td>NaN</td>\n",
              "      <td>NaN</td>\n",
              "      <td>NaN</td>\n",
              "      <td>NaN</td>\n",
              "      <td>NaN</td>\n",
              "      <td>NaN</td>\n",
              "      <td>NaN</td>\n",
              "      <td>NaN</td>\n",
              "      <td>NaN</td>\n",
              "      <td>NaN</td>\n",
              "    </tr>\n",
              "    <tr>\n",
              "      <th>3</th>\n",
              "      <td>11090</td>\n",
              "      <td>NaN</td>\n",
              "      <td>NaN</td>\n",
              "      <td>NaN</td>\n",
              "      <td>NaN</td>\n",
              "      <td>NaN</td>\n",
              "      <td>NaN</td>\n",
              "      <td>NaN</td>\n",
              "      <td>NaN</td>\n",
              "      <td>NaN</td>\n",
              "      <td>NaN</td>\n",
              "      <td>NaN</td>\n",
              "      <td>NaN</td>\n",
              "    </tr>\n",
              "    <tr>\n",
              "      <th>4</th>\n",
              "      <td>11116</td>\n",
              "      <td>NaN</td>\n",
              "      <td>NaN</td>\n",
              "      <td>NaN</td>\n",
              "      <td>NaN</td>\n",
              "      <td>NaN</td>\n",
              "      <td>NaN</td>\n",
              "      <td>NaN</td>\n",
              "      <td>NaN</td>\n",
              "      <td>NaN</td>\n",
              "      <td>NaN</td>\n",
              "      <td>NaN</td>\n",
              "      <td>NaN</td>\n",
              "    </tr>\n",
              "    <tr>\n",
              "      <th>...</th>\n",
              "      <td>...</td>\n",
              "      <td>...</td>\n",
              "      <td>...</td>\n",
              "      <td>...</td>\n",
              "      <td>...</td>\n",
              "      <td>...</td>\n",
              "      <td>...</td>\n",
              "      <td>...</td>\n",
              "      <td>...</td>\n",
              "      <td>...</td>\n",
              "      <td>...</td>\n",
              "      <td>...</td>\n",
              "      <td>...</td>\n",
              "    </tr>\n",
              "    <tr>\n",
              "      <th>995</th>\n",
              "      <td>29337</td>\n",
              "      <td>NaN</td>\n",
              "      <td>NaN</td>\n",
              "      <td>NaN</td>\n",
              "      <td>NaN</td>\n",
              "      <td>NaN</td>\n",
              "      <td>NaN</td>\n",
              "      <td>NaN</td>\n",
              "      <td>NaN</td>\n",
              "      <td>NaN</td>\n",
              "      <td>NaN</td>\n",
              "      <td>NaN</td>\n",
              "      <td>NaN</td>\n",
              "    </tr>\n",
              "    <tr>\n",
              "      <th>996</th>\n",
              "      <td>29355</td>\n",
              "      <td>NaN</td>\n",
              "      <td>NaN</td>\n",
              "      <td>NaN</td>\n",
              "      <td>NaN</td>\n",
              "      <td>NaN</td>\n",
              "      <td>NaN</td>\n",
              "      <td>NaN</td>\n",
              "      <td>NaN</td>\n",
              "      <td>NaN</td>\n",
              "      <td>NaN</td>\n",
              "      <td>NaN</td>\n",
              "      <td>NaN</td>\n",
              "    </tr>\n",
              "    <tr>\n",
              "      <th>997</th>\n",
              "      <td>29380</td>\n",
              "      <td>NaN</td>\n",
              "      <td>NaN</td>\n",
              "      <td>NaN</td>\n",
              "      <td>NaN</td>\n",
              "      <td>NaN</td>\n",
              "      <td>NaN</td>\n",
              "      <td>NaN</td>\n",
              "      <td>NaN</td>\n",
              "      <td>NaN</td>\n",
              "      <td>NaN</td>\n",
              "      <td>NaN</td>\n",
              "      <td>NaN</td>\n",
              "    </tr>\n",
              "    <tr>\n",
              "      <th>998</th>\n",
              "      <td>29424</td>\n",
              "      <td>NaN</td>\n",
              "      <td>NaN</td>\n",
              "      <td>NaN</td>\n",
              "      <td>NaN</td>\n",
              "      <td>NaN</td>\n",
              "      <td>NaN</td>\n",
              "      <td>NaN</td>\n",
              "      <td>NaN</td>\n",
              "      <td>NaN</td>\n",
              "      <td>NaN</td>\n",
              "      <td>NaN</td>\n",
              "      <td>NaN</td>\n",
              "    </tr>\n",
              "    <tr>\n",
              "      <th>999</th>\n",
              "      <td>29447</td>\n",
              "      <td>NaN</td>\n",
              "      <td>NaN</td>\n",
              "      <td>NaN</td>\n",
              "      <td>NaN</td>\n",
              "      <td>NaN</td>\n",
              "      <td>NaN</td>\n",
              "      <td>NaN</td>\n",
              "      <td>NaN</td>\n",
              "      <td>NaN</td>\n",
              "      <td>NaN</td>\n",
              "      <td>NaN</td>\n",
              "      <td>NaN</td>\n",
              "    </tr>\n",
              "  </tbody>\n",
              "</table>\n",
              "<p>1000 rows × 13 columns</p>\n",
              "</div>\n",
              "      <button class=\"colab-df-convert\" onclick=\"convertToInteractive('df-f21db0e5-7068-48f0-8602-b0e05b0efe8a')\"\n",
              "              title=\"Convert this dataframe to an interactive table.\"\n",
              "              style=\"display:none;\">\n",
              "        \n",
              "  <svg xmlns=\"http://www.w3.org/2000/svg\" height=\"24px\"viewBox=\"0 0 24 24\"\n",
              "       width=\"24px\">\n",
              "    <path d=\"M0 0h24v24H0V0z\" fill=\"none\"/>\n",
              "    <path d=\"M18.56 5.44l.94 2.06.94-2.06 2.06-.94-2.06-.94-.94-2.06-.94 2.06-2.06.94zm-11 1L8.5 8.5l.94-2.06 2.06-.94-2.06-.94L8.5 2.5l-.94 2.06-2.06.94zm10 10l.94 2.06.94-2.06 2.06-.94-2.06-.94-.94-2.06-.94 2.06-2.06.94z\"/><path d=\"M17.41 7.96l-1.37-1.37c-.4-.4-.92-.59-1.43-.59-.52 0-1.04.2-1.43.59L10.3 9.45l-7.72 7.72c-.78.78-.78 2.05 0 2.83L4 21.41c.39.39.9.59 1.41.59.51 0 1.02-.2 1.41-.59l7.78-7.78 2.81-2.81c.8-.78.8-2.07 0-2.86zM5.41 20L4 18.59l7.72-7.72 1.47 1.35L5.41 20z\"/>\n",
              "  </svg>\n",
              "      </button>\n",
              "      \n",
              "  <style>\n",
              "    .colab-df-container {\n",
              "      display:flex;\n",
              "      flex-wrap:wrap;\n",
              "      gap: 12px;\n",
              "    }\n",
              "\n",
              "    .colab-df-convert {\n",
              "      background-color: #E8F0FE;\n",
              "      border: none;\n",
              "      border-radius: 50%;\n",
              "      cursor: pointer;\n",
              "      display: none;\n",
              "      fill: #1967D2;\n",
              "      height: 32px;\n",
              "      padding: 0 0 0 0;\n",
              "      width: 32px;\n",
              "    }\n",
              "\n",
              "    .colab-df-convert:hover {\n",
              "      background-color: #E2EBFA;\n",
              "      box-shadow: 0px 1px 2px rgba(60, 64, 67, 0.3), 0px 1px 3px 1px rgba(60, 64, 67, 0.15);\n",
              "      fill: #174EA6;\n",
              "    }\n",
              "\n",
              "    [theme=dark] .colab-df-convert {\n",
              "      background-color: #3B4455;\n",
              "      fill: #D2E3FC;\n",
              "    }\n",
              "\n",
              "    [theme=dark] .colab-df-convert:hover {\n",
              "      background-color: #434B5C;\n",
              "      box-shadow: 0px 1px 3px 1px rgba(0, 0, 0, 0.15);\n",
              "      filter: drop-shadow(0px 1px 2px rgba(0, 0, 0, 0.3));\n",
              "      fill: #FFFFFF;\n",
              "    }\n",
              "  </style>\n",
              "\n",
              "      <script>\n",
              "        const buttonEl =\n",
              "          document.querySelector('#df-f21db0e5-7068-48f0-8602-b0e05b0efe8a button.colab-df-convert');\n",
              "        buttonEl.style.display =\n",
              "          google.colab.kernel.accessAllowed ? 'block' : 'none';\n",
              "\n",
              "        async function convertToInteractive(key) {\n",
              "          const element = document.querySelector('#df-f21db0e5-7068-48f0-8602-b0e05b0efe8a');\n",
              "          const dataTable =\n",
              "            await google.colab.kernel.invokeFunction('convertToInteractive',\n",
              "                                                     [key], {});\n",
              "          if (!dataTable) return;\n",
              "\n",
              "          const docLinkHtml = 'Like what you see? Visit the ' +\n",
              "            '<a target=\"_blank\" href=https://colab.research.google.com/notebooks/data_table.ipynb>data table notebook</a>'\n",
              "            + ' to learn more about interactive tables.';\n",
              "          element.innerHTML = '';\n",
              "          dataTable['output_type'] = 'display_data';\n",
              "          await google.colab.output.renderOutput(dataTable, element);\n",
              "          const docLink = document.createElement('div');\n",
              "          docLink.innerHTML = docLinkHtml;\n",
              "          element.appendChild(docLink);\n",
              "        }\n",
              "      </script>\n",
              "    </div>\n",
              "  </div>\n",
              "  "
            ]
          },
          "metadata": {},
          "execution_count": 151
        }
      ]
    },
    {
      "cell_type": "markdown",
      "metadata": {
        "id": "5baj3Kruq3P4"
      },
      "source": [
        "**Here we see the mode of all column is showing in the first row**"
      ]
    },
    {
      "cell_type": "markdown",
      "metadata": {
        "id": "yo3J-9Zrqppj"
      },
      "source": [
        "**Now Replace the null values of Children Column**"
      ]
    },
    {
      "cell_type": "markdown",
      "metadata": {
        "id": "R-QkQpxUsBfz"
      },
      "source": [
        "**To see the mode of children column**"
      ]
    },
    {
      "cell_type": "code",
      "metadata": {
        "colab": {
          "base_uri": "https://localhost:8080/"
        },
        "id": "SilESF5csIw-",
        "outputId": "f303d7c3-97a9-4980-d346-4d41bbea27f8"
      },
      "source": [
        "df.mode()['Children'] ## only applied on first row because df.mode() returns a dataframe with one row"
      ],
      "execution_count": null,
      "outputs": [
        {
          "output_type": "execute_result",
          "data": {
            "text/plain": [
              "0      0.0\n",
              "1      NaN\n",
              "2      NaN\n",
              "3      NaN\n",
              "4      NaN\n",
              "      ... \n",
              "995    NaN\n",
              "996    NaN\n",
              "997    NaN\n",
              "998    NaN\n",
              "999    NaN\n",
              "Name: Children, Length: 1000, dtype: float64"
            ]
          },
          "metadata": {},
          "execution_count": 152
        }
      ]
    },
    {
      "cell_type": "markdown",
      "metadata": {
        "id": "URCNjE6Czj3Y"
      },
      "source": [
        "**Or another option is**"
      ]
    },
    {
      "cell_type": "code",
      "metadata": {
        "colab": {
          "base_uri": "https://localhost:8080/"
        },
        "id": "a6CXx2BissJs",
        "outputId": "a520cfe0-8cc8-4b44-9d34-647310f899fe"
      },
      "source": [
        "df.mode()['Children'][0] # [0] means converting df to series and hence working on the whole series"
      ],
      "execution_count": null,
      "outputs": [
        {
          "output_type": "execute_result",
          "data": {
            "text/plain": [
              "0.0"
            ]
          },
          "metadata": {},
          "execution_count": 33
        }
      ]
    },
    {
      "cell_type": "markdown",
      "metadata": {
        "id": "hIJPSxQ-s8Ky"
      },
      "source": [
        "**To replace the Null values in Children Column**"
      ]
    },
    {
      "cell_type": "code",
      "metadata": {
        "id": "Jk2X5oXTtCl9"
      },
      "source": [
        "df['Children'][pd.isnull(df['Children'])] = df.mode()['Children'][0]"
      ],
      "execution_count": null,
      "outputs": []
    },
    {
      "cell_type": "code",
      "metadata": {
        "colab": {
          "base_uri": "https://localhost:8080/"
        },
        "id": "JwMmPjefthQ0",
        "outputId": "a6743449-6ed7-490f-c3b6-13da2ad36ebb"
      },
      "source": [
        "df.info()"
      ],
      "execution_count": null,
      "outputs": [
        {
          "output_type": "stream",
          "name": "stdout",
          "text": [
            "<class 'pandas.core.frame.DataFrame'>\n",
            "RangeIndex: 1000 entries, 0 to 999\n",
            "Data columns (total 13 columns):\n",
            " #   Column            Non-Null Count  Dtype  \n",
            "---  ------            --------------  -----  \n",
            " 0   ID                1000 non-null   int64  \n",
            " 1   Marital Status    1000 non-null   object \n",
            " 2   Gender            1000 non-null   object \n",
            " 3   Income            1000 non-null   float64\n",
            " 4   Children          1000 non-null   float64\n",
            " 5   Education         1000 non-null   object \n",
            " 6   Occupation        1000 non-null   object \n",
            " 7   Home Owner        1000 non-null   object \n",
            " 8   Cars              991 non-null    float64\n",
            " 9   Commute Distance  1000 non-null   object \n",
            " 10  Region            1000 non-null   object \n",
            " 11  Age               992 non-null    float64\n",
            " 12  Purchased Bike    1000 non-null   object \n",
            "dtypes: float64(4), int64(1), object(8)\n",
            "memory usage: 101.7+ KB\n"
          ]
        }
      ]
    },
    {
      "cell_type": "markdown",
      "metadata": {
        "id": "zjBn4mWo0R0C"
      },
      "source": [
        "**To Replace the Null Values for Cars Column**"
      ]
    },
    {
      "cell_type": "code",
      "metadata": {
        "colab": {
          "base_uri": "https://localhost:8080/"
        },
        "id": "pHNZxmZI0Xdq",
        "outputId": "8f28d5be-cc6d-4e0e-c9cf-91b22a9a9321"
      },
      "source": [
        "df.mode()['Cars'][0]"
      ],
      "execution_count": null,
      "outputs": [
        {
          "output_type": "execute_result",
          "data": {
            "text/plain": [
              "2.0"
            ]
          },
          "metadata": {},
          "execution_count": 36
        }
      ]
    },
    {
      "cell_type": "code",
      "metadata": {
        "id": "ipOC6O4c0d_T"
      },
      "source": [
        "df['Cars'][pd.isnull(df['Cars'])] = df.mode()['Cars'][0]"
      ],
      "execution_count": null,
      "outputs": []
    },
    {
      "cell_type": "code",
      "metadata": {
        "colab": {
          "base_uri": "https://localhost:8080/"
        },
        "id": "yDi9eDips4c2",
        "outputId": "d831f540-b64e-4301-8062-0cfcadcafdbe"
      },
      "source": [
        "df.info()"
      ],
      "execution_count": null,
      "outputs": [
        {
          "output_type": "stream",
          "name": "stdout",
          "text": [
            "<class 'pandas.core.frame.DataFrame'>\n",
            "RangeIndex: 1000 entries, 0 to 999\n",
            "Data columns (total 13 columns):\n",
            " #   Column            Non-Null Count  Dtype  \n",
            "---  ------            --------------  -----  \n",
            " 0   ID                1000 non-null   int64  \n",
            " 1   Marital Status    1000 non-null   object \n",
            " 2   Gender            1000 non-null   object \n",
            " 3   Income            1000 non-null   float64\n",
            " 4   Children          1000 non-null   float64\n",
            " 5   Education         1000 non-null   object \n",
            " 6   Occupation        1000 non-null   object \n",
            " 7   Home Owner        1000 non-null   object \n",
            " 8   Cars              1000 non-null   float64\n",
            " 9   Commute Distance  1000 non-null   object \n",
            " 10  Region            1000 non-null   object \n",
            " 11  Age               992 non-null    float64\n",
            " 12  Purchased Bike    1000 non-null   object \n",
            "dtypes: float64(4), int64(1), object(8)\n",
            "memory usage: 101.7+ KB\n"
          ]
        }
      ]
    },
    {
      "cell_type": "markdown",
      "metadata": {
        "id": "3iWV9ia41ULZ"
      },
      "source": [
        "**To Replace the Null Values for Age Column**"
      ]
    },
    {
      "cell_type": "code",
      "metadata": {
        "colab": {
          "base_uri": "https://localhost:8080/"
        },
        "id": "aBDFWDrX1jQy",
        "outputId": "41d03cde-6fc3-4676-9b56-fc44b5c1d145"
      },
      "source": [
        "df.mode()['Age'][0]"
      ],
      "execution_count": null,
      "outputs": [
        {
          "output_type": "execute_result",
          "data": {
            "text/plain": [
              "40.0"
            ]
          },
          "metadata": {},
          "execution_count": 39
        }
      ]
    },
    {
      "cell_type": "code",
      "metadata": {
        "id": "FTVvHHgw1om4"
      },
      "source": [
        "df['Age'][pd.isnull(df['Age'])] = df.mode()['Age'][0]"
      ],
      "execution_count": null,
      "outputs": []
    },
    {
      "cell_type": "code",
      "metadata": {
        "colab": {
          "base_uri": "https://localhost:8080/"
        },
        "id": "2JvQs_Ul18d_",
        "outputId": "6229c347-8769-42d8-b091-abfdbffed3e2"
      },
      "source": [
        "df.info()"
      ],
      "execution_count": null,
      "outputs": [
        {
          "output_type": "stream",
          "name": "stdout",
          "text": [
            "<class 'pandas.core.frame.DataFrame'>\n",
            "RangeIndex: 1000 entries, 0 to 999\n",
            "Data columns (total 13 columns):\n",
            " #   Column            Non-Null Count  Dtype  \n",
            "---  ------            --------------  -----  \n",
            " 0   ID                1000 non-null   int64  \n",
            " 1   Marital Status    1000 non-null   object \n",
            " 2   Gender            1000 non-null   object \n",
            " 3   Income            1000 non-null   float64\n",
            " 4   Children          1000 non-null   float64\n",
            " 5   Education         1000 non-null   object \n",
            " 6   Occupation        1000 non-null   object \n",
            " 7   Home Owner        1000 non-null   object \n",
            " 8   Cars              1000 non-null   float64\n",
            " 9   Commute Distance  1000 non-null   object \n",
            " 10  Region            1000 non-null   object \n",
            " 11  Age               1000 non-null   float64\n",
            " 12  Purchased Bike    1000 non-null   object \n",
            "dtypes: float64(4), int64(1), object(8)\n",
            "memory usage: 101.7+ KB\n"
          ]
        }
      ]
    },
    {
      "cell_type": "markdown",
      "source": [
        "## **We are done with the data cleaning and missing value handling.**"
      ],
      "metadata": {
        "id": "MFsW66tqzzFu"
      }
    },
    {
      "cell_type": "markdown",
      "source": [
        "# **Exploratory Data Analysis**"
      ],
      "metadata": {
        "id": "iNUt5yIb0Ump"
      }
    },
    {
      "cell_type": "markdown",
      "source": [
        "***Purchased Bike Distribution***"
      ],
      "metadata": {
        "id": "0R6bI3O1462B"
      }
    },
    {
      "cell_type": "code",
      "source": [
        "plt.figure(figsize = (10, 6))\n",
        "sns.histplot(data = df, x='Purchased Bike', bins = 'auto')\n",
        "plt.xlabel('Purchased Bike')\n",
        "plt.ylabel('Count')\n",
        "plt.show()"
      ],
      "metadata": {
        "colab": {
          "base_uri": "https://localhost:8080/",
          "height": 394
        },
        "id": "Nw0NrypE4aZz",
        "outputId": "fad8e996-88b1-40e8-9688-9dc14b5c9c84"
      },
      "execution_count": null,
      "outputs": [
        {
          "output_type": "display_data",
          "data": {
            "text/plain": [
              "<Figure size 720x432 with 1 Axes>"
            ],
            "image/png": "[encoded data removed]"
          },
          "metadata": {}
        }
      ]
    },
    {
      "cell_type": "markdown",
      "source": [
        "***Income And Purchased Bike Relation***"
      ],
      "metadata": {
        "id": "CDPEipDT39BJ"
      }
    },
    {
      "cell_type": "code",
      "source": [
        "plt.figure(figsize = (10, 6))\n",
        "sns.histplot(data = df, x = 'Income', bins = 'auto',  hue = 'Purchased Bike')\n",
        "plt.xlabel('Income')\n",
        "plt.ylabel('Count')\n",
        "plt.show()"
      ],
      "metadata": {
        "colab": {
          "base_uri": "https://localhost:8080/",
          "height": 394
        },
        "id": "SH8lSrZj3PUI",
        "outputId": "48cd832f-038b-4796-a9d6-4b5730e857fe"
      },
      "execution_count": null,
      "outputs": [
        {
          "output_type": "display_data",
          "data": {
            "text/plain": [
              "<Figure size 720x432 with 1 Axes>"
            ],
            "image/png": "[encoded data removed]"
          },
          "metadata": {}
        }
      ]
    },
    {
      "cell_type": "markdown",
      "source": [
        "***Age And Purchased Bike Relation***"
      ],
      "metadata": {
        "id": "uyLYM6tN5IZU"
      }
    },
    {
      "cell_type": "code",
      "source": [
        "plt.figure(figsize = (10, 6))\n",
        "sns.histplot(data = df, x = 'Age', bins = 'auto',  hue = 'Purchased Bike')\n",
        "plt.xlabel('Age')\n",
        "plt.ylabel('Count')\n",
        "plt.show()"
      ],
      "metadata": {
        "colab": {
          "base_uri": "https://localhost:8080/",
          "height": 394
        },
        "outputId": "952df400-9b8d-4afe-8709-15e022c53bbb",
        "id": "4KJob0x37-l3"
      },
      "execution_count": null,
      "outputs": [
        {
          "output_type": "display_data",
          "data": {
            "text/plain": [
              "<Figure size 720x432 with 1 Axes>"
            ],
            "image/png": "[encoded data removed]"
          },
          "metadata": {}
        }
      ]
    },
    {
      "cell_type": "markdown",
      "source": [
        "***Children And Purchased Bike Relation***"
      ],
      "metadata": {
        "id": "Z1KTX87Q5UC8"
      }
    },
    {
      "cell_type": "code",
      "source": [
        "plt.figure(figsize = (10, 6))\n",
        "sns.histplot(data = df, x = 'Children', bins = 'auto',  hue = 'Purchased Bike')\n",
        "plt.xlabel('Children')\n",
        "plt.ylabel('Count')\n",
        "plt.show()"
      ],
      "metadata": {
        "colab": {
          "base_uri": "https://localhost:8080/",
          "height": 394
        },
        "outputId": "8d3d5d0b-f4d1-4c2f-da86-df04cf4583ab",
        "id": "8DTVZ5m28Ywg"
      },
      "execution_count": null,
      "outputs": [
        {
          "output_type": "display_data",
          "data": {
            "text/plain": [
              "<Figure size 720x432 with 1 Axes>"
            ],
            "image/png": "[encoded data removed]"
          },
          "metadata": {}
        }
      ]
    },
    {
      "cell_type": "markdown",
      "source": [
        "***Marital Status And Purchased Bike Relation***"
      ],
      "metadata": {
        "id": "LMPw1OBu8jgO"
      }
    },
    {
      "cell_type": "code",
      "source": [
        "plt.figure(figsize = (10, 6))\n",
        "sns.histplot(data = df, x = 'Marital Status', bins = 'auto',  hue = 'Purchased Bike')\n",
        "plt.xlabel('Marital Status')\n",
        "plt.ylabel('Count')\n",
        "plt.show()"
      ],
      "metadata": {
        "colab": {
          "base_uri": "https://localhost:8080/",
          "height": 394
        },
        "outputId": "ddc870c9-f719-49e6-c574-d08b99b078fa",
        "id": "sOFkgvkp8qrd"
      },
      "execution_count": null,
      "outputs": [
        {
          "output_type": "display_data",
          "data": {
            "text/plain": [
              "<Figure size 720x432 with 1 Axes>"
            ],
            "image/png": "[encoded data removed]"
          },
          "metadata": {}
        }
      ]
    },
    {
      "cell_type": "markdown",
      "source": [
        "***Gender And Purchased Bike Relation***"
      ],
      "metadata": {
        "id": "dLM9gACd82Pt"
      }
    },
    {
      "cell_type": "code",
      "source": [
        "plt.figure(figsize = (10, 6))\n",
        "sns.histplot(data = df, x = 'Gender', bins = 'auto',  hue = 'Purchased Bike')\n",
        "plt.xlabel('Gender')\n",
        "plt.ylabel('Count')\n",
        "plt.show()"
      ],
      "metadata": {
        "colab": {
          "base_uri": "https://localhost:8080/",
          "height": 394
        },
        "outputId": "77926f8c-d99b-46b1-ebdc-529d1079bb2c",
        "id": "ZZf9zjBK85nu"
      },
      "execution_count": null,
      "outputs": [
        {
          "output_type": "display_data",
          "data": {
            "text/plain": [
              "<Figure size 720x432 with 1 Axes>"
            ],
            "image/png": "[encoded data removed]"
          },
          "metadata": {}
        }
      ]
    },
    {
      "cell_type": "markdown",
      "source": [
        "***Education And Purchased Bike Relation***"
      ],
      "metadata": {
        "id": "hE9wZnxO9ErF"
      }
    },
    {
      "cell_type": "code",
      "source": [
        "plt.figure(figsize = (10, 6))\n",
        "sns.histplot(data = df, x = 'Education', bins = 'auto',  hue = 'Purchased Bike')\n",
        "plt.xlabel('Education')\n",
        "plt.ylabel('Count')\n",
        "plt.show()"
      ],
      "metadata": {
        "colab": {
          "base_uri": "https://localhost:8080/",
          "height": 394
        },
        "outputId": "1c5d0fa8-f944-47ec-e2e2-acd4b0dcd9d1",
        "id": "ShcQoKRK9Iba"
      },
      "execution_count": null,
      "outputs": [
        {
          "output_type": "display_data",
          "data": {
            "text/plain": [
              "<Figure size 720x432 with 1 Axes>"
            ],
            "image/png": "[encoded data removed]"
          },
          "metadata": {}
        }
      ]
    },
    {
      "cell_type": "markdown",
      "source": [
        "***Occupation And Purchased Bike Relation***"
      ],
      "metadata": {
        "id": "7pH8lRXR9Qlj"
      }
    },
    {
      "cell_type": "code",
      "source": [
        "plt.figure(figsize = (10, 6))\n",
        "sns.histplot(data = df, x = 'Occupation', bins = 'auto',  hue = 'Purchased Bike')\n",
        "plt.xlabel('Occupation')\n",
        "plt.ylabel('Count')\n",
        "plt.show()"
      ],
      "metadata": {
        "colab": {
          "base_uri": "https://localhost:8080/",
          "height": 394
        },
        "outputId": "0267a239-77f3-413a-de5a-65701e45089c",
        "id": "DqoqqRpE9TpJ"
      },
      "execution_count": null,
      "outputs": [
        {
          "output_type": "display_data",
          "data": {
            "text/plain": [
              "<Figure size 720x432 with 1 Axes>"
            ],
            "image/png": "[encoded data removed]"
          },
          "metadata": {}
        }
      ]
    },
    {
      "cell_type": "markdown",
      "source": [
        "***Home Owner And Purchased Bike Relation***"
      ],
      "metadata": {
        "id": "rCBsiuv29aqj"
      }
    },
    {
      "cell_type": "code",
      "source": [
        "plt.figure(figsize = (10, 6))\n",
        "sns.histplot(data = df, x = 'Home Owner', bins = 'auto',  hue = 'Purchased Bike')\n",
        "plt.xlabel('Home Owner')\n",
        "plt.ylabel('Count')\n",
        "plt.show()"
      ],
      "metadata": {
        "colab": {
          "base_uri": "https://localhost:8080/",
          "height": 394
        },
        "outputId": "6621f9e8-9bc3-47af-9039-cae5d1b597fa",
        "id": "fZqixF379d0m"
      },
      "execution_count": null,
      "outputs": [
        {
          "output_type": "display_data",
          "data": {
            "text/plain": [
              "<Figure size 720x432 with 1 Axes>"
            ],
            "image/png": "[encoded data removed]"
          },
          "metadata": {}
        }
      ]
    },
    {
      "cell_type": "markdown",
      "source": [
        "***Commute Distance And Purchased Bike Relation***"
      ],
      "metadata": {
        "id": "L7S7R_Ua9n4T"
      }
    },
    {
      "cell_type": "code",
      "source": [
        "plt.figure(figsize = (10, 6))\n",
        "sns.histplot(data = df, x = 'Commute Distance', bins = 'auto',  hue = 'Purchased Bike')\n",
        "plt.xlabel('Commute Distance')\n",
        "plt.ylabel('Count')\n",
        "plt.show()"
      ],
      "metadata": {
        "colab": {
          "base_uri": "https://localhost:8080/",
          "height": 394
        },
        "outputId": "64285fc2-88a8-47f4-b3bd-b56d7333c753",
        "id": "TCrBdMK89rBs"
      },
      "execution_count": null,
      "outputs": [
        {
          "output_type": "display_data",
          "data": {
            "text/plain": [
              "<Figure size 720x432 with 1 Axes>"
            ],
            "image/png": "[encoded data removed]"
          },
          "metadata": {}
        }
      ]
    },
    {
      "cell_type": "markdown",
      "source": [
        "***Region And Purchased Bike Relation***"
      ],
      "metadata": {
        "id": "eB2aDpPO90xz"
      }
    },
    {
      "cell_type": "code",
      "source": [
        "plt.figure(figsize = (10, 6))\n",
        "sns.histplot(data = df, x = 'Region', bins = 'auto',  hue = 'Purchased Bike')\n",
        "plt.xlabel('Region')\n",
        "plt.ylabel('Count')\n",
        "plt.show()"
      ],
      "metadata": {
        "colab": {
          "base_uri": "https://localhost:8080/",
          "height": 395
        },
        "outputId": "ab83f31d-106c-49b5-ccac-89998015fc94",
        "id": "pPaSM-d5931B"
      },
      "execution_count": null,
      "outputs": [
        {
          "output_type": "display_data",
          "data": {
            "text/plain": [
              "<Figure size 720x432 with 1 Axes>"
            ],
            "image/png": "[encoded data removed]"
          },
          "metadata": {}
        }
      ]
    },
    {
      "cell_type": "markdown",
      "source": [
        "# **Data preprocessing**"
      ],
      "metadata": {
        "id": "wFEI0eKdAnmZ"
      }
    },
    {
      "cell_type": "markdown",
      "source": [
        "**Drop in The ID column Cause it's Have No Use.Using Drop Function To Drope Column axis 1 for column.**"
      ],
      "metadata": {
        "id": "xDl31t6R-vAx"
      }
    },
    {
      "cell_type": "code",
      "source": [
        "df = df.drop(columns=['ID'], axis=1, inplace=False) \n",
        "df.head(2)"
      ],
      "metadata": {
        "colab": {
          "base_uri": "https://localhost:8080/",
          "height": 112
        },
        "id": "rCnUZMb0-1EZ",
        "outputId": "7d8044cf-560f-418f-fd27-9f377917d6df"
      },
      "execution_count": null,
      "outputs": [
        {
          "output_type": "execute_result",
          "data": {
            "text/plain": [
              "  Marital Status  Gender   Income  Children        Education      Occupation  \\\n",
              "0        Married  Female  40000.0       1.0        Bachelors  Skilled Manual   \n",
              "1        Married    Male  30000.0       3.0  Partial College        Clerical   \n",
              "\n",
              "  Home Owner  Cars Commute Distance  Region   Age Purchased Bike  \n",
              "0        Yes   0.0        0-1 Miles  Europe  42.0             No  \n",
              "1        Yes   1.0        0-1 Miles  Europe  43.0             No  "
            ],
            "text/html": [
              "\n",
              "  <div id=\"df-d90070b7-6026-4248-a39e-b4661805b1a3\">\n",
              "    <div class=\"colab-df-container\">\n",
              "      <div>\n",
              "<style scoped>\n",
              "    .dataframe tbody tr th:only-of-type {\n",
              "        vertical-align: middle;\n",
              "    }\n",
              "\n",
              "    .dataframe tbody tr th {\n",
              "        vertical-align: top;\n",
              "    }\n",
              "\n",
              "    .dataframe thead th {\n",
              "        text-align: right;\n",
              "    }\n",
              "</style>\n",
              "<table border=\"1\" class=\"dataframe\">\n",
              "  <thead>\n",
              "    <tr style=\"text-align: right;\">\n",
              "      <th></th>\n",
              "      <th>Marital Status</th>\n",
              "      <th>Gender</th>\n",
              "      <th>Income</th>\n",
              "      <th>Children</th>\n",
              "      <th>Education</th>\n",
              "      <th>Occupation</th>\n",
              "      <th>Home Owner</th>\n",
              "      <th>Cars</th>\n",
              "      <th>Commute Distance</th>\n",
              "      <th>Region</th>\n",
              "      <th>Age</th>\n",
              "      <th>Purchased Bike</th>\n",
              "    </tr>\n",
              "  </thead>\n",
              "  <tbody>\n",
              "    <tr>\n",
              "      <th>0</th>\n",
              "      <td>Married</td>\n",
              "      <td>Female</td>\n",
              "      <td>40000.0</td>\n",
              "      <td>1.0</td>\n",
              "      <td>Bachelors</td>\n",
              "      <td>Skilled Manual</td>\n",
              "      <td>Yes</td>\n",
              "      <td>0.0</td>\n",
              "      <td>0-1 Miles</td>\n",
              "      <td>Europe</td>\n",
              "      <td>42.0</td>\n",
              "      <td>No</td>\n",
              "    </tr>\n",
              "    <tr>\n",
              "      <th>1</th>\n",
              "      <td>Married</td>\n",
              "      <td>Male</td>\n",
              "      <td>30000.0</td>\n",
              "      <td>3.0</td>\n",
              "      <td>Partial College</td>\n",
              "      <td>Clerical</td>\n",
              "      <td>Yes</td>\n",
              "      <td>1.0</td>\n",
              "      <td>0-1 Miles</td>\n",
              "      <td>Europe</td>\n",
              "      <td>43.0</td>\n",
              "      <td>No</td>\n",
              "    </tr>\n",
              "  </tbody>\n",
              "</table>\n",
              "</div>\n",
              "      <button class=\"colab-df-convert\" onclick=\"convertToInteractive('df-d90070b7-6026-4248-a39e-b4661805b1a3')\"\n",
              "              title=\"Convert this dataframe to an interactive table.\"\n",
              "              style=\"display:none;\">\n",
              "        \n",
              "  <svg xmlns=\"http://www.w3.org/2000/svg\" height=\"24px\"viewBox=\"0 0 24 24\"\n",
              "       width=\"24px\">\n",
              "    <path d=\"M0 0h24v24H0V0z\" fill=\"none\"/>\n",
              "    <path d=\"M18.56 5.44l.94 2.06.94-2.06 2.06-.94-2.06-.94-.94-2.06-.94 2.06-2.06.94zm-11 1L8.5 8.5l.94-2.06 2.06-.94-2.06-.94L8.5 2.5l-.94 2.06-2.06.94zm10 10l.94 2.06.94-2.06 2.06-.94-2.06-.94-.94-2.06-.94 2.06-2.06.94z\"/><path d=\"M17.41 7.96l-1.37-1.37c-.4-.4-.92-.59-1.43-.59-.52 0-1.04.2-1.43.59L10.3 9.45l-7.72 7.72c-.78.78-.78 2.05 0 2.83L4 21.41c.39.39.9.59 1.41.59.51 0 1.02-.2 1.41-.59l7.78-7.78 2.81-2.81c.8-.78.8-2.07 0-2.86zM5.41 20L4 18.59l7.72-7.72 1.47 1.35L5.41 20z\"/>\n",
              "  </svg>\n",
              "      </button>\n",
              "      \n",
              "  <style>\n",
              "    .colab-df-container {\n",
              "      display:flex;\n",
              "      flex-wrap:wrap;\n",
              "      gap: 12px;\n",
              "    }\n",
              "\n",
              "    .colab-df-convert {\n",
              "      background-color: #E8F0FE;\n",
              "      border: none;\n",
              "      border-radius: 50%;\n",
              "      cursor: pointer;\n",
              "      display: none;\n",
              "      fill: #1967D2;\n",
              "      height: 32px;\n",
              "      padding: 0 0 0 0;\n",
              "      width: 32px;\n",
              "    }\n",
              "\n",
              "    .colab-df-convert:hover {\n",
              "      background-color: #E2EBFA;\n",
              "      box-shadow: 0px 1px 2px rgba(60, 64, 67, 0.3), 0px 1px 3px 1px rgba(60, 64, 67, 0.15);\n",
              "      fill: #174EA6;\n",
              "    }\n",
              "\n",
              "    [theme=dark] .colab-df-convert {\n",
              "      background-color: #3B4455;\n",
              "      fill: #D2E3FC;\n",
              "    }\n",
              "\n",
              "    [theme=dark] .colab-df-convert:hover {\n",
              "      background-color: #434B5C;\n",
              "      box-shadow: 0px 1px 3px 1px rgba(0, 0, 0, 0.15);\n",
              "      filter: drop-shadow(0px 1px 2px rgba(0, 0, 0, 0.3));\n",
              "      fill: #FFFFFF;\n",
              "    }\n",
              "  </style>\n",
              "\n",
              "      <script>\n",
              "        const buttonEl =\n",
              "          document.querySelector('#df-d90070b7-6026-4248-a39e-b4661805b1a3 button.colab-df-convert');\n",
              "        buttonEl.style.display =\n",
              "          google.colab.kernel.accessAllowed ? 'block' : 'none';\n",
              "\n",
              "        async function convertToInteractive(key) {\n",
              "          const element = document.querySelector('#df-d90070b7-6026-4248-a39e-b4661805b1a3');\n",
              "          const dataTable =\n",
              "            await google.colab.kernel.invokeFunction('convertToInteractive',\n",
              "                                                     [key], {});\n",
              "          if (!dataTable) return;\n",
              "\n",
              "          const docLinkHtml = 'Like what you see? Visit the ' +\n",
              "            '<a target=\"_blank\" href=https://colab.research.google.com/notebooks/data_table.ipynb>data table notebook</a>'\n",
              "            + ' to learn more about interactive tables.';\n",
              "          element.innerHTML = '';\n",
              "          dataTable['output_type'] = 'display_data';\n",
              "          await google.colab.output.renderOutput(dataTable, element);\n",
              "          const docLink = document.createElement('div');\n",
              "          docLink.innerHTML = docLinkHtml;\n",
              "          element.appendChild(docLink);\n",
              "        }\n",
              "      </script>\n",
              "    </div>\n",
              "  </div>\n",
              "  "
            ]
          },
          "metadata": {},
          "execution_count": 53
        }
      ]
    },
    {
      "cell_type": "markdown",
      "source": [
        "# **Data Mapping**"
      ],
      "metadata": {
        "id": "ertzmzPuAy6H"
      }
    },
    {
      "cell_type": "code",
      "source": [
        "a = {'Married' :0, 'Single' :1, 'Not Known' :2}\n",
        "b = {'Male' :1, 'Female' :0, 'Not Known' :2}\n",
        "c = {'Bachelors' :0, 'Partial College' :1,'High School' :2, 'Graduate Degree' :3, 'Partial High School' :4}\n",
        "d = {'Professional' :0, 'Skilled Manual' :1,'Clerical' :2, 'Management' :3, 'Manual' :4}\n",
        "e = {'Yes' :1, 'No' :0, 'Not Known' :2}\n",
        "f = {'0-1 Miles' :0, '5-10 Miles' :1,'1-2 Miles' :2, '2-5 Miles' :3, '10+ Miles' :4}\n",
        "g = {'North America' :0, 'Europe' :1, 'Pacific' :2}\n",
        "h = {'Yes' :1, 'No' :0}\n",
        "# Replacing the the values In Dataframe.\n",
        "df = df.replace({'Marital Status': a})\n",
        "df = df.replace({'Gender': b})\n",
        "df = df.replace({'Education': c})\n",
        "df = df.replace({'Occupation': d})\n",
        "df = df.replace({'Home Owner': e})\n",
        "df = df.replace({'Commute Distance': f})\n",
        "df = df.replace({'Region': g})\n",
        "df = df.replace({'Purchased Bike': h})\n"
      ],
      "metadata": {
        "id": "xaAMmRw2_JwJ"
      },
      "execution_count": null,
      "outputs": []
    },
    {
      "cell_type": "code",
      "source": [
        "df.head()"
      ],
      "metadata": {
        "colab": {
          "base_uri": "https://localhost:8080/",
          "height": 206
        },
        "id": "qjw-N93OByRk",
        "outputId": "f3f71847-9f99-40c6-9b4d-d4e10418ab3b"
      },
      "execution_count": null,
      "outputs": [
        {
          "output_type": "execute_result",
          "data": {
            "text/plain": [
              "   Marital Status  Gender   Income  Children  Education  Occupation  \\\n",
              "0               0       0  40000.0       1.0          0           1   \n",
              "1               0       1  30000.0       3.0          1           2   \n",
              "2               0       1  80000.0       5.0          1           0   \n",
              "3               1       2  70000.0       0.0          0           0   \n",
              "4               1       1  30000.0       0.0          0           2   \n",
              "\n",
              "   Home Owner  Cars  Commute Distance  Region   Age  Purchased Bike  \n",
              "0           1   0.0                 0       1  42.0               0  \n",
              "1           1   1.0                 0       1  43.0               0  \n",
              "2           0   2.0                 3       1  60.0               0  \n",
              "3           1   1.0                 1       2  41.0               1  \n",
              "4           0   0.0                 0       1  36.0               1  "
            ],
            "text/html": [
              "\n",
              "  <div id=\"df-af109006-0dd9-4911-8e0f-a61bb29f49b4\">\n",
              "    <div class=\"colab-df-container\">\n",
              "      <div>\n",
              "<style scoped>\n",
              "    .dataframe tbody tr th:only-of-type {\n",
              "        vertical-align: middle;\n",
              "    }\n",
              "\n",
              "    .dataframe tbody tr th {\n",
              "        vertical-align: top;\n",
              "    }\n",
              "\n",
              "    .dataframe thead th {\n",
              "        text-align: right;\n",
              "    }\n",
              "</style>\n",
              "<table border=\"1\" class=\"dataframe\">\n",
              "  <thead>\n",
              "    <tr style=\"text-align: right;\">\n",
              "      <th></th>\n",
              "      <th>Marital Status</th>\n",
              "      <th>Gender</th>\n",
              "      <th>Income</th>\n",
              "      <th>Children</th>\n",
              "      <th>Education</th>\n",
              "      <th>Occupation</th>\n",
              "      <th>Home Owner</th>\n",
              "      <th>Cars</th>\n",
              "      <th>Commute Distance</th>\n",
              "      <th>Region</th>\n",
              "      <th>Age</th>\n",
              "      <th>Purchased Bike</th>\n",
              "    </tr>\n",
              "  </thead>\n",
              "  <tbody>\n",
              "    <tr>\n",
              "      <th>0</th>\n",
              "      <td>0</td>\n",
              "      <td>0</td>\n",
              "      <td>40000.0</td>\n",
              "      <td>1.0</td>\n",
              "      <td>0</td>\n",
              "      <td>1</td>\n",
              "      <td>1</td>\n",
              "      <td>0.0</td>\n",
              "      <td>0</td>\n",
              "      <td>1</td>\n",
              "      <td>42.0</td>\n",
              "      <td>0</td>\n",
              "    </tr>\n",
              "    <tr>\n",
              "      <th>1</th>\n",
              "      <td>0</td>\n",
              "      <td>1</td>\n",
              "      <td>30000.0</td>\n",
              "      <td>3.0</td>\n",
              "      <td>1</td>\n",
              "      <td>2</td>\n",
              "      <td>1</td>\n",
              "      <td>1.0</td>\n",
              "      <td>0</td>\n",
              "      <td>1</td>\n",
              "      <td>43.0</td>\n",
              "      <td>0</td>\n",
              "    </tr>\n",
              "    <tr>\n",
              "      <th>2</th>\n",
              "      <td>0</td>\n",
              "      <td>1</td>\n",
              "      <td>80000.0</td>\n",
              "      <td>5.0</td>\n",
              "      <td>1</td>\n",
              "      <td>0</td>\n",
              "      <td>0</td>\n",
              "      <td>2.0</td>\n",
              "      <td>3</td>\n",
              "      <td>1</td>\n",
              "      <td>60.0</td>\n",
              "      <td>0</td>\n",
              "    </tr>\n",
              "    <tr>\n",
              "      <th>3</th>\n",
              "      <td>1</td>\n",
              "      <td>2</td>\n",
              "      <td>70000.0</td>\n",
              "      <td>0.0</td>\n",
              "      <td>0</td>\n",
              "      <td>0</td>\n",
              "      <td>1</td>\n",
              "      <td>1.0</td>\n",
              "      <td>1</td>\n",
              "      <td>2</td>\n",
              "      <td>41.0</td>\n",
              "      <td>1</td>\n",
              "    </tr>\n",
              "    <tr>\n",
              "      <th>4</th>\n",
              "      <td>1</td>\n",
              "      <td>1</td>\n",
              "      <td>30000.0</td>\n",
              "      <td>0.0</td>\n",
              "      <td>0</td>\n",
              "      <td>2</td>\n",
              "      <td>0</td>\n",
              "      <td>0.0</td>\n",
              "      <td>0</td>\n",
              "      <td>1</td>\n",
              "      <td>36.0</td>\n",
              "      <td>1</td>\n",
              "    </tr>\n",
              "  </tbody>\n",
              "</table>\n",
              "</div>\n",
              "      <button class=\"colab-df-convert\" onclick=\"convertToInteractive('df-af109006-0dd9-4911-8e0f-a61bb29f49b4')\"\n",
              "              title=\"Convert this dataframe to an interactive table.\"\n",
              "              style=\"display:none;\">\n",
              "        \n",
              "  <svg xmlns=\"http://www.w3.org/2000/svg\" height=\"24px\"viewBox=\"0 0 24 24\"\n",
              "       width=\"24px\">\n",
              "    <path d=\"M0 0h24v24H0V0z\" fill=\"none\"/>\n",
              "    <path d=\"M18.56 5.44l.94 2.06.94-2.06 2.06-.94-2.06-.94-.94-2.06-.94 2.06-2.06.94zm-11 1L8.5 8.5l.94-2.06 2.06-.94-2.06-.94L8.5 2.5l-.94 2.06-2.06.94zm10 10l.94 2.06.94-2.06 2.06-.94-2.06-.94-.94-2.06-.94 2.06-2.06.94z\"/><path d=\"M17.41 7.96l-1.37-1.37c-.4-.4-.92-.59-1.43-.59-.52 0-1.04.2-1.43.59L10.3 9.45l-7.72 7.72c-.78.78-.78 2.05 0 2.83L4 21.41c.39.39.9.59 1.41.59.51 0 1.02-.2 1.41-.59l7.78-7.78 2.81-2.81c.8-.78.8-2.07 0-2.86zM5.41 20L4 18.59l7.72-7.72 1.47 1.35L5.41 20z\"/>\n",
              "  </svg>\n",
              "      </button>\n",
              "      \n",
              "  <style>\n",
              "    .colab-df-container {\n",
              "      display:flex;\n",
              "      flex-wrap:wrap;\n",
              "      gap: 12px;\n",
              "    }\n",
              "\n",
              "    .colab-df-convert {\n",
              "      background-color: #E8F0FE;\n",
              "      border: none;\n",
              "      border-radius: 50%;\n",
              "      cursor: pointer;\n",
              "      display: none;\n",
              "      fill: #1967D2;\n",
              "      height: 32px;\n",
              "      padding: 0 0 0 0;\n",
              "      width: 32px;\n",
              "    }\n",
              "\n",
              "    .colab-df-convert:hover {\n",
              "      background-color: #E2EBFA;\n",
              "      box-shadow: 0px 1px 2px rgba(60, 64, 67, 0.3), 0px 1px 3px 1px rgba(60, 64, 67, 0.15);\n",
              "      fill: #174EA6;\n",
              "    }\n",
              "\n",
              "    [theme=dark] .colab-df-convert {\n",
              "      background-color: #3B4455;\n",
              "      fill: #D2E3FC;\n",
              "    }\n",
              "\n",
              "    [theme=dark] .colab-df-convert:hover {\n",
              "      background-color: #434B5C;\n",
              "      box-shadow: 0px 1px 3px 1px rgba(0, 0, 0, 0.15);\n",
              "      filter: drop-shadow(0px 1px 2px rgba(0, 0, 0, 0.3));\n",
              "      fill: #FFFFFF;\n",
              "    }\n",
              "  </style>\n",
              "\n",
              "      <script>\n",
              "        const buttonEl =\n",
              "          document.querySelector('#df-af109006-0dd9-4911-8e0f-a61bb29f49b4 button.colab-df-convert');\n",
              "        buttonEl.style.display =\n",
              "          google.colab.kernel.accessAllowed ? 'block' : 'none';\n",
              "\n",
              "        async function convertToInteractive(key) {\n",
              "          const element = document.querySelector('#df-af109006-0dd9-4911-8e0f-a61bb29f49b4');\n",
              "          const dataTable =\n",
              "            await google.colab.kernel.invokeFunction('convertToInteractive',\n",
              "                                                     [key], {});\n",
              "          if (!dataTable) return;\n",
              "\n",
              "          const docLinkHtml = 'Like what you see? Visit the ' +\n",
              "            '<a target=\"_blank\" href=https://colab.research.google.com/notebooks/data_table.ipynb>data table notebook</a>'\n",
              "            + ' to learn more about interactive tables.';\n",
              "          element.innerHTML = '';\n",
              "          dataTable['output_type'] = 'display_data';\n",
              "          await google.colab.output.renderOutput(dataTable, element);\n",
              "          const docLink = document.createElement('div');\n",
              "          docLink.innerHTML = docLinkHtml;\n",
              "          element.appendChild(docLink);\n",
              "        }\n",
              "      </script>\n",
              "    </div>\n",
              "  </div>\n",
              "  "
            ]
          },
          "metadata": {},
          "execution_count": 55
        }
      ]
    },
    {
      "cell_type": "markdown",
      "source": [
        "# **Correlation and Heatmap**"
      ],
      "metadata": {
        "id": "DtY6htBGB8lq"
      }
    },
    {
      "cell_type": "code",
      "source": [
        "plt.figure(figsize=(12,10))\n",
        "cor = df.corr()\n",
        "sns.heatmap(cor, annot=True, cmap=plt.cm.CMRmap_r)\n",
        "plt.title('Heatmap for the Data Correlation')\n",
        "plt.show()"
      ],
      "metadata": {
        "colab": {
          "base_uri": "https://localhost:8080/",
          "height": 706
        },
        "id": "TkYItJvJB9N0",
        "outputId": "c97b26c9-eb07-4f12-f9d3-5de1c96bc904"
      },
      "execution_count": null,
      "outputs": [
        {
          "output_type": "display_data",
          "data": {
            "text/plain": [
              "<Figure size 864x720 with 2 Axes>"
            ],
            "image/png": "[encoded data removed]"
          },
          "metadata": {}
        }
      ]
    },
    {
      "cell_type": "markdown",
      "source": [
        "# **Model Training**"
      ],
      "metadata": {
        "id": "T5XMXBeNCHeJ"
      }
    },
    {
      "cell_type": "markdown",
      "source": [
        "# **Creating Feature columns and Target column**"
      ],
      "metadata": {
        "id": "vns6XyG8Z7JX"
      }
    },
    {
      "cell_type": "code",
      "source": [
        "feature_cols = ['Marital Status', 'Gender', 'Income', 'Children','Education','Occupation','Home Owner', 'Cars', 'Commute Distance', 'Region', 'Age']\n",
        "X = df[feature_cols]\n",
        "y = df['Purchased Bike']"
      ],
      "metadata": {
        "id": "c6r4614gCLUM"
      },
      "execution_count": null,
      "outputs": []
    },
    {
      "cell_type": "markdown",
      "source": [
        "# **Creating training and testing dataset**"
      ],
      "metadata": {
        "id": "MPdghNW3CpY5"
      }
    },
    {
      "cell_type": "code",
      "source": [
        "from sklearn.model_selection import train_test_split\n",
        "X_train, X_test, y_train, y_test = train_test_split(X, y, test_size = 0.1)\n",
        "X_test"
      ],
      "metadata": {
        "colab": {
          "base_uri": "https://localhost:8080/",
          "height": 423
        },
        "id": "Kiq44pbPCrJb",
        "outputId": "5dc8bbe6-2aea-4602-994c-5578103a8cac"
      },
      "execution_count": null,
      "outputs": [
        {
          "output_type": "execute_result",
          "data": {
            "text/plain": [
              "     Marital Status  Gender   Income  Children  Education  Occupation  \\\n",
              "294               1       1  20000.0       0.0          1           4   \n",
              "214               0       1  30000.0       1.0          0           2   \n",
              "463               1       1  20000.0       2.0          2           4   \n",
              "85                1       1  10000.0       0.0          1           4   \n",
              "673               1       0  70000.0       4.0          3           0   \n",
              "..              ...     ...      ...       ...        ...         ...   \n",
              "61                1       0  10000.0       2.0          2           4   \n",
              "185               0       0  90000.0       1.0          0           0   \n",
              "809               0       0  40000.0       4.0          2           0   \n",
              "828               1       0  40000.0       0.0          4           2   \n",
              "142               0       1  40000.0       1.0          0           1   \n",
              "\n",
              "     Home Owner  Cars  Commute Distance  Region   Age  \n",
              "294           0   1.0                 3       1  36.0  \n",
              "214           1   0.0                 0       1  65.0  \n",
              "463           1   1.0                 0       1  40.0  \n",
              "85            1   1.0                 2       2  26.0  \n",
              "673           1   0.0                 3       0  35.0  \n",
              "..          ...   ...               ...     ...   ...  \n",
              "61            1   0.0                 0       1  35.0  \n",
              "185           1   1.0                 3       2  47.0  \n",
              "809           1   2.0                 1       0  69.0  \n",
              "828           1   2.0                 1       0  26.0  \n",
              "142           1   0.0                 0       1  42.0  \n",
              "\n",
              "[100 rows x 11 columns]"
            ],
            "text/html": [
              "\n",
              "  <div id=\"df-824518ae-58c3-4113-bc4c-d1f595237ac2\">\n",
              "    <div class=\"colab-df-container\">\n",
              "      <div>\n",
              "<style scoped>\n",
              "    .dataframe tbody tr th:only-of-type {\n",
              "        vertical-align: middle;\n",
              "    }\n",
              "\n",
              "    .dataframe tbody tr th {\n",
              "        vertical-align: top;\n",
              "    }\n",
              "\n",
              "    .dataframe thead th {\n",
              "        text-align: right;\n",
              "    }\n",
              "</style>\n",
              "<table border=\"1\" class=\"dataframe\">\n",
              "  <thead>\n",
              "    <tr style=\"text-align: right;\">\n",
              "      <th></th>\n",
              "      <th>Marital Status</th>\n",
              "      <th>Gender</th>\n",
              "      <th>Income</th>\n",
              "      <th>Children</th>\n",
              "      <th>Education</th>\n",
              "      <th>Occupation</th>\n",
              "      <th>Home Owner</th>\n",
              "      <th>Cars</th>\n",
              "      <th>Commute Distance</th>\n",
              "      <th>Region</th>\n",
              "      <th>Age</th>\n",
              "    </tr>\n",
              "  </thead>\n",
              "  <tbody>\n",
              "    <tr>\n",
              "      <th>294</th>\n",
              "      <td>1</td>\n",
              "      <td>1</td>\n",
              "      <td>20000.0</td>\n",
              "      <td>0.0</td>\n",
              "      <td>1</td>\n",
              "      <td>4</td>\n",
              "      <td>0</td>\n",
              "      <td>1.0</td>\n",
              "      <td>3</td>\n",
              "      <td>1</td>\n",
              "      <td>36.0</td>\n",
              "    </tr>\n",
              "    <tr>\n",
              "      <th>214</th>\n",
              "      <td>0</td>\n",
              "      <td>1</td>\n",
              "      <td>30000.0</td>\n",
              "      <td>1.0</td>\n",
              "      <td>0</td>\n",
              "      <td>2</td>\n",
              "      <td>1</td>\n",
              "      <td>0.0</td>\n",
              "      <td>0</td>\n",
              "      <td>1</td>\n",
              "      <td>65.0</td>\n",
              "    </tr>\n",
              "    <tr>\n",
              "      <th>463</th>\n",
              "      <td>1</td>\n",
              "      <td>1</td>\n",
              "      <td>20000.0</td>\n",
              "      <td>2.0</td>\n",
              "      <td>2</td>\n",
              "      <td>4</td>\n",
              "      <td>1</td>\n",
              "      <td>1.0</td>\n",
              "      <td>0</td>\n",
              "      <td>1</td>\n",
              "      <td>40.0</td>\n",
              "    </tr>\n",
              "    <tr>\n",
              "      <th>85</th>\n",
              "      <td>1</td>\n",
              "      <td>1</td>\n",
              "      <td>10000.0</td>\n",
              "      <td>0.0</td>\n",
              "      <td>1</td>\n",
              "      <td>4</td>\n",
              "      <td>1</td>\n",
              "      <td>1.0</td>\n",
              "      <td>2</td>\n",
              "      <td>2</td>\n",
              "      <td>26.0</td>\n",
              "    </tr>\n",
              "    <tr>\n",
              "      <th>673</th>\n",
              "      <td>1</td>\n",
              "      <td>0</td>\n",
              "      <td>70000.0</td>\n",
              "      <td>4.0</td>\n",
              "      <td>3</td>\n",
              "      <td>0</td>\n",
              "      <td>1</td>\n",
              "      <td>0.0</td>\n",
              "      <td>3</td>\n",
              "      <td>0</td>\n",
              "      <td>35.0</td>\n",
              "    </tr>\n",
              "    <tr>\n",
              "      <th>...</th>\n",
              "      <td>...</td>\n",
              "      <td>...</td>\n",
              "      <td>...</td>\n",
              "      <td>...</td>\n",
              "      <td>...</td>\n",
              "      <td>...</td>\n",
              "      <td>...</td>\n",
              "      <td>...</td>\n",
              "      <td>...</td>\n",
              "      <td>...</td>\n",
              "      <td>...</td>\n",
              "    </tr>\n",
              "    <tr>\n",
              "      <th>61</th>\n",
              "      <td>1</td>\n",
              "      <td>0</td>\n",
              "      <td>10000.0</td>\n",
              "      <td>2.0</td>\n",
              "      <td>2</td>\n",
              "      <td>4</td>\n",
              "      <td>1</td>\n",
              "      <td>0.0</td>\n",
              "      <td>0</td>\n",
              "      <td>1</td>\n",
              "      <td>35.0</td>\n",
              "    </tr>\n",
              "    <tr>\n",
              "      <th>185</th>\n",
              "      <td>0</td>\n",
              "      <td>0</td>\n",
              "      <td>90000.0</td>\n",
              "      <td>1.0</td>\n",
              "      <td>0</td>\n",
              "      <td>0</td>\n",
              "      <td>1</td>\n",
              "      <td>1.0</td>\n",
              "      <td>3</td>\n",
              "      <td>2</td>\n",
              "      <td>47.0</td>\n",
              "    </tr>\n",
              "    <tr>\n",
              "      <th>809</th>\n",
              "      <td>0</td>\n",
              "      <td>0</td>\n",
              "      <td>40000.0</td>\n",
              "      <td>4.0</td>\n",
              "      <td>2</td>\n",
              "      <td>0</td>\n",
              "      <td>1</td>\n",
              "      <td>2.0</td>\n",
              "      <td>1</td>\n",
              "      <td>0</td>\n",
              "      <td>69.0</td>\n",
              "    </tr>\n",
              "    <tr>\n",
              "      <th>828</th>\n",
              "      <td>1</td>\n",
              "      <td>0</td>\n",
              "      <td>40000.0</td>\n",
              "      <td>0.0</td>\n",
              "      <td>4</td>\n",
              "      <td>2</td>\n",
              "      <td>1</td>\n",
              "      <td>2.0</td>\n",
              "      <td>1</td>\n",
              "      <td>0</td>\n",
              "      <td>26.0</td>\n",
              "    </tr>\n",
              "    <tr>\n",
              "      <th>142</th>\n",
              "      <td>0</td>\n",
              "      <td>1</td>\n",
              "      <td>40000.0</td>\n",
              "      <td>1.0</td>\n",
              "      <td>0</td>\n",
              "      <td>1</td>\n",
              "      <td>1</td>\n",
              "      <td>0.0</td>\n",
              "      <td>0</td>\n",
              "      <td>1</td>\n",
              "      <td>42.0</td>\n",
              "    </tr>\n",
              "  </tbody>\n",
              "</table>\n",
              "<p>100 rows × 11 columns</p>\n",
              "</div>\n",
              "      <button class=\"colab-df-convert\" onclick=\"convertToInteractive('df-824518ae-58c3-4113-bc4c-d1f595237ac2')\"\n",
              "              title=\"Convert this dataframe to an interactive table.\"\n",
              "              style=\"display:none;\">\n",
              "        \n",
              "  <svg xmlns=\"http://www.w3.org/2000/svg\" height=\"24px\"viewBox=\"0 0 24 24\"\n",
              "       width=\"24px\">\n",
              "    <path d=\"M0 0h24v24H0V0z\" fill=\"none\"/>\n",
              "    <path d=\"M18.56 5.44l.94 2.06.94-2.06 2.06-.94-2.06-.94-.94-2.06-.94 2.06-2.06.94zm-11 1L8.5 8.5l.94-2.06 2.06-.94-2.06-.94L8.5 2.5l-.94 2.06-2.06.94zm10 10l.94 2.06.94-2.06 2.06-.94-2.06-.94-.94-2.06-.94 2.06-2.06.94z\"/><path d=\"M17.41 7.96l-1.37-1.37c-.4-.4-.92-.59-1.43-.59-.52 0-1.04.2-1.43.59L10.3 9.45l-7.72 7.72c-.78.78-.78 2.05 0 2.83L4 21.41c.39.39.9.59 1.41.59.51 0 1.02-.2 1.41-.59l7.78-7.78 2.81-2.81c.8-.78.8-2.07 0-2.86zM5.41 20L4 18.59l7.72-7.72 1.47 1.35L5.41 20z\"/>\n",
              "  </svg>\n",
              "      </button>\n",
              "      \n",
              "  <style>\n",
              "    .colab-df-container {\n",
              "      display:flex;\n",
              "      flex-wrap:wrap;\n",
              "      gap: 12px;\n",
              "    }\n",
              "\n",
              "    .colab-df-convert {\n",
              "      background-color: #E8F0FE;\n",
              "      border: none;\n",
              "      border-radius: 50%;\n",
              "      cursor: pointer;\n",
              "      display: none;\n",
              "      fill: #1967D2;\n",
              "      height: 32px;\n",
              "      padding: 0 0 0 0;\n",
              "      width: 32px;\n",
              "    }\n",
              "\n",
              "    .colab-df-convert:hover {\n",
              "      background-color: #E2EBFA;\n",
              "      box-shadow: 0px 1px 2px rgba(60, 64, 67, 0.3), 0px 1px 3px 1px rgba(60, 64, 67, 0.15);\n",
              "      fill: #174EA6;\n",
              "    }\n",
              "\n",
              "    [theme=dark] .colab-df-convert {\n",
              "      background-color: #3B4455;\n",
              "      fill: #D2E3FC;\n",
              "    }\n",
              "\n",
              "    [theme=dark] .colab-df-convert:hover {\n",
              "      background-color: #434B5C;\n",
              "      box-shadow: 0px 1px 3px 1px rgba(0, 0, 0, 0.15);\n",
              "      filter: drop-shadow(0px 1px 2px rgba(0, 0, 0, 0.3));\n",
              "      fill: #FFFFFF;\n",
              "    }\n",
              "  </style>\n",
              "\n",
              "      <script>\n",
              "        const buttonEl =\n",
              "          document.querySelector('#df-824518ae-58c3-4113-bc4c-d1f595237ac2 button.colab-df-convert');\n",
              "        buttonEl.style.display =\n",
              "          google.colab.kernel.accessAllowed ? 'block' : 'none';\n",
              "\n",
              "        async function convertToInteractive(key) {\n",
              "          const element = document.querySelector('#df-824518ae-58c3-4113-bc4c-d1f595237ac2');\n",
              "          const dataTable =\n",
              "            await google.colab.kernel.invokeFunction('convertToInteractive',\n",
              "                                                     [key], {});\n",
              "          if (!dataTable) return;\n",
              "\n",
              "          const docLinkHtml = 'Like what you see? Visit the ' +\n",
              "            '<a target=\"_blank\" href=https://colab.research.google.com/notebooks/data_table.ipynb>data table notebook</a>'\n",
              "            + ' to learn more about interactive tables.';\n",
              "          element.innerHTML = '';\n",
              "          dataTable['output_type'] = 'display_data';\n",
              "          await google.colab.output.renderOutput(dataTable, element);\n",
              "          const docLink = document.createElement('div');\n",
              "          docLink.innerHTML = docLinkHtml;\n",
              "          element.appendChild(docLink);\n",
              "        }\n",
              "      </script>\n",
              "    </div>\n",
              "  </div>\n",
              "  "
            ]
          },
          "metadata": {},
          "execution_count": 59
        }
      ]
    },
    {
      "cell_type": "code",
      "source": [
        "y_test"
      ],
      "metadata": {
        "colab": {
          "base_uri": "https://localhost:8080/"
        },
        "id": "jHm8wswJCvjH",
        "outputId": "2a1226a8-9ddf-4128-d722-e9dc45283cae"
      },
      "execution_count": null,
      "outputs": [
        {
          "output_type": "execute_result",
          "data": {
            "text/plain": [
              "294    1\n",
              "214    1\n",
              "463    0\n",
              "85     1\n",
              "673    1\n",
              "      ..\n",
              "61     0\n",
              "185    1\n",
              "809    0\n",
              "828    0\n",
              "142    1\n",
              "Name: Purchased Bike, Length: 100, dtype: int64"
            ]
          },
          "metadata": {},
          "execution_count": 60
        }
      ]
    },
    {
      "cell_type": "markdown",
      "source": [
        "# **X_train and y_train**"
      ],
      "metadata": {
        "id": "shRhSW2EC2_5"
      }
    },
    {
      "cell_type": "code",
      "source": [
        "X_train"
      ],
      "metadata": {
        "colab": {
          "base_uri": "https://localhost:8080/",
          "height": 423
        },
        "id": "exxcBIH0C0iN",
        "outputId": "fab2967d-0662-47d8-99b4-5a3de50e53ea"
      },
      "execution_count": null,
      "outputs": [
        {
          "output_type": "execute_result",
          "data": {
            "text/plain": [
              "     Marital Status  Gender    Income  Children  Education  Occupation  \\\n",
              "687               1       1   30000.0       0.0          1           1   \n",
              "26                1       1   30000.0       0.0          1           2   \n",
              "183               1       1   40000.0       2.0          0           3   \n",
              "60                1       0   10000.0       1.0          2           4   \n",
              "147               0       0   40000.0       0.0          0           0   \n",
              "..              ...     ...       ...       ...        ...         ...   \n",
              "555               1       1   50000.0       0.0          1           1   \n",
              "291               0       1   40000.0       0.0          0           2   \n",
              "821               0       1   60000.0       0.0          1           1   \n",
              "968               1       1   30000.0       0.0          4           2   \n",
              "156               0       0  130000.0       5.0          1           0   \n",
              "\n",
              "     Home Owner  Cars  Commute Distance  Region   Age  \n",
              "687           1   2.0                 1       0  30.0  \n",
              "26            0   1.0                 0       1  29.0  \n",
              "183           1   2.0                 1       2  66.0  \n",
              "60            0   1.0                 2       1  45.0  \n",
              "147           0   0.0                 0       1  40.0  \n",
              "..          ...   ...               ...     ...   ...  \n",
              "555           0   1.0                 3       0  39.0  \n",
              "291           0   0.0                 0       1  38.0  \n",
              "821           1   2.0                 1       0  33.0  \n",
              "968           0   2.0                 1       0  27.0  \n",
              "156           1   4.0                 0       1  59.0  \n",
              "\n",
              "[900 rows x 11 columns]"
            ],
            "text/html": [
              "\n",
              "  <div id=\"df-1d346df2-d26f-4e1e-9e5e-3ef1085ea41c\">\n",
              "    <div class=\"colab-df-container\">\n",
              "      <div>\n",
              "<style scoped>\n",
              "    .dataframe tbody tr th:only-of-type {\n",
              "        vertical-align: middle;\n",
              "    }\n",
              "\n",
              "    .dataframe tbody tr th {\n",
              "        vertical-align: top;\n",
              "    }\n",
              "\n",
              "    .dataframe thead th {\n",
              "        text-align: right;\n",
              "    }\n",
              "</style>\n",
              "<table border=\"1\" class=\"dataframe\">\n",
              "  <thead>\n",
              "    <tr style=\"text-align: right;\">\n",
              "      <th></th>\n",
              "      <th>Marital Status</th>\n",
              "      <th>Gender</th>\n",
              "      <th>Income</th>\n",
              "      <th>Children</th>\n",
              "      <th>Education</th>\n",
              "      <th>Occupation</th>\n",
              "      <th>Home Owner</th>\n",
              "      <th>Cars</th>\n",
              "      <th>Commute Distance</th>\n",
              "      <th>Region</th>\n",
              "      <th>Age</th>\n",
              "    </tr>\n",
              "  </thead>\n",
              "  <tbody>\n",
              "    <tr>\n",
              "      <th>687</th>\n",
              "      <td>1</td>\n",
              "      <td>1</td>\n",
              "      <td>30000.0</td>\n",
              "      <td>0.0</td>\n",
              "      <td>1</td>\n",
              "      <td>1</td>\n",
              "      <td>1</td>\n",
              "      <td>2.0</td>\n",
              "      <td>1</td>\n",
              "      <td>0</td>\n",
              "      <td>30.0</td>\n",
              "    </tr>\n",
              "    <tr>\n",
              "      <th>26</th>\n",
              "      <td>1</td>\n",
              "      <td>1</td>\n",
              "      <td>30000.0</td>\n",
              "      <td>0.0</td>\n",
              "      <td>1</td>\n",
              "      <td>2</td>\n",
              "      <td>0</td>\n",
              "      <td>1.0</td>\n",
              "      <td>0</td>\n",
              "      <td>1</td>\n",
              "      <td>29.0</td>\n",
              "    </tr>\n",
              "    <tr>\n",
              "      <th>183</th>\n",
              "      <td>1</td>\n",
              "      <td>1</td>\n",
              "      <td>40000.0</td>\n",
              "      <td>2.0</td>\n",
              "      <td>0</td>\n",
              "      <td>3</td>\n",
              "      <td>1</td>\n",
              "      <td>2.0</td>\n",
              "      <td>1</td>\n",
              "      <td>2</td>\n",
              "      <td>66.0</td>\n",
              "    </tr>\n",
              "    <tr>\n",
              "      <th>60</th>\n",
              "      <td>1</td>\n",
              "      <td>0</td>\n",
              "      <td>10000.0</td>\n",
              "      <td>1.0</td>\n",
              "      <td>2</td>\n",
              "      <td>4</td>\n",
              "      <td>0</td>\n",
              "      <td>1.0</td>\n",
              "      <td>2</td>\n",
              "      <td>1</td>\n",
              "      <td>45.0</td>\n",
              "    </tr>\n",
              "    <tr>\n",
              "      <th>147</th>\n",
              "      <td>0</td>\n",
              "      <td>0</td>\n",
              "      <td>40000.0</td>\n",
              "      <td>0.0</td>\n",
              "      <td>0</td>\n",
              "      <td>0</td>\n",
              "      <td>0</td>\n",
              "      <td>0.0</td>\n",
              "      <td>0</td>\n",
              "      <td>1</td>\n",
              "      <td>40.0</td>\n",
              "    </tr>\n",
              "    <tr>\n",
              "      <th>...</th>\n",
              "      <td>...</td>\n",
              "      <td>...</td>\n",
              "      <td>...</td>\n",
              "      <td>...</td>\n",
              "      <td>...</td>\n",
              "      <td>...</td>\n",
              "      <td>...</td>\n",
              "      <td>...</td>\n",
              "      <td>...</td>\n",
              "      <td>...</td>\n",
              "      <td>...</td>\n",
              "    </tr>\n",
              "    <tr>\n",
              "      <th>555</th>\n",
              "      <td>1</td>\n",
              "      <td>1</td>\n",
              "      <td>50000.0</td>\n",
              "      <td>0.0</td>\n",
              "      <td>1</td>\n",
              "      <td>1</td>\n",
              "      <td>0</td>\n",
              "      <td>1.0</td>\n",
              "      <td>3</td>\n",
              "      <td>0</td>\n",
              "      <td>39.0</td>\n",
              "    </tr>\n",
              "    <tr>\n",
              "      <th>291</th>\n",
              "      <td>0</td>\n",
              "      <td>1</td>\n",
              "      <td>40000.0</td>\n",
              "      <td>0.0</td>\n",
              "      <td>0</td>\n",
              "      <td>2</td>\n",
              "      <td>0</td>\n",
              "      <td>0.0</td>\n",
              "      <td>0</td>\n",
              "      <td>1</td>\n",
              "      <td>38.0</td>\n",
              "    </tr>\n",
              "    <tr>\n",
              "      <th>821</th>\n",
              "      <td>0</td>\n",
              "      <td>1</td>\n",
              "      <td>60000.0</td>\n",
              "      <td>0.0</td>\n",
              "      <td>1</td>\n",
              "      <td>1</td>\n",
              "      <td>1</td>\n",
              "      <td>2.0</td>\n",
              "      <td>1</td>\n",
              "      <td>0</td>\n",
              "      <td>33.0</td>\n",
              "    </tr>\n",
              "    <tr>\n",
              "      <th>968</th>\n",
              "      <td>1</td>\n",
              "      <td>1</td>\n",
              "      <td>30000.0</td>\n",
              "      <td>0.0</td>\n",
              "      <td>4</td>\n",
              "      <td>2</td>\n",
              "      <td>0</td>\n",
              "      <td>2.0</td>\n",
              "      <td>1</td>\n",
              "      <td>0</td>\n",
              "      <td>27.0</td>\n",
              "    </tr>\n",
              "    <tr>\n",
              "      <th>156</th>\n",
              "      <td>0</td>\n",
              "      <td>0</td>\n",
              "      <td>130000.0</td>\n",
              "      <td>5.0</td>\n",
              "      <td>1</td>\n",
              "      <td>0</td>\n",
              "      <td>1</td>\n",
              "      <td>4.0</td>\n",
              "      <td>0</td>\n",
              "      <td>1</td>\n",
              "      <td>59.0</td>\n",
              "    </tr>\n",
              "  </tbody>\n",
              "</table>\n",
              "<p>900 rows × 11 columns</p>\n",
              "</div>\n",
              "      <button class=\"colab-df-convert\" onclick=\"convertToInteractive('df-1d346df2-d26f-4e1e-9e5e-3ef1085ea41c')\"\n",
              "              title=\"Convert this dataframe to an interactive table.\"\n",
              "              style=\"display:none;\">\n",
              "        \n",
              "  <svg xmlns=\"http://www.w3.org/2000/svg\" height=\"24px\"viewBox=\"0 0 24 24\"\n",
              "       width=\"24px\">\n",
              "    <path d=\"M0 0h24v24H0V0z\" fill=\"none\"/>\n",
              "    <path d=\"M18.56 5.44l.94 2.06.94-2.06 2.06-.94-2.06-.94-.94-2.06-.94 2.06-2.06.94zm-11 1L8.5 8.5l.94-2.06 2.06-.94-2.06-.94L8.5 2.5l-.94 2.06-2.06.94zm10 10l.94 2.06.94-2.06 2.06-.94-2.06-.94-.94-2.06-.94 2.06-2.06.94z\"/><path d=\"M17.41 7.96l-1.37-1.37c-.4-.4-.92-.59-1.43-.59-.52 0-1.04.2-1.43.59L10.3 9.45l-7.72 7.72c-.78.78-.78 2.05 0 2.83L4 21.41c.39.39.9.59 1.41.59.51 0 1.02-.2 1.41-.59l7.78-7.78 2.81-2.81c.8-.78.8-2.07 0-2.86zM5.41 20L4 18.59l7.72-7.72 1.47 1.35L5.41 20z\"/>\n",
              "  </svg>\n",
              "      </button>\n",
              "      \n",
              "  <style>\n",
              "    .colab-df-container {\n",
              "      display:flex;\n",
              "      flex-wrap:wrap;\n",
              "      gap: 12px;\n",
              "    }\n",
              "\n",
              "    .colab-df-convert {\n",
              "      background-color: #E8F0FE;\n",
              "      border: none;\n",
              "      border-radius: 50%;\n",
              "      cursor: pointer;\n",
              "      display: none;\n",
              "      fill: #1967D2;\n",
              "      height: 32px;\n",
              "      padding: 0 0 0 0;\n",
              "      width: 32px;\n",
              "    }\n",
              "\n",
              "    .colab-df-convert:hover {\n",
              "      background-color: #E2EBFA;\n",
              "      box-shadow: 0px 1px 2px rgba(60, 64, 67, 0.3), 0px 1px 3px 1px rgba(60, 64, 67, 0.15);\n",
              "      fill: #174EA6;\n",
              "    }\n",
              "\n",
              "    [theme=dark] .colab-df-convert {\n",
              "      background-color: #3B4455;\n",
              "      fill: #D2E3FC;\n",
              "    }\n",
              "\n",
              "    [theme=dark] .colab-df-convert:hover {\n",
              "      background-color: #434B5C;\n",
              "      box-shadow: 0px 1px 3px 1px rgba(0, 0, 0, 0.15);\n",
              "      filter: drop-shadow(0px 1px 2px rgba(0, 0, 0, 0.3));\n",
              "      fill: #FFFFFF;\n",
              "    }\n",
              "  </style>\n",
              "\n",
              "      <script>\n",
              "        const buttonEl =\n",
              "          document.querySelector('#df-1d346df2-d26f-4e1e-9e5e-3ef1085ea41c button.colab-df-convert');\n",
              "        buttonEl.style.display =\n",
              "          google.colab.kernel.accessAllowed ? 'block' : 'none';\n",
              "\n",
              "        async function convertToInteractive(key) {\n",
              "          const element = document.querySelector('#df-1d346df2-d26f-4e1e-9e5e-3ef1085ea41c');\n",
              "          const dataTable =\n",
              "            await google.colab.kernel.invokeFunction('convertToInteractive',\n",
              "                                                     [key], {});\n",
              "          if (!dataTable) return;\n",
              "\n",
              "          const docLinkHtml = 'Like what you see? Visit the ' +\n",
              "            '<a target=\"_blank\" href=https://colab.research.google.com/notebooks/data_table.ipynb>data table notebook</a>'\n",
              "            + ' to learn more about interactive tables.';\n",
              "          element.innerHTML = '';\n",
              "          dataTable['output_type'] = 'display_data';\n",
              "          await google.colab.output.renderOutput(dataTable, element);\n",
              "          const docLink = document.createElement('div');\n",
              "          docLink.innerHTML = docLinkHtml;\n",
              "          element.appendChild(docLink);\n",
              "        }\n",
              "      </script>\n",
              "    </div>\n",
              "  </div>\n",
              "  "
            ]
          },
          "metadata": {},
          "execution_count": 61
        }
      ]
    },
    {
      "cell_type": "code",
      "source": [
        "y_train"
      ],
      "metadata": {
        "colab": {
          "base_uri": "https://localhost:8080/"
        },
        "id": "_2GD0-nqC8Qh",
        "outputId": "7bfe086e-2bd1-4be4-ab2b-b08c0ca9b91a"
      },
      "execution_count": null,
      "outputs": [
        {
          "output_type": "execute_result",
          "data": {
            "text/plain": [
              "687    0\n",
              "26     1\n",
              "183    1\n",
              "60     0\n",
              "147    1\n",
              "      ..\n",
              "555    1\n",
              "291    1\n",
              "821    1\n",
              "968    0\n",
              "156    0\n",
              "Name: Purchased Bike, Length: 900, dtype: int64"
            ]
          },
          "metadata": {},
          "execution_count": 62
        }
      ]
    },
    {
      "cell_type": "markdown",
      "source": [
        "# **Various Types Of Machine Learning Algorithms Implementation On The Dataset**\n",
        "\n"
      ],
      "metadata": {
        "id": "C3SXraWkC__I"
      }
    },
    {
      "cell_type": "markdown",
      "source": [
        "# **1. Decision Tree Classifier.**"
      ],
      "metadata": {
        "id": "2is6-c4RDAaB"
      }
    },
    {
      "cell_type": "code",
      "source": [
        "from sklearn import tree\n",
        "\n",
        "tr = tree.DecisionTreeClassifier()\n",
        "tr.fit(X_train, y_train)\n",
        "y_pred = tr.predict(X_test)\n",
        "y_pred"
      ],
      "metadata": {
        "colab": {
          "base_uri": "https://localhost:8080/"
        },
        "id": "TAIH4TVHDNkc",
        "outputId": "109ea6ed-f6aa-4989-fffc-f9199f7957b3"
      },
      "execution_count": null,
      "outputs": [
        {
          "output_type": "execute_result",
          "data": {
            "text/plain": [
              "array([1, 0, 1, 1, 1, 1, 1, 1, 0, 1, 1, 1, 0, 0, 0, 1, 0, 0, 0, 1, 0, 0,\n",
              "       0, 0, 1, 0, 0, 0, 1, 0, 1, 1, 0, 0, 0, 0, 1, 0, 0, 1, 0, 1, 0, 0,\n",
              "       0, 1, 0, 1, 1, 0, 0, 0, 1, 0, 0, 0, 0, 1, 0, 1, 0, 0, 1, 0, 1, 0,\n",
              "       1, 1, 1, 1, 1, 0, 1, 1, 1, 0, 0, 0, 0, 1, 1, 1, 1, 1, 1, 0, 0, 0,\n",
              "       1, 0, 0, 1, 0, 1, 0, 0, 0, 1, 1, 0])"
            ]
          },
          "metadata": {},
          "execution_count": 63
        }
      ]
    },
    {
      "cell_type": "markdown",
      "source": [
        "## **Cross Validation**"
      ],
      "metadata": {
        "id": "BxZzvbTzE0TF"
      }
    },
    {
      "cell_type": "code",
      "metadata": {
        "colab": {
          "base_uri": "https://localhost:8080/"
        },
        "id": "N2YNQikDdM76",
        "outputId": "a7ed1245-f1dc-49b1-88b7-c48553eaa4e4"
      },
      "source": [
        "from sklearn import model_selection\n",
        "kfold = model_selection.KFold(n_splits = 10)\n",
        "tr = tree.DecisionTreeClassifier()\n",
        "tr.fit(X_train, y_train)\n",
        "results = model_selection.cross_val_score(tr, X_train, y_train, cv = kfold)\n",
        "results"
      ],
      "execution_count": null,
      "outputs": [
        {
          "output_type": "execute_result",
          "data": {
            "text/plain": [
              "array([0.68888889, 0.58888889, 0.64444444, 0.67777778, 0.65555556,\n",
              "       0.63333333, 0.52222222, 0.53333333, 0.72222222, 0.61111111])"
            ]
          },
          "metadata": {},
          "execution_count": 64
        }
      ]
    },
    {
      "cell_type": "markdown",
      "source": [
        "## **Accuracy**"
      ],
      "metadata": {
        "id": "Z5e59Bq8E_cP"
      }
    },
    {
      "cell_type": "code",
      "source": [
        "from sklearn import  metrics\n",
        "tr_acc = 100*tr.score(X_test, y_test)\n",
        "print('Decision Tree Classifier Predictions: \\n', tr.predict(X_test), '\\n Accuracy:', tr_acc, '%')\n"
      ],
      "metadata": {
        "colab": {
          "base_uri": "https://localhost:8080/"
        },
        "id": "Nbgf_Hi1E6mN",
        "outputId": "8413d3a4-1604-4e27-94c4-1ce88e158274"
      },
      "execution_count": null,
      "outputs": [
        {
          "output_type": "stream",
          "name": "stdout",
          "text": [
            "Decision Tree Classifier Predictions: \n",
            " [1 0 1 1 1 1 1 1 0 1 1 1 0 0 0 1 0 0 0 0 0 1 0 0 1 0 0 0 1 0 1 1 0 0 1 0 1\n",
            " 0 0 1 0 1 0 0 0 1 0 1 1 0 0 0 1 0 0 0 0 1 0 1 0 0 1 0 1 0 1 1 1 1 0 0 1 1\n",
            " 1 0 0 0 0 1 1 1 1 1 0 0 0 0 1 0 0 1 0 1 0 0 0 1 1 0] \n",
            " Accuracy: 65.0 %\n"
          ]
        }
      ]
    },
    {
      "cell_type": "markdown",
      "source": [
        "## **Classification Report**"
      ],
      "metadata": {
        "id": "0AT8JiHNFFT3"
      }
    },
    {
      "cell_type": "code",
      "source": [
        "from sklearn.metrics import classification_report\n",
        "print(classification_report(y_test, y_pred))"
      ],
      "metadata": {
        "colab": {
          "base_uri": "https://localhost:8080/"
        },
        "id": "wp2Ddw9oFDPK",
        "outputId": "98f044b4-59f7-44cc-cffe-aae64e91aad1"
      },
      "execution_count": null,
      "outputs": [
        {
          "output_type": "stream",
          "name": "stdout",
          "text": [
            "              precision    recall  f1-score   support\n",
            "\n",
            "           0       0.67      0.69      0.68        52\n",
            "           1       0.65      0.62      0.64        48\n",
            "\n",
            "    accuracy                           0.66       100\n",
            "   macro avg       0.66      0.66      0.66       100\n",
            "weighted avg       0.66      0.66      0.66       100\n",
            "\n"
          ]
        }
      ]
    },
    {
      "cell_type": "markdown",
      "source": [
        "## **Confusion Matrix**"
      ],
      "metadata": {
        "id": "AyE2dLN1FL7v"
      }
    },
    {
      "cell_type": "code",
      "source": [
        "from sklearn.metrics import confusion_matrix\n",
        "print(confusion_matrix(y_test, y_pred))"
      ],
      "metadata": {
        "colab": {
          "base_uri": "https://localhost:8080/"
        },
        "id": "K8vdD2uEFMs-",
        "outputId": "be4fcb38-d62b-4014-8796-c321fdd9edd2"
      },
      "execution_count": null,
      "outputs": [
        {
          "output_type": "stream",
          "name": "stdout",
          "text": [
            "[[36 16]\n",
            " [18 30]]\n"
          ]
        }
      ]
    },
    {
      "cell_type": "markdown",
      "source": [
        "## **Predicting New Data**"
      ],
      "metadata": {
        "id": "oKJK30dhFS8c"
      }
    },
    {
      "cell_type": "code",
      "source": [
        "New_Buyer = [[1, 1,\t30000.0,\t0.0,\t1,\t1,\t1,\t2.0,\t1,\t0,\t30.0]]"
      ],
      "metadata": {
        "id": "QksFaYzRFRxF"
      },
      "execution_count": null,
      "outputs": []
    },
    {
      "cell_type": "code",
      "source": [
        "tr.predict(New_Buyer)"
      ],
      "metadata": {
        "colab": {
          "base_uri": "https://localhost:8080/"
        },
        "id": "QdjmGbN9FY_M",
        "outputId": "ca410844-636d-474f-be2e-d871227c546b"
      },
      "execution_count": null,
      "outputs": [
        {
          "output_type": "execute_result",
          "data": {
            "text/plain": [
              "array([0])"
            ]
          },
          "metadata": {},
          "execution_count": 69
        }
      ]
    },
    {
      "cell_type": "markdown",
      "source": [
        "# **2. Random Forest Classifier.**"
      ],
      "metadata": {
        "id": "5EE9EwkIFfYm"
      }
    },
    {
      "cell_type": "code",
      "source": [
        "from sklearn.ensemble import RandomForestClassifier\n",
        "\n",
        "rf = RandomForestClassifier(n_estimators = 100)\n",
        "rf.fit(X_train, y_train)\n",
        "y_pred = rf.predict(X_test)\n",
        "y_pred"
      ],
      "metadata": {
        "colab": {
          "base_uri": "https://localhost:8080/"
        },
        "id": "aCYtJnlGFlnj",
        "outputId": "3b6a5f4c-a313-4309-8721-f5d11e47240a"
      },
      "execution_count": null,
      "outputs": [
        {
          "output_type": "execute_result",
          "data": {
            "text/plain": [
              "array([1, 0, 1, 1, 1, 1, 1, 1, 0, 0, 1, 1, 0, 0, 0, 0, 0, 0, 1, 0, 1, 1,\n",
              "       0, 0, 1, 0, 0, 0, 1, 0, 0, 1, 0, 0, 0, 0, 1, 0, 0, 0, 0, 0, 0, 0,\n",
              "       0, 1, 0, 0, 1, 0, 0, 0, 1, 0, 1, 0, 0, 1, 0, 0, 1, 0, 1, 1, 1, 0,\n",
              "       1, 1, 1, 1, 0, 1, 0, 1, 1, 0, 0, 0, 0, 1, 1, 1, 1, 1, 0, 0, 0, 0,\n",
              "       0, 0, 0, 1, 0, 1, 0, 1, 0, 1, 0, 0])"
            ]
          },
          "metadata": {},
          "execution_count": 70
        }
      ]
    },
    {
      "cell_type": "markdown",
      "source": [
        "## **Cross Validation**"
      ],
      "metadata": {
        "id": "2pez16iOXJdc"
      }
    },
    {
      "cell_type": "code",
      "source": [
        "from sklearn import model_selection\n",
        "kfold = model_selection.KFold(n_splits = 10)\n",
        "rf = RandomForestClassifier(n_estimators = 100)\n",
        "rf.fit(X_train, y_train)\n",
        "results = model_selection.cross_val_score(rf, X_train, y_train, cv = kfold)\n",
        "results"
      ],
      "metadata": {
        "colab": {
          "base_uri": "https://localhost:8080/"
        },
        "id": "hxIoVhumHEPQ",
        "outputId": "23add9fc-0173-4a85-8b06-f4a87ab8fdba"
      },
      "execution_count": null,
      "outputs": [
        {
          "output_type": "execute_result",
          "data": {
            "text/plain": [
              "array([0.73333333, 0.7       , 0.78888889, 0.8       , 0.68888889,\n",
              "       0.67777778, 0.71111111, 0.65555556, 0.72222222, 0.77777778])"
            ]
          },
          "metadata": {},
          "execution_count": 71
        }
      ]
    },
    {
      "cell_type": "markdown",
      "source": [
        "## **Accuracy**"
      ],
      "metadata": {
        "id": "rnivypPjXQRr"
      }
    },
    {
      "cell_type": "code",
      "source": [
        "from sklearn import  metrics\n",
        "rf_acc = 100*rf.score(X_test, y_test)\n",
        "print('Random Forest Classifier Predictions : \\n', rf.predict(X_test), '\\n Accuracy:', rf_acc, '%')\n"
      ],
      "metadata": {
        "colab": {
          "base_uri": "https://localhost:8080/"
        },
        "id": "BVl_z1VGHSHC",
        "outputId": "40741125-64f4-4ff4-bdd4-ab0ce0a59c3f"
      },
      "execution_count": null,
      "outputs": [
        {
          "output_type": "stream",
          "name": "stdout",
          "text": [
            "Random Forest Classifier Predictions : \n",
            " [1 1 1 1 1 1 1 1 0 0 1 0 0 1 1 1 1 0 1 1 1 1 1 1 1 1 1 1 1 0 1 1 1 1 1 1 1\n",
            " 1 1 1 1 1 0 0 1 1 1 0 1 0 1 1 1 1 1 1 1 1 1 1 1 1 1 1 1 1 1 1 1 1 1 1 1 1\n",
            " 1 1 0 1 1 1 1 1 1 1 0 1 1 1 1 1 0 1 1 1 1 1 1 1 1 1] \n",
            " Accuracy: 53.0 %\n"
          ]
        }
      ]
    },
    {
      "cell_type": "markdown",
      "source": [
        "## **Classification Report**"
      ],
      "metadata": {
        "id": "D6eo7TN5XZeb"
      }
    },
    {
      "cell_type": "code",
      "source": [
        "from sklearn.metrics import classification_report\n",
        "print(classification_report(y_test, y_pred))"
      ],
      "metadata": {
        "colab": {
          "base_uri": "https://localhost:8080/"
        },
        "id": "W3MsS2UjHUwf",
        "outputId": "1cc56502-f67f-4222-d70c-855e9c341f5c"
      },
      "execution_count": null,
      "outputs": [
        {
          "output_type": "stream",
          "name": "stdout",
          "text": [
            "              precision    recall  f1-score   support\n",
            "\n",
            "           0       0.64      0.73      0.68        52\n",
            "           1       0.66      0.56      0.61        48\n",
            "\n",
            "    accuracy                           0.65       100\n",
            "   macro avg       0.65      0.65      0.65       100\n",
            "weighted avg       0.65      0.65      0.65       100\n",
            "\n"
          ]
        }
      ]
    },
    {
      "cell_type": "markdown",
      "source": [
        "## **Confusion Matrix**"
      ],
      "metadata": {
        "id": "sIVeTMyQXfjq"
      }
    },
    {
      "cell_type": "code",
      "source": [
        "from sklearn.metrics import confusion_matrix\n",
        "print(confusion_matrix(y_test, y_pred))"
      ],
      "metadata": {
        "colab": {
          "base_uri": "https://localhost:8080/"
        },
        "id": "4pkCmICRHX5I",
        "outputId": "a027b961-26ba-4106-b19b-785c96872c01"
      },
      "execution_count": null,
      "outputs": [
        {
          "output_type": "stream",
          "name": "stdout",
          "text": [
            "[[38 14]\n",
            " [21 27]]\n"
          ]
        }
      ]
    },
    {
      "cell_type": "markdown",
      "source": [
        "## **Predicting New Data**"
      ],
      "metadata": {
        "id": "ZYdG-C7nXiwT"
      }
    },
    {
      "cell_type": "code",
      "source": [
        "New_Buyer = [[0, 1, 30000.0, 3.0, 0, 0, 1, 0.0, 1, 0, 47.0]]"
      ],
      "metadata": {
        "id": "H9xpdJgiHa6S"
      },
      "execution_count": null,
      "outputs": []
    },
    {
      "cell_type": "code",
      "source": [
        "rf.predict(New_Buyer)"
      ],
      "metadata": {
        "colab": {
          "base_uri": "https://localhost:8080/"
        },
        "id": "2kIe-KtmHhFW",
        "outputId": "f473d888-c463-42a5-ba4e-b4d1f32f7ba9"
      },
      "execution_count": null,
      "outputs": [
        {
          "output_type": "execute_result",
          "data": {
            "text/plain": [
              "array([1])"
            ]
          },
          "metadata": {},
          "execution_count": 82
        }
      ]
    },
    {
      "cell_type": "markdown",
      "source": [
        "# **3. Naive Bayes**"
      ],
      "metadata": {
        "id": "irPrfdOlHmH4"
      }
    },
    {
      "cell_type": "code",
      "source": [
        "from sklearn.naive_bayes import GaussianNB\n",
        "gnb = GaussianNB()\n",
        "gnb.fit(X_train, y_train)\n",
        "y_pred = gnb.predict(X_test)\n",
        "y_pred"
      ],
      "metadata": {
        "colab": {
          "base_uri": "https://localhost:8080/"
        },
        "id": "OIQlyI36Hj-I",
        "outputId": "d4f98596-12a4-4ef0-dd24-2530e942c6d0"
      },
      "execution_count": null,
      "outputs": [
        {
          "output_type": "execute_result",
          "data": {
            "text/plain": [
              "array([1, 0, 1, 1, 1, 0, 0, 1, 0, 0, 1, 0, 0, 1, 0, 0, 1, 0, 1, 1, 0, 0,\n",
              "       0, 0, 1, 0, 1, 0, 1, 0, 0, 1, 0, 1, 0, 0, 1, 1, 1, 0, 0, 0, 0, 1,\n",
              "       0, 0, 0, 0, 1, 0, 1, 0, 1, 1, 0, 0, 1, 1, 1, 0, 1, 0, 1, 1, 1, 0,\n",
              "       1, 0, 1, 1, 0, 1, 1, 1, 1, 0, 0, 0, 1, 1, 1, 1, 1, 1, 1, 0, 0, 0,\n",
              "       0, 1, 1, 1, 0, 1, 1, 1, 1, 0, 0, 1])"
            ]
          },
          "metadata": {},
          "execution_count": 83
        }
      ]
    },
    {
      "cell_type": "markdown",
      "source": [
        "## **Cross Validation**"
      ],
      "metadata": {
        "id": "8aeexw2oYCTb"
      }
    },
    {
      "cell_type": "code",
      "source": [
        "from sklearn import model_selection\n",
        "kfold = model_selection.KFold(n_splits = 10)\n",
        "gnb = GaussianNB()\n",
        "gnb.fit(X_train, y_train)\n",
        "results = model_selection.cross_val_score(gnb, X_train, y_train, cv = kfold)\n",
        "results"
      ],
      "metadata": {
        "colab": {
          "base_uri": "https://localhost:8080/"
        },
        "id": "ZoZQmM-7Hsb0",
        "outputId": "ae4419fd-1296-47a6-f644-dab9a1bb1184"
      },
      "execution_count": null,
      "outputs": [
        {
          "output_type": "execute_result",
          "data": {
            "text/plain": [
              "array([0.53333333, 0.56666667, 0.7       , 0.65555556, 0.52222222,\n",
              "       0.54444444, 0.53333333, 0.61111111, 0.62222222, 0.7       ])"
            ]
          },
          "metadata": {},
          "execution_count": 84
        }
      ]
    },
    {
      "cell_type": "markdown",
      "source": [
        "# **Accuracy**"
      ],
      "metadata": {
        "id": "sXQw5TT5YGmh"
      }
    },
    {
      "cell_type": "code",
      "source": [
        "from sklearn import  metrics\n",
        "gnb_acc = 100*gnb.score(X_test, y_test)\n",
        "print('Naive Bayes Predictions : \\n', gnb.predict(X_test), '\\n Accuracy:', gnb_acc, '%')\n"
      ],
      "metadata": {
        "colab": {
          "base_uri": "https://localhost:8080/"
        },
        "id": "1TcyLb0dHt5e",
        "outputId": "ee89b0ab-fe78-4b06-ba6c-097c07765544"
      },
      "execution_count": null,
      "outputs": [
        {
          "output_type": "stream",
          "name": "stdout",
          "text": [
            "Naive Bayes Predictions : \n",
            " [1 0 1 1 1 0 0 1 0 0 1 0 0 1 0 0 1 0 1 1 0 0 0 0 1 0 1 0 1 0 0 1 0 1 0 0 1\n",
            " 1 1 0 0 0 0 1 0 0 0 0 1 0 1 0 1 1 0 0 1 1 1 0 1 0 1 1 1 0 1 0 1 1 0 1 1 1\n",
            " 1 0 0 0 1 1 1 1 1 1 1 0 0 0 0 1 1 1 0 1 1 1 1 0 0 1] \n",
            " Accuracy: 72.0 %\n"
          ]
        }
      ]
    },
    {
      "cell_type": "markdown",
      "source": [
        "## **Classification Report**"
      ],
      "metadata": {
        "id": "xlO9JpntYLXp"
      }
    },
    {
      "cell_type": "code",
      "source": [
        "from sklearn.metrics import classification_report\n",
        "print(classification_report(y_test, y_pred))"
      ],
      "metadata": {
        "colab": {
          "base_uri": "https://localhost:8080/"
        },
        "id": "S17EFFh5HyqH",
        "outputId": "b74916eb-212e-45a2-f6c0-00831ab61b95"
      },
      "execution_count": null,
      "outputs": [
        {
          "output_type": "stream",
          "name": "stdout",
          "text": [
            "              precision    recall  f1-score   support\n",
            "\n",
            "           0       0.75      0.69      0.72        52\n",
            "           1       0.69      0.75      0.72        48\n",
            "\n",
            "    accuracy                           0.72       100\n",
            "   macro avg       0.72      0.72      0.72       100\n",
            "weighted avg       0.72      0.72      0.72       100\n",
            "\n"
          ]
        }
      ]
    },
    {
      "cell_type": "markdown",
      "source": [
        "## **Confusion Matrix**"
      ],
      "metadata": {
        "id": "Ts8yZyglYVDJ"
      }
    },
    {
      "cell_type": "code",
      "source": [
        "from sklearn.metrics import confusion_matrix\n",
        "print(confusion_matrix(y_test, y_pred))"
      ],
      "metadata": {
        "colab": {
          "base_uri": "https://localhost:8080/"
        },
        "id": "G1aV3VAvH1Wm",
        "outputId": "fccfcfdb-d173-4e1d-b5a4-09a1c47c5d88"
      },
      "execution_count": null,
      "outputs": [
        {
          "output_type": "stream",
          "name": "stdout",
          "text": [
            "[[36 16]\n",
            " [12 36]]\n"
          ]
        }
      ]
    },
    {
      "cell_type": "markdown",
      "source": [
        "## **Predicting New Data**"
      ],
      "metadata": {
        "id": "pL1Z4a0rYhdG"
      }
    },
    {
      "cell_type": "code",
      "source": [
        "New_Buyer = [[1,\t0,\t50000.0,\t5.0,\t0,\t1,\t1,\t4.0,\t1,\t0,\t50.0]]"
      ],
      "metadata": {
        "id": "GTf7LjpLH3zm"
      },
      "execution_count": null,
      "outputs": []
    },
    {
      "cell_type": "code",
      "source": [
        "gnb.predict(New_Buyer)"
      ],
      "metadata": {
        "id": "ArsjN4loH6UP",
        "colab": {
          "base_uri": "https://localhost:8080/"
        },
        "outputId": "acf19340-e548-4252-d0f6-5c5673081251"
      },
      "execution_count": null,
      "outputs": [
        {
          "output_type": "execute_result",
          "data": {
            "text/plain": [
              "array([0])"
            ]
          },
          "metadata": {},
          "execution_count": 91
        }
      ]
    },
    {
      "cell_type": "markdown",
      "source": [
        "# **4. Support Vector Machine (SVM)**"
      ],
      "metadata": {
        "id": "ZV_0bevqH7yO"
      }
    },
    {
      "cell_type": "code",
      "source": [
        "from sklearn import preprocessing\n",
        "from sklearn.svm import SVC\n",
        "\n",
        "svm = SVC(kernel ='linear')\n",
        "X_train = preprocessing.scale(X_train)\n",
        "X_test = preprocessing.scale(X_test)\n",
        "svm.fit(X_train, y_train)\n",
        "y_pred = svm.predict(X_test)\n",
        "y_pred"
      ],
      "metadata": {
        "colab": {
          "base_uri": "https://localhost:8080/"
        },
        "id": "E8OhiO55H-BO",
        "outputId": "46f2eddb-9f9d-4425-9b31-baf745b8de1b"
      },
      "execution_count": null,
      "outputs": [
        {
          "output_type": "execute_result",
          "data": {
            "text/plain": [
              "array([1, 1, 0, 1, 1, 0, 0, 1, 0, 0, 1, 0, 0, 1, 0, 0, 0, 0, 1, 1, 0, 0,\n",
              "       1, 0, 1, 0, 1, 0, 1, 0, 1, 1, 0, 1, 0, 0, 1, 0, 1, 0, 0, 0, 0, 1,\n",
              "       1, 0, 0, 0, 1, 0, 1, 0, 1, 1, 1, 0, 1, 1, 1, 1, 1, 0, 1, 1, 1, 0,\n",
              "       0, 0, 1, 1, 0, 0, 0, 1, 0, 0, 0, 0, 1, 1, 1, 0, 1, 1, 1, 0, 0, 0,\n",
              "       1, 1, 1, 1, 0, 1, 0, 1, 1, 0, 0, 1])"
            ]
          },
          "metadata": {},
          "execution_count": 92
        }
      ]
    },
    {
      "cell_type": "markdown",
      "source": [
        "## **Cross Validation**"
      ],
      "metadata": {
        "id": "sv3cMEDgYp2g"
      }
    },
    {
      "cell_type": "code",
      "source": [
        "from sklearn import model_selection\n",
        "kfold = model_selection.KFold(n_splits = 10)\n",
        "svm = SVC(kernel ='linear')\n",
        "svm.fit(X_train, y_train)\n",
        "results = model_selection.cross_val_score(svm, X_train, y_train, cv = kfold)\n",
        "results"
      ],
      "metadata": {
        "colab": {
          "base_uri": "https://localhost:8080/"
        },
        "id": "UrnOBd8QICR1",
        "outputId": "5dd35f39-64a1-4003-b8b1-9ee32657c7c1"
      },
      "execution_count": null,
      "outputs": [
        {
          "output_type": "execute_result",
          "data": {
            "text/plain": [
              "array([0.65555556, 0.54444444, 0.68888889, 0.66666667, 0.6       ,\n",
              "       0.55555556, 0.57777778, 0.57777778, 0.58888889, 0.71111111])"
            ]
          },
          "metadata": {},
          "execution_count": 93
        }
      ]
    },
    {
      "cell_type": "markdown",
      "source": [
        "## **Accuracy**"
      ],
      "metadata": {
        "id": "G6c9tPguYuaI"
      }
    },
    {
      "cell_type": "code",
      "source": [
        "from sklearn import  metrics\n",
        "svm_acc = 100*svm.score(X_test, y_test)\n",
        "print('Support Vector Machine Predictions : \\n', svm.predict(X_test), '\\n Accuracy:', svm_acc, '%')\n"
      ],
      "metadata": {
        "colab": {
          "base_uri": "https://localhost:8080/"
        },
        "id": "mlg0bIYwIFL2",
        "outputId": "b9161e6d-7538-4c25-eca5-a39e3d2a3521"
      },
      "execution_count": null,
      "outputs": [
        {
          "output_type": "stream",
          "name": "stdout",
          "text": [
            "Support Vector Machine Predictions : \n",
            " [1 1 0 1 1 0 0 1 0 0 1 0 0 1 0 0 0 0 1 1 0 0 1 0 1 0 1 0 1 0 1 1 0 1 0 0 1\n",
            " 0 1 0 0 0 0 1 1 0 0 0 1 0 1 0 1 1 1 0 1 1 1 1 1 0 1 1 1 0 0 0 1 1 0 0 0 1\n",
            " 0 0 0 0 1 1 1 0 1 1 1 0 0 0 1 1 1 1 0 1 0 1 1 0 0 1] \n",
            " Accuracy: 70.0 %\n"
          ]
        }
      ]
    },
    {
      "cell_type": "markdown",
      "source": [
        "## **Classification Report**"
      ],
      "metadata": {
        "id": "X--0use3Y0SO"
      }
    },
    {
      "cell_type": "code",
      "source": [
        "from sklearn.metrics import classification_report\n",
        "print(classification_report(y_test, y_pred))"
      ],
      "metadata": {
        "colab": {
          "base_uri": "https://localhost:8080/"
        },
        "id": "nxoOKYYIIHkr",
        "outputId": "6473cc21-a659-4c8d-924b-53d2c8a5cd49"
      },
      "execution_count": null,
      "outputs": [
        {
          "output_type": "stream",
          "name": "stdout",
          "text": [
            "              precision    recall  f1-score   support\n",
            "\n",
            "           0       0.72      0.69      0.71        52\n",
            "           1       0.68      0.71      0.69        48\n",
            "\n",
            "    accuracy                           0.70       100\n",
            "   macro avg       0.70      0.70      0.70       100\n",
            "weighted avg       0.70      0.70      0.70       100\n",
            "\n"
          ]
        }
      ]
    },
    {
      "cell_type": "markdown",
      "source": [
        "## **Confusion Matrix**"
      ],
      "metadata": {
        "id": "ApThVsqtY7mF"
      }
    },
    {
      "cell_type": "code",
      "source": [
        "from sklearn.metrics import confusion_matrix\n",
        "print(confusion_matrix(y_test, y_pred))"
      ],
      "metadata": {
        "colab": {
          "base_uri": "https://localhost:8080/"
        },
        "id": "plnwOeolIK1d",
        "outputId": "b8917acd-5c0e-4518-b367-b695e844e774"
      },
      "execution_count": null,
      "outputs": [
        {
          "output_type": "stream",
          "name": "stdout",
          "text": [
            "[[36 16]\n",
            " [14 34]]\n"
          ]
        }
      ]
    },
    {
      "cell_type": "markdown",
      "source": [
        "## **Predicting New Data**"
      ],
      "metadata": {
        "id": "kpVjXFvXZCsn"
      }
    },
    {
      "cell_type": "code",
      "source": [
        "New_Buyer = [[0,\t0,\t70000.0,\t4.0,\t1,\t1,\t1,\t2.0,\t1,\t0,\t60.0]]"
      ],
      "metadata": {
        "id": "s8bw0B6RINNW"
      },
      "execution_count": null,
      "outputs": []
    },
    {
      "cell_type": "code",
      "source": [
        "svm.predict(New_Buyer)"
      ],
      "metadata": {
        "id": "sp3kmsTXIP5O",
        "colab": {
          "base_uri": "https://localhost:8080/"
        },
        "outputId": "ee9c46c5-82bb-43b9-be90-b9fca473763f"
      },
      "execution_count": null,
      "outputs": [
        {
          "output_type": "execute_result",
          "data": {
            "text/plain": [
              "array([1])"
            ]
          },
          "metadata": {},
          "execution_count": 98
        }
      ]
    },
    {
      "cell_type": "markdown",
      "source": [
        "# **Summary**"
      ],
      "metadata": {
        "id": "2Ocnikn6bYTK"
      }
    },
    {
      "cell_type": "code",
      "source": [
        "pd.DataFrame(data={'Model': ['Decision Tree Classifier', 'Random Forest Classifier', 'Naive Bayes', 'Support Vector Machine (SVM)'], 'Accuracy %': [tr_acc, rf_acc, gnb_acc, svm_acc]})"
      ],
      "metadata": {
        "colab": {
          "base_uri": "https://localhost:8080/",
          "height": 175
        },
        "id": "IluryCbubYLz",
        "outputId": "6fa0596a-70b1-4c07-ab09-668f9f16efb8"
      },
      "execution_count": null,
      "outputs": [
        {
          "output_type": "execute_result",
          "data": {
            "text/plain": [
              "                          Model  Accuracy %\n",
              "0      Decision Tree Classifier        65.0\n",
              "1      Random Forest Classifier        69.0\n",
              "2                   Naive Bayes        72.0\n",
              "3  Support Vector Machine (SVM)        70.0"
            ],
            "text/html": [
              "\n",
              "  <div id=\"df-e12be01f-8154-4481-8b76-f7ba4a4c2b3b\">\n",
              "    <div class=\"colab-df-container\">\n",
              "      <div>\n",
              "<style scoped>\n",
              "    .dataframe tbody tr th:only-of-type {\n",
              "        vertical-align: middle;\n",
              "    }\n",
              "\n",
              "    .dataframe tbody tr th {\n",
              "        vertical-align: top;\n",
              "    }\n",
              "\n",
              "    .dataframe thead th {\n",
              "        text-align: right;\n",
              "    }\n",
              "</style>\n",
              "<table border=\"1\" class=\"dataframe\">\n",
              "  <thead>\n",
              "    <tr style=\"text-align: right;\">\n",
              "      <th></th>\n",
              "      <th>Model</th>\n",
              "      <th>Accuracy %</th>\n",
              "    </tr>\n",
              "  </thead>\n",
              "  <tbody>\n",
              "    <tr>\n",
              "      <th>0</th>\n",
              "      <td>Decision Tree Classifier</td>\n",
              "      <td>65.0</td>\n",
              "    </tr>\n",
              "    <tr>\n",
              "      <th>1</th>\n",
              "      <td>Random Forest Classifier</td>\n",
              "      <td>69.0</td>\n",
              "    </tr>\n",
              "    <tr>\n",
              "      <th>2</th>\n",
              "      <td>Naive Bayes</td>\n",
              "      <td>72.0</td>\n",
              "    </tr>\n",
              "    <tr>\n",
              "      <th>3</th>\n",
              "      <td>Support Vector Machine (SVM)</td>\n",
              "      <td>70.0</td>\n",
              "    </tr>\n",
              "  </tbody>\n",
              "</table>\n",
              "</div>\n",
              "      <button class=\"colab-df-convert\" onclick=\"convertToInteractive('df-e12be01f-8154-4481-8b76-f7ba4a4c2b3b')\"\n",
              "              title=\"Convert this dataframe to an interactive table.\"\n",
              "              style=\"display:none;\">\n",
              "        \n",
              "  <svg xmlns=\"http://www.w3.org/2000/svg\" height=\"24px\"viewBox=\"0 0 24 24\"\n",
              "       width=\"24px\">\n",
              "    <path d=\"M0 0h24v24H0V0z\" fill=\"none\"/>\n",
              "    <path d=\"M18.56 5.44l.94 2.06.94-2.06 2.06-.94-2.06-.94-.94-2.06-.94 2.06-2.06.94zm-11 1L8.5 8.5l.94-2.06 2.06-.94-2.06-.94L8.5 2.5l-.94 2.06-2.06.94zm10 10l.94 2.06.94-2.06 2.06-.94-2.06-.94-.94-2.06-.94 2.06-2.06.94z\"/><path d=\"M17.41 7.96l-1.37-1.37c-.4-.4-.92-.59-1.43-.59-.52 0-1.04.2-1.43.59L10.3 9.45l-7.72 7.72c-.78.78-.78 2.05 0 2.83L4 21.41c.39.39.9.59 1.41.59.51 0 1.02-.2 1.41-.59l7.78-7.78 2.81-2.81c.8-.78.8-2.07 0-2.86zM5.41 20L4 18.59l7.72-7.72 1.47 1.35L5.41 20z\"/>\n",
              "  </svg>\n",
              "      </button>\n",
              "      \n",
              "  <style>\n",
              "    .colab-df-container {\n",
              "      display:flex;\n",
              "      flex-wrap:wrap;\n",
              "      gap: 12px;\n",
              "    }\n",
              "\n",
              "    .colab-df-convert {\n",
              "      background-color: #E8F0FE;\n",
              "      border: none;\n",
              "      border-radius: 50%;\n",
              "      cursor: pointer;\n",
              "      display: none;\n",
              "      fill: #1967D2;\n",
              "      height: 32px;\n",
              "      padding: 0 0 0 0;\n",
              "      width: 32px;\n",
              "    }\n",
              "\n",
              "    .colab-df-convert:hover {\n",
              "      background-color: #E2EBFA;\n",
              "      box-shadow: 0px 1px 2px rgba(60, 64, 67, 0.3), 0px 1px 3px 1px rgba(60, 64, 67, 0.15);\n",
              "      fill: #174EA6;\n",
              "    }\n",
              "\n",
              "    [theme=dark] .colab-df-convert {\n",
              "      background-color: #3B4455;\n",
              "      fill: #D2E3FC;\n",
              "    }\n",
              "\n",
              "    [theme=dark] .colab-df-convert:hover {\n",
              "      background-color: #434B5C;\n",
              "      box-shadow: 0px 1px 3px 1px rgba(0, 0, 0, 0.15);\n",
              "      filter: drop-shadow(0px 1px 2px rgba(0, 0, 0, 0.3));\n",
              "      fill: #FFFFFF;\n",
              "    }\n",
              "  </style>\n",
              "\n",
              "      <script>\n",
              "        const buttonEl =\n",
              "          document.querySelector('#df-e12be01f-8154-4481-8b76-f7ba4a4c2b3b button.colab-df-convert');\n",
              "        buttonEl.style.display =\n",
              "          google.colab.kernel.accessAllowed ? 'block' : 'none';\n",
              "\n",
              "        async function convertToInteractive(key) {\n",
              "          const element = document.querySelector('#df-e12be01f-8154-4481-8b76-f7ba4a4c2b3b');\n",
              "          const dataTable =\n",
              "            await google.colab.kernel.invokeFunction('convertToInteractive',\n",
              "                                                     [key], {});\n",
              "          if (!dataTable) return;\n",
              "\n",
              "          const docLinkHtml = 'Like what you see? Visit the ' +\n",
              "            '<a target=\"_blank\" href=https://colab.research.google.com/notebooks/data_table.ipynb>data table notebook</a>'\n",
              "            + ' to learn more about interactive tables.';\n",
              "          element.innerHTML = '';\n",
              "          dataTable['output_type'] = 'display_data';\n",
              "          await google.colab.output.renderOutput(dataTable, element);\n",
              "          const docLink = document.createElement('div');\n",
              "          docLink.innerHTML = docLinkHtml;\n",
              "          element.appendChild(docLink);\n",
              "        }\n",
              "      </script>\n",
              "    </div>\n",
              "  </div>\n",
              "  "
            ]
          },
          "metadata": {},
          "execution_count": 99
        }
      ]
    },
    {
      "cell_type": "code",
      "source": [
        "plt.style.use(\"seaborn\")\n",
        "\n",
        "x = ['Decision Tree Classifier', 'Random Forest Classifier', 'Naive Bayes','Support Vector Machine (SVM)']\n",
        "\n",
        "y = [tr_acc, rf_acc, gnb_acc, svm_acc]\n",
        "\n",
        "fig, ax = plt.subplots(figsize=(15,8))\n",
        "sns.barplot(x=x,y=y, palette='gist_rainbow');\n",
        "plt.ylabel('Model Accuracy')\n",
        "plt.xticks(rotation=40)\n",
        "plt.title('Model Comparison - Model Accuracy', fontsize=15, fontname='monospace', y=1.03);\n"
      ],
      "metadata": {
        "colab": {
          "base_uri": "https://localhost:8080/",
          "height": 600
        },
        "id": "GrJ6R4ISb4xT",
        "outputId": "2a66ff87-a2a2-4ca2-a436-69225c2edb20"
      },
      "execution_count": null,
      "outputs": [
        {
          "output_type": "display_data",
          "data": {
            "text/plain": [
              "<Figure size 1080x576 with 1 Axes>"
            ],
            "image/png": "[encoded data removed]"
          },
          "metadata": {}
        }
      ]
    }
  ]
}